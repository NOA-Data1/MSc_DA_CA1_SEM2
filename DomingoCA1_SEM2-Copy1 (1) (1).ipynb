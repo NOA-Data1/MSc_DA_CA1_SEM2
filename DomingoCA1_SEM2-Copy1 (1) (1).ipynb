{
 "cells": [
  {
   "cell_type": "markdown",
   "id": "5f467566",
   "metadata": {},
   "source": [
    "## Dataset: Maternal Health Risk\n",
    "\n",
    "### Licence of use\n",
    "\n",
    "- That dataset was collected from UCI Machine Learning Repository -https://archive.ics.uci.edu/dataset/863/maternal+health+risk\n",
    "\n",
    "- licence by Creative Commons Attribution 4.0 (CC BY 4.0) https://creativecommons.org/licenses/by/4.0/\n"
   ]
  },
  {
   "cell_type": "markdown",
   "id": "47b66311",
   "metadata": {},
   "source": [
    "## About the dataset\n",
    "\n",
    "- The Data has been collected from different hospitals, community clinics, maternal health cares from the rural areas of Bangladesh through the IoT based risk monitoring system.\n",
    "\n",
    "###  Attributes Description:\n",
    "\n",
    "- Age - Age in years when a woman is pregnant\n",
    "- SystolicBP - Upper value of Blood Pressure in mmHg\n",
    "- DiastolicBP - Lower value of Blood Pressure in mmHg\n",
    "- BS - Blood glucose levels is in terms of a molar concentration, mmol/L\n",
    "- BodyTemp - Body temperature in Fahrenheit\n",
    "- HeartRate - Resting heart rate in beats per minute\n",
    "- RiskLevel - Predicted Risk Intensity Level during pregnancy ['high risk', 'mid risk', 'low risk']"
   ]
  },
  {
   "cell_type": "code",
   "execution_count": 1,
   "id": "67ca7143",
   "metadata": {},
   "outputs": [
    {
     "data": {
      "text/html": [
       "\n",
       "        <div>\n",
       "            <p><b>SparkContext</b></p>\n",
       "\n",
       "            <p><a href=\"http://10.0.2.15:4040\">Spark UI</a></p>\n",
       "\n",
       "            <dl>\n",
       "              <dt>Version</dt>\n",
       "                <dd><code>v3.1.3</code></dd>\n",
       "              <dt>Master</dt>\n",
       "                <dd><code>local[*]</code></dd>\n",
       "              <dt>AppName</dt>\n",
       "                <dd><code>PySparkShell</code></dd>\n",
       "            </dl>\n",
       "        </div>\n",
       "        "
      ],
      "text/plain": [
       "<SparkContext master=local[*] appName=PySparkShell>"
      ]
     },
     "execution_count": 1,
     "metadata": {},
     "output_type": "execute_result"
    }
   ],
   "source": [
    "sc"
   ]
  },
  {
   "cell_type": "markdown",
   "id": "6d193436",
   "metadata": {},
   "source": [
    "### Practical Big Data (PySparkSQL) - Part 1"
   ]
  },
  {
   "cell_type": "code",
   "execution_count": 2,
   "id": "5c999a6b",
   "metadata": {},
   "outputs": [],
   "source": [
    "# Load the libraries\n",
    "import os\n",
    "import numpy as np\n",
    "import pandas as pd\n",
    "from pyspark.sql.types import *\n",
    "from pyspark.ml import Pipeline\n",
    "from pyspark.sql import functions as f\n",
    "from pyspark.sql.functions import udf, StringType\n",
    "from pyspark.sql import SparkSession, functions as F\n",
    "from pyspark.ml.evaluation import MulticlassClassificationEvaluator\n",
    "from pyspark.ml.classification import MultilayerPerceptronClassifier\n",
    "from pyspark.ml.feature import OneHotEncoder, VectorAssembler, StringIndexer"
   ]
  },
  {
   "cell_type": "code",
   "execution_count": 3,
   "id": "2aa3384e",
   "metadata": {},
   "outputs": [],
   "source": [
    "# Due the different version of python can be found and each machine or libriries \n",
    "# Avoid warnigs\n",
    "import warnings\n",
    "warnings.filterwarnings(\"ignore\")"
   ]
  },
  {
   "cell_type": "code",
   "execution_count": 4,
   "id": "b332beca",
   "metadata": {},
   "outputs": [],
   "source": [
    "import pyspark\n",
    "from pyspark.sql import SparkSession\n",
    "\n",
    "# Criar SparkSession\n",
    "spark = SparkSession.builder \\\n",
    "    .appName(\"Análise de Dados de Saúde Materna\") \\\n",
    "    .getOrCreate()"
   ]
  },
  {
   "cell_type": "code",
   "execution_count": 5,
   "id": "427c2f68",
   "metadata": {},
   "outputs": [
    {
     "name": "stderr",
     "output_type": "stream",
     "text": [
      "                                                                                \r"
     ]
    }
   ],
   "source": [
    "# Caminho para o dataset\n",
    "csv_file = \"/user/user1/Maternal_Health_Risk.csv\"\n",
    "\n",
    "# Carregar dados e criar uma visão temporária\n",
    "df = spark.read.format(\"csv\") \\\n",
    "    .option(\"inferSchema\", \"true\") \\\n",
    "    .option(\"header\", \"true\") \\\n",
    "    .load(csv_file)\n",
    "df.createOrReplaceTempView(\"rawdata\")"
   ]
  },
  {
   "cell_type": "code",
   "execution_count": 6,
   "id": "7863afab",
   "metadata": {},
   "outputs": [
    {
     "name": "stdout",
     "output_type": "stream",
     "text": [
      "root\n",
      " |-- Age: integer (nullable = true)\n",
      " |-- SystolicBP: integer (nullable = true)\n",
      " |-- DiastolicBP: integer (nullable = true)\n",
      " |-- BS: double (nullable = true)\n",
      " |-- BodyTemp: double (nullable = true)\n",
      " |-- HeartRate: integer (nullable = true)\n",
      " |-- RiskLevel: string (nullable = true)\n",
      "\n"
     ]
    }
   ],
   "source": [
    "# Visualizar o esquema do DataFrame\n",
    "df.printSchema()"
   ]
  },
  {
   "cell_type": "markdown",
   "id": "437af6e6",
   "metadata": {},
   "source": [
    "# 2. Data Understanding Phase"
   ]
  },
  {
   "cell_type": "code",
   "execution_count": 7,
   "id": "68d93114",
   "metadata": {},
   "outputs": [
    {
     "name": "stderr",
     "output_type": "stream",
     "text": [
      "[Stage 2:>                                                          (0 + 1) / 1]\r"
     ]
    },
    {
     "name": "stdout",
     "output_type": "stream",
     "text": [
      "+---+----------+-----------+----+--------+---------+---------+\n",
      "|Age|SystolicBP|DiastolicBP|  BS|BodyTemp|HeartRate|RiskLevel|\n",
      "+---+----------+-----------+----+--------+---------+---------+\n",
      "| 25|       130|         80|15.0|    98.0|       86|high risk|\n",
      "| 35|       140|         90|13.0|    98.0|       70|high risk|\n",
      "| 29|        90|         70| 8.0|   100.0|       80|high risk|\n",
      "| 30|       140|         85| 7.0|    98.0|       70|high risk|\n",
      "| 35|       120|         60| 6.1|    98.0|       76| low risk|\n",
      "| 23|       140|         80|7.01|    98.0|       70|high risk|\n",
      "| 23|       130|         70|7.01|    98.0|       78| mid risk|\n",
      "| 35|        85|         60|11.0|   102.0|       86|high risk|\n",
      "| 32|       120|         90| 6.9|    98.0|       70| mid risk|\n",
      "| 42|       130|         80|18.0|    98.0|       70|high risk|\n",
      "+---+----------+-----------+----+--------+---------+---------+\n",
      "\n"
     ]
    },
    {
     "name": "stderr",
     "output_type": "stream",
     "text": [
      "                                                                                \r"
     ]
    }
   ],
   "source": [
    "# Executar uma consulta SQL para selecionar as primeiras 10 linhas da visão temporária\n",
    "data = spark.sql(\"SELECT * FROM rawdata LIMIT 10\")\n",
    "\n",
    "# Mostrar os resultados da consulta diretamente\n",
    "data.show()"
   ]
  },
  {
   "cell_type": "code",
   "execution_count": 8,
   "id": "3c94ac11",
   "metadata": {},
   "outputs": [
    {
     "name": "stdout",
     "output_type": "stream",
     "text": [
      "+---------+\n",
      "|TotalRows|\n",
      "+---------+\n",
      "|     1014|\n",
      "+---------+\n",
      "\n",
      "Número de Colunas: 7\n"
     ]
    }
   ],
   "source": [
    "# Contar linhas\n",
    "num_rows = spark.sql(\"SELECT COUNT(*) as TotalRows FROM rawdata\").show()\n",
    "\n",
    "# Contar colunas usando o DataFrame PySpark (não SQL diretamente)\n",
    "num_columns = len(df.columns)\n",
    "print(f\"Número de Colunas: {num_columns}\")"
   ]
  },
  {
   "cell_type": "code",
   "execution_count": 10,
   "id": "a6e29e6d",
   "metadata": {},
   "outputs": [
    {
     "name": "stdout",
     "output_type": "stream",
     "text": [
      "+---+----------+-----------+---+--------+---------+---------+\n",
      "|Age|SystolicBP|DiastolicBP| BS|BodyTemp|HeartRate|RiskLevel|\n",
      "+---+----------+-----------+---+--------+---------+---------+\n",
      "|  0|         0|          0|  0|       0|        0|        0|\n",
      "+---+----------+-----------+---+--------+---------+---------+\n",
      "\n"
     ]
    }
   ],
   "source": [
    "from pyspark.sql.functions import col, sum as _sum, when\n",
    "\n",
    "# Supondo que 'df' seja o seu DataFrame do PySpark\n",
    "# Listando o número de valores faltantes por coluna\n",
    "df.select([_sum(when(col(c).isNull(), 1).otherwise(0)).alias(c) for c in df.columns]).show()"
   ]
  },
  {
   "cell_type": "code",
   "execution_count": 11,
   "id": "56e05145",
   "metadata": {},
   "outputs": [
    {
     "name": "stderr",
     "output_type": "stream",
     "text": [
      "                                                                                \r"
     ]
    },
    {
     "name": "stdout",
     "output_type": "stream",
     "text": [
      "   RiskLevel  Count\n",
      "0   low risk    406\n",
      "1   mid risk    336\n",
      "2  high risk    272\n"
     ]
    }
   ],
   "source": [
    "# Coletando dados para visualização\n",
    "risk_level_distribution = spark.sql(\"SELECT RiskLevel, COUNT(*) as Count FROM rawdata GROUP BY RiskLevel\").toPandas()\n",
    "\n",
    "# Verificar os dados coletados\n",
    "print(risk_level_distribution)"
   ]
  },
  {
   "cell_type": "code",
   "execution_count": 12,
   "id": "4f50abb4",
   "metadata": {},
   "outputs": [
    {
     "data": {
      "image/png": "[encoded data removed]",
      "text/plain": [
       "<Figure size 720x432 with 1 Axes>"
      ]
     },
     "metadata": {
      "needs_background": "light"
     },
     "output_type": "display_data"
    }
   ],
   "source": [
    "import matplotlib.pyplot as plt\n",
    "\n",
    "# Criação do gráfico\n",
    "plt.figure(figsize=(10, 6))\n",
    "plt.bar(risk_level_distribution['RiskLevel'], risk_level_distribution['Count'], color='skyblue')\n",
    "plt.xlabel('Nível de Risco')\n",
    "plt.ylabel('Contagem')\n",
    "plt.title('Distribuição do Nível de Risco')\n",
    "plt.xticks(rotation=45)\n",
    "plt.show()"
   ]
  },
  {
   "cell_type": "code",
   "execution_count": 13,
   "id": "273a4180",
   "metadata": {},
   "outputs": [
    {
     "name": "stdout",
     "output_type": "stream",
     "text": [
      "+---+----------+-----------+---+--------+---------+---------+\n",
      "|Age|SystolicBP|DiastolicBP| BS|BodyTemp|HeartRate|RiskLevel|\n",
      "+---+----------+-----------+---+--------+---------+---------+\n",
      "|  0|         0|          0|  0|       0|        0|        0|\n",
      "+---+----------+-----------+---+--------+---------+---------+\n",
      "\n"
     ]
    }
   ],
   "source": [
    "from pyspark.sql.functions import col, count, when\n",
    "\n",
    "# número de valores faltantes por coluna\n",
    "df.select([count(when(col(c).isNull(), c)).alias(c) for c in df.columns]).show()"
   ]
  },
  {
   "cell_type": "code",
   "execution_count": 14,
   "id": "96436cb1",
   "metadata": {},
   "outputs": [
    {
     "name": "stderr",
     "output_type": "stream",
     "text": [
      "                                                                                \r"
     ]
    }
   ],
   "source": [
    "pressure_risk = spark.sql(\"\"\"\n",
    "SELECT \n",
    "    RiskLevel, \n",
    "    AVG(SystolicBP) AS AvgSystolicBP, \n",
    "    AVG(DiastolicBP) AS AvgDiastolicBP \n",
    "FROM rawdata \n",
    "GROUP BY RiskLevel\n",
    "\"\"\").toPandas()"
   ]
  },
  {
   "cell_type": "code",
   "execution_count": 15,
   "id": "abd1b141",
   "metadata": {},
   "outputs": [
    {
     "data": {
      "image/png": "[encoded data removed]",
      "text/plain": [
       "<Figure size 432x288 with 1 Axes>"
      ]
     },
     "metadata": {
      "needs_background": "light"
     },
     "output_type": "display_data"
    }
   ],
   "source": [
    "import matplotlib.pyplot as plt\n",
    "import numpy as np\n",
    "\n",
    "# Largura das barras\n",
    "barWidth = 0.45\n",
    "\n",
    "# Configurando a posição das barras\n",
    "r1 = np.arange(len(pressure_risk['RiskLevel']))\n",
    "r2 = [x + barWidth for x in r1]\n",
    "\n",
    "# Criando as barras\n",
    "plt.bar(r1, pressure_risk['AvgSystolicBP'], color='blue', width=barWidth, edgecolor='grey', label='Sistólica')\n",
    "plt.bar(r2, pressure_risk['AvgDiastolicBP'], color='red', width=barWidth, edgecolor='grey', label='Diastólica')\n",
    "\n",
    "# Adicionando legendas às barras\n",
    "plt.xlabel('Nível de Risco', fontweight='bold')\n",
    "plt.xticks([r + barWidth for r in range(len(pressure_risk['RiskLevel']))], pressure_risk['RiskLevel'])\n",
    "\n",
    "# Criando a legenda e mostrando o gráfico\n",
    "plt.legend()\n",
    "plt.show()\n"
   ]
  },
  {
   "cell_type": "markdown",
   "id": "672fa0eb",
   "metadata": {},
   "source": [
    "Este código primeiro configura o ambiente de plotagem determinando a largura das barras e a posição delas no gráfico. Depois, plota duas séries de dados: uma para a pressão sistólica média e outra para a diastólica média, cada uma associada a um nível de risco diferente. A legenda e os rótulos dos eixos ajudam a tornar o gráfico mais legível.\n",
    "\n",
    "Esse gráfico proporcionará uma visualização clara das diferenças nas médias de pressão sistólica e diastólica entre os diferentes níveis de risco. Se precisar de mais ajuda ou tiver outras perguntas, estou aqui!"
   ]
  },
  {
   "cell_type": "code",
   "execution_count": 16,
   "id": "ed0f1e82",
   "metadata": {},
   "outputs": [
    {
     "name": "stderr",
     "output_type": "stream",
     "text": [
      "                                                                                \r"
     ]
    }
   ],
   "source": [
    "age_risk = spark.sql(\"\"\"\n",
    "SELECT \n",
    "    RiskLevel, \n",
    "    AVG(Age) AS AvgAge \n",
    "FROM rawdata \n",
    "GROUP BY RiskLevel\n",
    "ORDER BY CASE \n",
    "    WHEN RiskLevel = 'low risk' THEN 1\n",
    "    WHEN RiskLevel = 'mid risk' THEN 2\n",
    "    WHEN RiskLevel = 'high risk' THEN 3\n",
    "    ELSE 4\n",
    "END\n",
    "\"\"\").toPandas()"
   ]
  },
  {
   "cell_type": "code",
   "execution_count": 17,
   "id": "5a278412",
   "metadata": {},
   "outputs": [
    {
     "data": {
      "image/png": "[encoded data removed]",
      "text/plain": [
       "<Figure size 576x432 with 1 Axes>"
      ]
     },
     "metadata": {
      "needs_background": "light"
     },
     "output_type": "display_data"
    }
   ],
   "source": [
    "import matplotlib.pyplot as plt\n",
    "\n",
    "# Criando o gráfico de barras\n",
    "plt.figure(figsize=(8, 6))\n",
    "plt.bar(age_risk['RiskLevel'], age_risk['AvgAge'], color='skyblue')\n",
    "\n",
    "# Adicionando títulos e rótulos\n",
    "plt.title('Idade Média por Nível de Risco')\n",
    "plt.xlabel('Nível de Risco')\n",
    "plt.ylabel('Idade Média')\n",
    "plt.xticks(rotation=45) # Rotação dos rótulos do eixo X para melhor leitura\n",
    "\n",
    "# Mostrando o gráfico\n",
    "plt.show()"
   ]
  },
  {
   "cell_type": "markdown",
   "id": "3101cbac",
   "metadata": {},
   "source": [
    "Este gráfico oferece uma visualização clara de como a idade média varia entre os diferentes níveis de risco. Isso pode ajudar a identificar se há uma tendência de idade associada com o nível de risco."
   ]
  },
  {
   "cell_type": "markdown",
   "id": "07791400",
   "metadata": {},
   "source": [
    "- Rede Neural Artificial (ANN) utilizando TensorFlow/Keras "
   ]
  },
  {
   "cell_type": "code",
   "execution_count": 25,
   "id": "a089247b",
   "metadata": {},
   "outputs": [],
   "source": [
    "import tensorflow as tf\n",
    "from tensorflow.keras.models import Sequential\n",
    "from tensorflow.keras.layers import Dense\n",
    "\n",
    "# Determinar o número de características de entrada\n",
    "n_features = X_train_scaled.shape[1]\n",
    "\n",
    "# Criar modelo sequencial\n",
    "model = Sequential()\n",
    "model.add(Dense(10, activation='relu', input_shape=(n_features,)))\n",
    "model.add(Dense(8, activation='relu'))\n",
    "# Se RiskLevel é binário usamos 1 neurônio de saída com sigmoid, caso contrário ajuste para multiclasse\n",
    "model.add(Dense(1, activation='sigmoid'))  # Use 'softmax' e ajuste o número de neurônios se for multiclasse\n",
    "\n",
    "# Compilar o modelo\n",
    "model.compile(optimizer='adam', loss='binary_crossentropy', metrics=['accuracy'])  # Ajuste conforme necessário"
   ]
  },
  {
   "cell_type": "code",
   "execution_count": 33,
   "id": "19f89539",
   "metadata": {},
   "outputs": [
    {
     "name": "stdout",
     "output_type": "stream",
     "text": [
      "Epoch 1/140\n",
      "\u001b[1m21/21\u001b[0m \u001b[32m━━━━━━━━━━━━━━━━━━━━\u001b[0m\u001b[37m\u001b[0m \u001b[1m0s\u001b[0m 12ms/step - accuracy: 0.5670 - loss: -5724.9214 - val_accuracy: 0.5215 - val_loss: -8968.9521\n",
      "Epoch 2/140\n",
      "\u001b[1m21/21\u001b[0m \u001b[32m━━━━━━━━━━━━━━━━━━━━\u001b[0m\u001b[37m\u001b[0m \u001b[1m0s\u001b[0m 12ms/step - accuracy: 0.5363 - loss: -6029.5269 - val_accuracy: 0.5215 - val_loss: -9023.9229\n",
      "Epoch 3/140\n",
      "\u001b[1m21/21\u001b[0m \u001b[32m━━━━━━━━━━━━━━━━━━━━\u001b[0m\u001b[37m\u001b[0m \u001b[1m0s\u001b[0m 9ms/step - accuracy: 0.5557 - loss: -6492.8540 - val_accuracy: 0.5215 - val_loss: -9081.0381\n",
      "Epoch 4/140\n",
      "\u001b[1m21/21\u001b[0m \u001b[32m━━━━━━━━━━━━━━━━━━━━\u001b[0m\u001b[37m\u001b[0m \u001b[1m0s\u001b[0m 14ms/step - accuracy: 0.5294 - loss: -6838.6309 - val_accuracy: 0.5215 - val_loss: -9140.2803\n",
      "Epoch 5/140\n",
      "\u001b[1m21/21\u001b[0m \u001b[32m━━━━━━━━━━━━━━━━━━━━\u001b[0m\u001b[37m\u001b[0m \u001b[1m0s\u001b[0m 8ms/step - accuracy: 0.5719 - loss: -6495.8403 - val_accuracy: 0.5215 - val_loss: -9195.9297\n",
      "Epoch 6/140\n",
      "\u001b[1m21/21\u001b[0m \u001b[32m━━━━━━━━━━━━━━━━━━━━\u001b[0m\u001b[37m\u001b[0m \u001b[1m0s\u001b[0m 9ms/step - accuracy: 0.5578 - loss: -6152.5918 - val_accuracy: 0.5215 - val_loss: -9250.5283\n",
      "Epoch 7/140\n",
      "\u001b[1m21/21\u001b[0m \u001b[32m━━━━━━━━━━━━━━━━━━━━\u001b[0m\u001b[37m\u001b[0m \u001b[1m0s\u001b[0m 11ms/step - accuracy: 0.5900 - loss: -5414.0645 - val_accuracy: 0.5215 - val_loss: -9307.5029\n",
      "Epoch 8/140\n",
      "\u001b[1m21/21\u001b[0m \u001b[32m━━━━━━━━━━━━━━━━━━━━\u001b[0m\u001b[37m\u001b[0m \u001b[1m0s\u001b[0m 8ms/step - accuracy: 0.5431 - loss: -6368.9839 - val_accuracy: 0.5215 - val_loss: -9366.2061\n",
      "Epoch 9/140\n",
      "\u001b[1m21/21\u001b[0m \u001b[32m━━━━━━━━━━━━━━━━━━━━\u001b[0m\u001b[37m\u001b[0m \u001b[1m0s\u001b[0m 8ms/step - accuracy: 0.5653 - loss: -6942.2354 - val_accuracy: 0.5215 - val_loss: -9422.7041\n",
      "Epoch 10/140\n",
      "\u001b[1m21/21\u001b[0m \u001b[32m━━━━━━━━━━━━━━━━━━━━\u001b[0m\u001b[37m\u001b[0m \u001b[1m0s\u001b[0m 8ms/step - accuracy: 0.5820 - loss: -6432.8633 - val_accuracy: 0.5215 - val_loss: -9480.3467\n",
      "Epoch 11/140\n",
      "\u001b[1m21/21\u001b[0m \u001b[32m━━━━━━━━━━━━━━━━━━━━\u001b[0m\u001b[37m\u001b[0m \u001b[1m0s\u001b[0m 7ms/step - accuracy: 0.5513 - loss: -7458.2007 - val_accuracy: 0.5215 - val_loss: -9539.8975\n",
      "Epoch 12/140\n",
      "\u001b[1m21/21\u001b[0m \u001b[32m━━━━━━━━━━━━━━━━━━━━\u001b[0m\u001b[37m\u001b[0m \u001b[1m0s\u001b[0m 11ms/step - accuracy: 0.5288 - loss: -7584.0073 - val_accuracy: 0.5215 - val_loss: -9597.7900\n",
      "Epoch 13/140\n",
      "\u001b[1m21/21\u001b[0m \u001b[32m━━━━━━━━━━━━━━━━━━━━\u001b[0m\u001b[37m\u001b[0m \u001b[1m0s\u001b[0m 11ms/step - accuracy: 0.5442 - loss: -6968.5044 - val_accuracy: 0.5215 - val_loss: -9655.5293\n",
      "Epoch 14/140\n",
      "\u001b[1m21/21\u001b[0m \u001b[32m━━━━━━━━━━━━━━━━━━━━\u001b[0m\u001b[37m\u001b[0m \u001b[1m0s\u001b[0m 10ms/step - accuracy: 0.5392 - loss: -7026.9507 - val_accuracy: 0.5215 - val_loss: -9713.6055\n",
      "Epoch 15/140\n",
      "\u001b[1m21/21\u001b[0m \u001b[32m━━━━━━━━━━━━━━━━━━━━\u001b[0m\u001b[37m\u001b[0m \u001b[1m0s\u001b[0m 10ms/step - accuracy: 0.5537 - loss: -5713.5967 - val_accuracy: 0.5215 - val_loss: -9771.6514\n",
      "Epoch 16/140\n",
      "\u001b[1m21/21\u001b[0m \u001b[32m━━━━━━━━━━━━━━━━━━━━\u001b[0m\u001b[37m\u001b[0m \u001b[1m0s\u001b[0m 11ms/step - accuracy: 0.5495 - loss: -6679.5161 - val_accuracy: 0.5215 - val_loss: -9831.7480\n",
      "Epoch 17/140\n",
      "\u001b[1m21/21\u001b[0m \u001b[32m━━━━━━━━━━━━━━━━━━━━\u001b[0m\u001b[37m\u001b[0m \u001b[1m0s\u001b[0m 12ms/step - accuracy: 0.5200 - loss: -6893.0552 - val_accuracy: 0.5215 - val_loss: -9895.6396\n",
      "Epoch 18/140\n",
      "\u001b[1m21/21\u001b[0m \u001b[32m━━━━━━━━━━━━━━━━━━━━\u001b[0m\u001b[37m\u001b[0m \u001b[1m0s\u001b[0m 8ms/step - accuracy: 0.5231 - loss: -6124.2671 - val_accuracy: 0.5215 - val_loss: -9952.1104\n",
      "Epoch 19/140\n",
      "\u001b[1m21/21\u001b[0m \u001b[32m━━━━━━━━━━━━━━━━━━━━\u001b[0m\u001b[37m\u001b[0m \u001b[1m0s\u001b[0m 8ms/step - accuracy: 0.5427 - loss: -6923.1055 - val_accuracy: 0.5215 - val_loss: -10008.0938\n",
      "Epoch 20/140\n",
      "\u001b[1m21/21\u001b[0m \u001b[32m━━━━━━━━━━━━━━━━━━━━\u001b[0m\u001b[37m\u001b[0m \u001b[1m0s\u001b[0m 11ms/step - accuracy: 0.5711 - loss: -5599.9917 - val_accuracy: 0.5215 - val_loss: -10059.3486\n",
      "Epoch 21/140\n",
      "\u001b[1m21/21\u001b[0m \u001b[32m━━━━━━━━━━━━━━━━━━━━\u001b[0m\u001b[37m\u001b[0m \u001b[1m0s\u001b[0m 11ms/step - accuracy: 0.5816 - loss: -6209.6436 - val_accuracy: 0.5215 - val_loss: -10124.9248\n",
      "Epoch 22/140\n",
      "\u001b[1m21/21\u001b[0m \u001b[32m━━━━━━━━━━━━━━━━━━━━\u001b[0m\u001b[37m\u001b[0m \u001b[1m0s\u001b[0m 11ms/step - accuracy: 0.5608 - loss: -7482.3716 - val_accuracy: 0.5215 - val_loss: -10186.8193\n",
      "Epoch 23/140\n",
      "\u001b[1m21/21\u001b[0m \u001b[32m━━━━━━━━━━━━━━━━━━━━\u001b[0m\u001b[37m\u001b[0m \u001b[1m0s\u001b[0m 10ms/step - accuracy: 0.5767 - loss: -6611.5464 - val_accuracy: 0.5215 - val_loss: -10242.5703\n",
      "Epoch 24/140\n",
      "\u001b[1m21/21\u001b[0m \u001b[32m━━━━━━━━━━━━━━━━━━━━\u001b[0m\u001b[37m\u001b[0m \u001b[1m0s\u001b[0m 9ms/step - accuracy: 0.5445 - loss: -7940.1572 - val_accuracy: 0.5215 - val_loss: -10306.6465\n",
      "Epoch 25/140\n",
      "\u001b[1m21/21\u001b[0m \u001b[32m━━━━━━━━━━━━━━━━━━━━\u001b[0m\u001b[37m\u001b[0m \u001b[1m0s\u001b[0m 5ms/step - accuracy: 0.5672 - loss: -7469.3086 - val_accuracy: 0.5215 - val_loss: -10364.0557\n",
      "Epoch 26/140\n",
      "\u001b[1m21/21\u001b[0m \u001b[32m━━━━━━━━━━━━━━━━━━━━\u001b[0m\u001b[37m\u001b[0m \u001b[1m0s\u001b[0m 7ms/step - accuracy: 0.5516 - loss: -7446.2524 - val_accuracy: 0.5215 - val_loss: -10424.0166\n",
      "Epoch 27/140\n",
      "\u001b[1m21/21\u001b[0m \u001b[32m━━━━━━━━━━━━━━━━━━━━\u001b[0m\u001b[37m\u001b[0m \u001b[1m0s\u001b[0m 6ms/step - accuracy: 0.5516 - loss: -6551.0298 - val_accuracy: 0.5215 - val_loss: -10480.9561\n",
      "Epoch 28/140\n",
      "\u001b[1m21/21\u001b[0m \u001b[32m━━━━━━━━━━━━━━━━━━━━\u001b[0m\u001b[37m\u001b[0m \u001b[1m0s\u001b[0m 6ms/step - accuracy: 0.5398 - loss: -7107.3115 - val_accuracy: 0.5215 - val_loss: -10541.7461\n",
      "Epoch 29/140\n",
      "\u001b[1m21/21\u001b[0m \u001b[32m━━━━━━━━━━━━━━━━━━━━\u001b[0m\u001b[37m\u001b[0m \u001b[1m0s\u001b[0m 12ms/step - accuracy: 0.5452 - loss: -7621.1348 - val_accuracy: 0.5215 - val_loss: -10601.5498\n",
      "Epoch 30/140\n",
      "\u001b[1m21/21\u001b[0m \u001b[32m━━━━━━━━━━━━━━━━━━━━\u001b[0m\u001b[37m\u001b[0m \u001b[1m0s\u001b[0m 8ms/step - accuracy: 0.5171 - loss: -6477.2856 - val_accuracy: 0.5215 - val_loss: -10661.7607\n",
      "Epoch 31/140\n",
      "\u001b[1m21/21\u001b[0m \u001b[32m━━━━━━━━━━━━━━━━━━━━\u001b[0m\u001b[37m\u001b[0m \u001b[1m0s\u001b[0m 7ms/step - accuracy: 0.5761 - loss: -6970.2734 - val_accuracy: 0.5215 - val_loss: -10724.6992\n",
      "Epoch 32/140\n",
      "\u001b[1m21/21\u001b[0m \u001b[32m━━━━━━━━━━━━━━━━━━━━\u001b[0m\u001b[37m\u001b[0m \u001b[1m0s\u001b[0m 10ms/step - accuracy: 0.5677 - loss: -6737.3140 - val_accuracy: 0.5215 - val_loss: -10785.9492\n",
      "Epoch 33/140\n",
      "\u001b[1m21/21\u001b[0m \u001b[32m━━━━━━━━━━━━━━━━━━━━\u001b[0m\u001b[37m\u001b[0m \u001b[1m0s\u001b[0m 9ms/step - accuracy: 0.5622 - loss: -7452.3872 - val_accuracy: 0.5215 - val_loss: -10845.6133\n",
      "Epoch 34/140\n",
      "\u001b[1m21/21\u001b[0m \u001b[32m━━━━━━━━━━━━━━━━━━━━\u001b[0m\u001b[37m\u001b[0m \u001b[1m0s\u001b[0m 7ms/step - accuracy: 0.5395 - loss: -6836.9629 - val_accuracy: 0.5215 - val_loss: -10912.3086\n",
      "Epoch 35/140\n",
      "\u001b[1m21/21\u001b[0m \u001b[32m━━━━━━━━━━━━━━━━━━━━\u001b[0m\u001b[37m\u001b[0m \u001b[1m0s\u001b[0m 6ms/step - accuracy: 0.5432 - loss: -7535.5137 - val_accuracy: 0.5215 - val_loss: -10976.0889\n",
      "Epoch 36/140\n",
      "\u001b[1m21/21\u001b[0m \u001b[32m━━━━━━━━━━━━━━━━━━━━\u001b[0m\u001b[37m\u001b[0m \u001b[1m0s\u001b[0m 7ms/step - accuracy: 0.5360 - loss: -7648.6426 - val_accuracy: 0.5215 - val_loss: -11041.2656\n",
      "Epoch 37/140\n",
      "\u001b[1m21/21\u001b[0m \u001b[32m━━━━━━━━━━━━━━━━━━━━\u001b[0m\u001b[37m\u001b[0m \u001b[1m0s\u001b[0m 6ms/step - accuracy: 0.5680 - loss: -6699.2090 - val_accuracy: 0.5215 - val_loss: -11104.7061\n",
      "Epoch 38/140\n",
      "\u001b[1m21/21\u001b[0m \u001b[32m━━━━━━━━━━━━━━━━━━━━\u001b[0m\u001b[37m\u001b[0m \u001b[1m0s\u001b[0m 6ms/step - accuracy: 0.5528 - loss: -7471.7720 - val_accuracy: 0.5215 - val_loss: -11169.6953\n",
      "Epoch 39/140\n",
      "\u001b[1m21/21\u001b[0m \u001b[32m━━━━━━━━━━━━━━━━━━━━\u001b[0m\u001b[37m\u001b[0m \u001b[1m0s\u001b[0m 7ms/step - accuracy: 0.5248 - loss: -8291.2109 - val_accuracy: 0.5215 - val_loss: -11233.5186\n",
      "Epoch 40/140\n",
      "\u001b[1m21/21\u001b[0m \u001b[32m━━━━━━━━━━━━━━━━━━━━\u001b[0m\u001b[37m\u001b[0m \u001b[1m0s\u001b[0m 8ms/step - accuracy: 0.5459 - loss: -8031.6108 - val_accuracy: 0.5215 - val_loss: -11297.1846\n",
      "Epoch 41/140\n",
      "\u001b[1m21/21\u001b[0m \u001b[32m━━━━━━━━━━━━━━━━━━━━\u001b[0m\u001b[37m\u001b[0m \u001b[1m0s\u001b[0m 9ms/step - accuracy: 0.5554 - loss: -7544.8457 - val_accuracy: 0.5215 - val_loss: -11361.4170\n",
      "Epoch 42/140\n",
      "\u001b[1m21/21\u001b[0m \u001b[32m━━━━━━━━━━━━━━━━━━━━\u001b[0m\u001b[37m\u001b[0m \u001b[1m0s\u001b[0m 6ms/step - accuracy: 0.5845 - loss: -6712.3721 - val_accuracy: 0.5215 - val_loss: -11425.7109\n",
      "Epoch 43/140\n",
      "\u001b[1m21/21\u001b[0m \u001b[32m━━━━━━━━━━━━━━━━━━━━\u001b[0m\u001b[37m\u001b[0m \u001b[1m0s\u001b[0m 6ms/step - accuracy: 0.5688 - loss: -9027.5420 - val_accuracy: 0.5215 - val_loss: -11490.1016\n",
      "Epoch 44/140\n",
      "\u001b[1m21/21\u001b[0m \u001b[32m━━━━━━━━━━━━━━━━━━━━\u001b[0m\u001b[37m\u001b[0m \u001b[1m0s\u001b[0m 10ms/step - accuracy: 0.5448 - loss: -6849.4077 - val_accuracy: 0.5215 - val_loss: -11551.9170\n",
      "Epoch 45/140\n",
      "\u001b[1m21/21\u001b[0m \u001b[32m━━━━━━━━━━━━━━━━━━━━\u001b[0m\u001b[37m\u001b[0m \u001b[1m0s\u001b[0m 9ms/step - accuracy: 0.5769 - loss: -8480.1309 - val_accuracy: 0.5215 - val_loss: -11618.2256\n",
      "Epoch 46/140\n",
      "\u001b[1m21/21\u001b[0m \u001b[32m━━━━━━━━━━━━━━━━━━━━\u001b[0m\u001b[37m\u001b[0m \u001b[1m0s\u001b[0m 7ms/step - accuracy: 0.5556 - loss: -8095.6543 - val_accuracy: 0.5215 - val_loss: -11681.5928\n",
      "Epoch 47/140\n",
      "\u001b[1m21/21\u001b[0m \u001b[32m━━━━━━━━━━━━━━━━━━━━\u001b[0m\u001b[37m\u001b[0m \u001b[1m0s\u001b[0m 7ms/step - accuracy: 0.5534 - loss: -8051.1787 - val_accuracy: 0.5215 - val_loss: -11748.5342\n",
      "Epoch 48/140\n",
      "\u001b[1m21/21\u001b[0m \u001b[32m━━━━━━━━━━━━━━━━━━━━\u001b[0m\u001b[37m\u001b[0m \u001b[1m0s\u001b[0m 7ms/step - accuracy: 0.5887 - loss: -5901.1821 - val_accuracy: 0.5215 - val_loss: -11810.3564\n",
      "Epoch 49/140\n",
      "\u001b[1m21/21\u001b[0m \u001b[32m━━━━━━━━━━━━━━━━━━━━\u001b[0m\u001b[37m\u001b[0m \u001b[1m0s\u001b[0m 5ms/step - accuracy: 0.5562 - loss: -8336.1875 - val_accuracy: 0.5215 - val_loss: -11882.7217\n",
      "Epoch 50/140\n",
      "\u001b[1m21/21\u001b[0m \u001b[32m━━━━━━━━━━━━━━━━━━━━\u001b[0m\u001b[37m\u001b[0m \u001b[1m0s\u001b[0m 7ms/step - accuracy: 0.5685 - loss: -7643.1548 - val_accuracy: 0.5215 - val_loss: -11950.6670\n",
      "Epoch 51/140\n",
      "\u001b[1m21/21\u001b[0m \u001b[32m━━━━━━━━━━━━━━━━━━━━\u001b[0m\u001b[37m\u001b[0m \u001b[1m0s\u001b[0m 7ms/step - accuracy: 0.5531 - loss: -9255.9062 - val_accuracy: 0.5215 - val_loss: -12016.4990\n",
      "Epoch 52/140\n",
      "\u001b[1m21/21\u001b[0m \u001b[32m━━━━━━━━━━━━━━━━━━━━\u001b[0m\u001b[37m\u001b[0m \u001b[1m0s\u001b[0m 5ms/step - accuracy: 0.5675 - loss: -7891.5161 - val_accuracy: 0.5215 - val_loss: -12081.6807\n",
      "Epoch 53/140\n",
      "\u001b[1m21/21\u001b[0m \u001b[32m━━━━━━━━━━━━━━━━━━━━\u001b[0m\u001b[37m\u001b[0m \u001b[1m0s\u001b[0m 5ms/step - accuracy: 0.5594 - loss: -8129.7290 - val_accuracy: 0.5215 - val_loss: -12149.2373\n",
      "Epoch 54/140\n",
      "\u001b[1m21/21\u001b[0m \u001b[32m━━━━━━━━━━━━━━━━━━━━\u001b[0m\u001b[37m\u001b[0m \u001b[1m0s\u001b[0m 12ms/step - accuracy: 0.5619 - loss: -8704.6611 - val_accuracy: 0.5215 - val_loss: -12219.3594\n",
      "Epoch 55/140\n",
      "\u001b[1m21/21\u001b[0m \u001b[32m━━━━━━━━━━━━━━━━━━━━\u001b[0m\u001b[37m\u001b[0m \u001b[1m0s\u001b[0m 6ms/step - accuracy: 0.5645 - loss: -9100.0547 - val_accuracy: 0.5215 - val_loss: -12290.8662\n",
      "Epoch 56/140\n",
      "\u001b[1m21/21\u001b[0m \u001b[32m━━━━━━━━━━━━━━━━━━━━\u001b[0m\u001b[37m\u001b[0m \u001b[1m0s\u001b[0m 12ms/step - accuracy: 0.5931 - loss: -8542.0762 - val_accuracy: 0.5215 - val_loss: -12359.7217\n",
      "Epoch 57/140\n",
      "\u001b[1m21/21\u001b[0m \u001b[32m━━━━━━━━━━━━━━━━━━━━\u001b[0m\u001b[37m\u001b[0m \u001b[1m1s\u001b[0m 6ms/step - accuracy: 0.5820 - loss: -7295.3711 - val_accuracy: 0.5215 - val_loss: -12427.9092\n",
      "Epoch 58/140\n",
      "\u001b[1m21/21\u001b[0m \u001b[32m━━━━━━━━━━━━━━━━━━━━\u001b[0m\u001b[37m\u001b[0m \u001b[1m0s\u001b[0m 7ms/step - accuracy: 0.5655 - loss: -8850.2578 - val_accuracy: 0.5215 - val_loss: -12500.9795\n",
      "Epoch 59/140\n",
      "\u001b[1m21/21\u001b[0m \u001b[32m━━━━━━━━━━━━━━━━━━━━\u001b[0m\u001b[37m\u001b[0m \u001b[1m0s\u001b[0m 6ms/step - accuracy: 0.5564 - loss: -8605.6992 - val_accuracy: 0.5215 - val_loss: -12573.4775\n",
      "Epoch 60/140\n",
      "\u001b[1m21/21\u001b[0m \u001b[32m━━━━━━━━━━━━━━━━━━━━\u001b[0m\u001b[37m\u001b[0m \u001b[1m0s\u001b[0m 5ms/step - accuracy: 0.5647 - loss: -9217.1875 - val_accuracy: 0.5215 - val_loss: -12639.5205\n",
      "Epoch 61/140\n",
      "\u001b[1m21/21\u001b[0m \u001b[32m━━━━━━━━━━━━━━━━━━━━\u001b[0m\u001b[37m\u001b[0m \u001b[1m0s\u001b[0m 6ms/step - accuracy: 0.5707 - loss: -7975.2866 - val_accuracy: 0.5215 - val_loss: -12703.3740\n",
      "Epoch 62/140\n",
      "\u001b[1m21/21\u001b[0m \u001b[32m━━━━━━━━━━━━━━━━━━━━\u001b[0m\u001b[37m\u001b[0m \u001b[1m0s\u001b[0m 5ms/step - accuracy: 0.5764 - loss: -8312.8506 - val_accuracy: 0.5215 - val_loss: -12772.4346\n",
      "Epoch 63/140\n",
      "\u001b[1m21/21\u001b[0m \u001b[32m━━━━━━━━━━━━━━━━━━━━\u001b[0m\u001b[37m\u001b[0m \u001b[1m0s\u001b[0m 5ms/step - accuracy: 0.5445 - loss: -10243.2100 - val_accuracy: 0.5215 - val_loss: -12849.2295\n",
      "Epoch 64/140\n",
      "\u001b[1m21/21\u001b[0m \u001b[32m━━━━━━━━━━━━━━━━━━━━\u001b[0m\u001b[37m\u001b[0m \u001b[1m0s\u001b[0m 11ms/step - accuracy: 0.5222 - loss: -9986.6514 - val_accuracy: 0.5215 - val_loss: -12921.6963\n",
      "Epoch 65/140\n",
      "\u001b[1m21/21\u001b[0m \u001b[32m━━━━━━━━━━━━━━━━━━━━\u001b[0m\u001b[37m\u001b[0m \u001b[1m0s\u001b[0m 11ms/step - accuracy: 0.5684 - loss: -7862.8970 - val_accuracy: 0.5215 - val_loss: -12986.1338\n",
      "Epoch 66/140\n",
      "\u001b[1m21/21\u001b[0m \u001b[32m━━━━━━━━━━━━━━━━━━━━\u001b[0m\u001b[37m\u001b[0m \u001b[1m0s\u001b[0m 7ms/step - accuracy: 0.5560 - loss: -9580.2773 - val_accuracy: 0.5215 - val_loss: -13061.3740\n",
      "Epoch 67/140\n",
      "\u001b[1m21/21\u001b[0m \u001b[32m━━━━━━━━━━━━━━━━━━━━\u001b[0m\u001b[37m\u001b[0m \u001b[1m0s\u001b[0m 6ms/step - accuracy: 0.5624 - loss: -10417.0820 - val_accuracy: 0.5215 - val_loss: -13126.4297\n",
      "Epoch 68/140\n",
      "\u001b[1m21/21\u001b[0m \u001b[32m━━━━━━━━━━━━━━━━━━━━\u001b[0m\u001b[37m\u001b[0m \u001b[1m0s\u001b[0m 11ms/step - accuracy: 0.5713 - loss: -7742.0347 - val_accuracy: 0.5215 - val_loss: -13191.3447\n",
      "Epoch 69/140\n",
      "\u001b[1m21/21\u001b[0m \u001b[32m━━━━━━━━━━━━━━━━━━━━\u001b[0m\u001b[37m\u001b[0m \u001b[1m0s\u001b[0m 7ms/step - accuracy: 0.5471 - loss: -10726.5645 - val_accuracy: 0.5215 - val_loss: -13266.7217\n",
      "Epoch 70/140\n",
      "\u001b[1m21/21\u001b[0m \u001b[32m━━━━━━━━━━━━━━━━━━━━\u001b[0m\u001b[37m\u001b[0m \u001b[1m0s\u001b[0m 9ms/step - accuracy: 0.5322 - loss: -9817.8281 - val_accuracy: 0.5215 - val_loss: -13334.5039\n",
      "Epoch 71/140\n",
      "\u001b[1m21/21\u001b[0m \u001b[32m━━━━━━━━━━━━━━━━━━━━\u001b[0m\u001b[37m\u001b[0m \u001b[1m0s\u001b[0m 6ms/step - accuracy: 0.5390 - loss: -8958.7168 - val_accuracy: 0.5215 - val_loss: -13405.8750\n",
      "Epoch 72/140\n",
      "\u001b[1m21/21\u001b[0m \u001b[32m━━━━━━━━━━━━━━━━━━━━\u001b[0m\u001b[37m\u001b[0m \u001b[1m0s\u001b[0m 5ms/step - accuracy: 0.5659 - loss: -8192.0957 - val_accuracy: 0.5215 - val_loss: -13473.8037\n",
      "Epoch 73/140\n",
      "\u001b[1m21/21\u001b[0m \u001b[32m━━━━━━━━━━━━━━━━━━━━\u001b[0m\u001b[37m\u001b[0m \u001b[1m0s\u001b[0m 5ms/step - accuracy: 0.5552 - loss: -10141.5498 - val_accuracy: 0.5215 - val_loss: -13550.5107\n",
      "Epoch 74/140\n",
      "\u001b[1m21/21\u001b[0m \u001b[32m━━━━━━━━━━━━━━━━━━━━\u001b[0m\u001b[37m\u001b[0m \u001b[1m0s\u001b[0m 7ms/step - accuracy: 0.5554 - loss: -9100.9277 - val_accuracy: 0.5215 - val_loss: -13616.4658\n",
      "Epoch 75/140\n",
      "\u001b[1m21/21\u001b[0m \u001b[32m━━━━━━━━━━━━━━━━━━━━\u001b[0m\u001b[37m\u001b[0m \u001b[1m0s\u001b[0m 6ms/step - accuracy: 0.5366 - loss: -10989.2930 - val_accuracy: 0.5215 - val_loss: -13691.6953\n",
      "Epoch 76/140\n",
      "\u001b[1m21/21\u001b[0m \u001b[32m━━━━━━━━━━━━━━━━━━━━\u001b[0m\u001b[37m\u001b[0m \u001b[1m0s\u001b[0m 6ms/step - accuracy: 0.5553 - loss: -8665.5566 - val_accuracy: 0.5215 - val_loss: -13758.9092\n",
      "Epoch 77/140\n",
      "\u001b[1m21/21\u001b[0m \u001b[32m━━━━━━━━━━━━━━━━━━━━\u001b[0m\u001b[37m\u001b[0m \u001b[1m0s\u001b[0m 7ms/step - accuracy: 0.5759 - loss: -9071.5342 - val_accuracy: 0.5215 - val_loss: -13834.8330\n",
      "Epoch 78/140\n",
      "\u001b[1m21/21\u001b[0m \u001b[32m━━━━━━━━━━━━━━━━━━━━\u001b[0m\u001b[37m\u001b[0m \u001b[1m0s\u001b[0m 6ms/step - accuracy: 0.5469 - loss: -11824.1152 - val_accuracy: 0.5215 - val_loss: -13917.8203\n",
      "Epoch 79/140\n",
      "\u001b[1m21/21\u001b[0m \u001b[32m━━━━━━━━━━━━━━━━━━━━\u001b[0m\u001b[37m\u001b[0m \u001b[1m0s\u001b[0m 8ms/step - accuracy: 0.5692 - loss: -9430.5391 - val_accuracy: 0.5215 - val_loss: -13984.9180\n",
      "Epoch 80/140\n",
      "\u001b[1m21/21\u001b[0m \u001b[32m━━━━━━━━━━━━━━━━━━━━\u001b[0m\u001b[37m\u001b[0m \u001b[1m0s\u001b[0m 6ms/step - accuracy: 0.5523 - loss: -10317.1455 - val_accuracy: 0.5215 - val_loss: -14060.6807\n",
      "Epoch 81/140\n",
      "\u001b[1m21/21\u001b[0m \u001b[32m━━━━━━━━━━━━━━━━━━━━\u001b[0m\u001b[37m\u001b[0m \u001b[1m0s\u001b[0m 8ms/step - accuracy: 0.5529 - loss: -10536.0146 - val_accuracy: 0.5215 - val_loss: -14138.3594\n",
      "Epoch 82/140\n",
      "\u001b[1m21/21\u001b[0m \u001b[32m━━━━━━━━━━━━━━━━━━━━\u001b[0m\u001b[37m\u001b[0m \u001b[1m0s\u001b[0m 8ms/step - accuracy: 0.5453 - loss: -9392.4385 - val_accuracy: 0.5215 - val_loss: -14205.3467\n",
      "Epoch 83/140\n",
      "\u001b[1m21/21\u001b[0m \u001b[32m━━━━━━━━━━━━━━━━━━━━\u001b[0m\u001b[37m\u001b[0m \u001b[1m0s\u001b[0m 7ms/step - accuracy: 0.5586 - loss: -10101.1875 - val_accuracy: 0.5215 - val_loss: -14280.5264\n",
      "Epoch 84/140\n",
      "\u001b[1m21/21\u001b[0m \u001b[32m━━━━━━━━━━━━━━━━━━━━\u001b[0m\u001b[37m\u001b[0m \u001b[1m0s\u001b[0m 8ms/step - accuracy: 0.5519 - loss: -10930.9326 - val_accuracy: 0.5215 - val_loss: -14348.2852\n",
      "Epoch 85/140\n",
      "\u001b[1m21/21\u001b[0m \u001b[32m━━━━━━━━━━━━━━━━━━━━\u001b[0m\u001b[37m\u001b[0m \u001b[1m0s\u001b[0m 7ms/step - accuracy: 0.5462 - loss: -10524.0176 - val_accuracy: 0.5215 - val_loss: -14417.3662\n",
      "Epoch 86/140\n",
      "\u001b[1m21/21\u001b[0m \u001b[32m━━━━━━━━━━━━━━━━━━━━\u001b[0m\u001b[37m\u001b[0m \u001b[1m0s\u001b[0m 8ms/step - accuracy: 0.5864 - loss: -9636.2490 - val_accuracy: 0.5215 - val_loss: -14484.7031\n",
      "Epoch 87/140\n",
      "\u001b[1m21/21\u001b[0m \u001b[32m━━━━━━━━━━━━━━━━━━━━\u001b[0m\u001b[37m\u001b[0m \u001b[1m0s\u001b[0m 9ms/step - accuracy: 0.5389 - loss: -11071.6592 - val_accuracy: 0.5215 - val_loss: -14563.5088\n",
      "Epoch 88/140\n",
      "\u001b[1m21/21\u001b[0m \u001b[32m━━━━━━━━━━━━━━━━━━━━\u001b[0m\u001b[37m\u001b[0m \u001b[1m0s\u001b[0m 5ms/step - accuracy: 0.5293 - loss: -10549.9521 - val_accuracy: 0.5215 - val_loss: -14644.1533\n",
      "Epoch 89/140\n",
      "\u001b[1m21/21\u001b[0m \u001b[32m━━━━━━━━━━━━━━━━━━━━\u001b[0m\u001b[37m\u001b[0m \u001b[1m0s\u001b[0m 6ms/step - accuracy: 0.5733 - loss: -8733.5830 - val_accuracy: 0.5215 - val_loss: -14719.4951\n",
      "Epoch 90/140\n",
      "\u001b[1m21/21\u001b[0m \u001b[32m━━━━━━━━━━━━━━━━━━━━\u001b[0m\u001b[37m\u001b[0m \u001b[1m0s\u001b[0m 7ms/step - accuracy: 0.5450 - loss: -9374.5039 - val_accuracy: 0.5215 - val_loss: -14790.2627\n",
      "Epoch 91/140\n",
      "\u001b[1m21/21\u001b[0m \u001b[32m━━━━━━━━━━━━━━━━━━━━\u001b[0m\u001b[37m\u001b[0m \u001b[1m0s\u001b[0m 6ms/step - accuracy: 0.5354 - loss: -11180.3848 - val_accuracy: 0.5215 - val_loss: -14866.7861\n",
      "Epoch 92/140\n",
      "\u001b[1m21/21\u001b[0m \u001b[32m━━━━━━━━━━━━━━━━━━━━\u001b[0m\u001b[37m\u001b[0m \u001b[1m0s\u001b[0m 7ms/step - accuracy: 0.5516 - loss: -11313.8916 - val_accuracy: 0.5215 - val_loss: -14943.5771\n",
      "Epoch 93/140\n",
      "\u001b[1m21/21\u001b[0m \u001b[32m━━━━━━━━━━━━━━━━━━━━\u001b[0m\u001b[37m\u001b[0m \u001b[1m0s\u001b[0m 5ms/step - accuracy: 0.5695 - loss: -10598.5518 - val_accuracy: 0.5215 - val_loss: -15018.9453\n",
      "Epoch 94/140\n",
      "\u001b[1m21/21\u001b[0m \u001b[32m━━━━━━━━━━━━━━━━━━━━\u001b[0m\u001b[37m\u001b[0m \u001b[1m0s\u001b[0m 6ms/step - accuracy: 0.5416 - loss: -11012.2734 - val_accuracy: 0.5215 - val_loss: -15090.1943\n",
      "Epoch 95/140\n",
      "\u001b[1m21/21\u001b[0m \u001b[32m━━━━━━━━━━━━━━━━━━━━\u001b[0m\u001b[37m\u001b[0m \u001b[1m0s\u001b[0m 13ms/step - accuracy: 0.5711 - loss: -10221.6719 - val_accuracy: 0.5215 - val_loss: -15171.1025\n",
      "Epoch 96/140\n",
      "\u001b[1m21/21\u001b[0m \u001b[32m━━━━━━━━━━━━━━━━━━━━\u001b[0m\u001b[37m\u001b[0m \u001b[1m0s\u001b[0m 6ms/step - accuracy: 0.5583 - loss: -11292.9863 - val_accuracy: 0.5215 - val_loss: -15252.8252\n",
      "Epoch 97/140\n",
      "\u001b[1m21/21\u001b[0m \u001b[32m━━━━━━━━━━━━━━━━━━━━\u001b[0m\u001b[37m\u001b[0m \u001b[1m0s\u001b[0m 5ms/step - accuracy: 0.5440 - loss: -12335.4043 - val_accuracy: 0.5215 - val_loss: -15327.4404\n",
      "Epoch 98/140\n",
      "\u001b[1m21/21\u001b[0m \u001b[32m━━━━━━━━━━━━━━━━━━━━\u001b[0m\u001b[37m\u001b[0m \u001b[1m0s\u001b[0m 7ms/step - accuracy: 0.5805 - loss: -9567.1758 - val_accuracy: 0.5215 - val_loss: -15397.6533\n",
      "Epoch 99/140\n",
      "\u001b[1m21/21\u001b[0m \u001b[32m━━━━━━━━━━━━━━━━━━━━\u001b[0m\u001b[37m\u001b[0m \u001b[1m0s\u001b[0m 6ms/step - accuracy: 0.5444 - loss: -9432.0898 - val_accuracy: 0.5215 - val_loss: -15482.2803\n",
      "Epoch 100/140\n",
      "\u001b[1m21/21\u001b[0m \u001b[32m━━━━━━━━━━━━━━━━━━━━\u001b[0m\u001b[37m\u001b[0m \u001b[1m0s\u001b[0m 7ms/step - accuracy: 0.5460 - loss: -10150.3477 - val_accuracy: 0.5215 - val_loss: -15559.5898\n",
      "Epoch 101/140\n",
      "\u001b[1m21/21\u001b[0m \u001b[32m━━━━━━━━━━━━━━━━━━━━\u001b[0m\u001b[37m\u001b[0m \u001b[1m0s\u001b[0m 6ms/step - accuracy: 0.5278 - loss: -11436.3535 - val_accuracy: 0.5215 - val_loss: -15637.4531\n",
      "Epoch 102/140\n",
      "\u001b[1m21/21\u001b[0m \u001b[32m━━━━━━━━━━━━━━━━━━━━\u001b[0m\u001b[37m\u001b[0m \u001b[1m0s\u001b[0m 5ms/step - accuracy: 0.5616 - loss: -10376.1328 - val_accuracy: 0.5215 - val_loss: -15712.2842\n",
      "Epoch 103/140\n",
      "\u001b[1m21/21\u001b[0m \u001b[32m━━━━━━━━━━━━━━━━━━━━\u001b[0m\u001b[37m\u001b[0m \u001b[1m0s\u001b[0m 6ms/step - accuracy: 0.5776 - loss: -10487.1143 - val_accuracy: 0.5215 - val_loss: -15788.3096\n",
      "Epoch 104/140\n",
      "\u001b[1m21/21\u001b[0m \u001b[32m━━━━━━━━━━━━━━━━━━━━\u001b[0m\u001b[37m\u001b[0m \u001b[1m0s\u001b[0m 9ms/step - accuracy: 0.5444 - loss: -11219.6787 - val_accuracy: 0.5215 - val_loss: -15866.5693\n",
      "Epoch 105/140\n",
      "\u001b[1m21/21\u001b[0m \u001b[32m━━━━━━━━━━━━━━━━━━━━\u001b[0m\u001b[37m\u001b[0m \u001b[1m0s\u001b[0m 6ms/step - accuracy: 0.5687 - loss: -10647.3916 - val_accuracy: 0.5215 - val_loss: -15945.9736\n",
      "Epoch 106/140\n",
      "\u001b[1m21/21\u001b[0m \u001b[32m━━━━━━━━━━━━━━━━━━━━\u001b[0m\u001b[37m\u001b[0m \u001b[1m0s\u001b[0m 7ms/step - accuracy: 0.5491 - loss: -11588.6094 - val_accuracy: 0.5215 - val_loss: -16027.5674\n",
      "Epoch 107/140\n",
      "\u001b[1m21/21\u001b[0m \u001b[32m━━━━━━━━━━━━━━━━━━━━\u001b[0m\u001b[37m\u001b[0m \u001b[1m0s\u001b[0m 7ms/step - accuracy: 0.5359 - loss: -12510.2510 - val_accuracy: 0.5215 - val_loss: -16108.5283\n",
      "Epoch 108/140\n",
      "\u001b[1m21/21\u001b[0m \u001b[32m━━━━━━━━━━━━━━━━━━━━\u001b[0m\u001b[37m\u001b[0m \u001b[1m0s\u001b[0m 6ms/step - accuracy: 0.5444 - loss: -10595.8691 - val_accuracy: 0.5215 - val_loss: -16189.6396\n",
      "Epoch 109/140\n",
      "\u001b[1m21/21\u001b[0m \u001b[32m━━━━━━━━━━━━━━━━━━━━\u001b[0m\u001b[37m\u001b[0m \u001b[1m0s\u001b[0m 5ms/step - accuracy: 0.5382 - loss: -13472.9844 - val_accuracy: 0.5215 - val_loss: -16274.5547\n",
      "Epoch 110/140\n",
      "\u001b[1m21/21\u001b[0m \u001b[32m━━━━━━━━━━━━━━━━━━━━\u001b[0m\u001b[37m\u001b[0m \u001b[1m0s\u001b[0m 7ms/step - accuracy: 0.5270 - loss: -11420.7070 - val_accuracy: 0.5215 - val_loss: -16347.1250\n",
      "Epoch 111/140\n",
      "\u001b[1m21/21\u001b[0m \u001b[32m━━━━━━━━━━━━━━━━━━━━\u001b[0m\u001b[37m\u001b[0m \u001b[1m0s\u001b[0m 8ms/step - accuracy: 0.5515 - loss: -11846.6299 - val_accuracy: 0.5215 - val_loss: -16425.1270\n",
      "Epoch 112/140\n",
      "\u001b[1m21/21\u001b[0m \u001b[32m━━━━━━━━━━━━━━━━━━━━\u001b[0m\u001b[37m\u001b[0m \u001b[1m0s\u001b[0m 7ms/step - accuracy: 0.5496 - loss: -13131.3516 - val_accuracy: 0.5215 - val_loss: -16508.3770\n",
      "Epoch 113/140\n",
      "\u001b[1m21/21\u001b[0m \u001b[32m━━━━━━━━━━━━━━━━━━━━\u001b[0m\u001b[37m\u001b[0m \u001b[1m0s\u001b[0m 6ms/step - accuracy: 0.5509 - loss: -11707.1777 - val_accuracy: 0.5215 - val_loss: -16587.0898\n",
      "Epoch 114/140\n",
      "\u001b[1m21/21\u001b[0m \u001b[32m━━━━━━━━━━━━━━━━━━━━\u001b[0m\u001b[37m\u001b[0m \u001b[1m0s\u001b[0m 7ms/step - accuracy: 0.5661 - loss: -9926.0938 - val_accuracy: 0.5215 - val_loss: -16663.1152\n",
      "Epoch 115/140\n",
      "\u001b[1m21/21\u001b[0m \u001b[32m━━━━━━━━━━━━━━━━━━━━\u001b[0m\u001b[37m\u001b[0m \u001b[1m0s\u001b[0m 6ms/step - accuracy: 0.5642 - loss: -9907.3779 - val_accuracy: 0.5215 - val_loss: -16744.8613\n",
      "Epoch 116/140\n",
      "\u001b[1m21/21\u001b[0m \u001b[32m━━━━━━━━━━━━━━━━━━━━\u001b[0m\u001b[37m\u001b[0m \u001b[1m0s\u001b[0m 6ms/step - accuracy: 0.5676 - loss: -11705.5205 - val_accuracy: 0.5215 - val_loss: -16830.8691\n",
      "Epoch 117/140\n",
      "\u001b[1m21/21\u001b[0m \u001b[32m━━━━━━━━━━━━━━━━━━━━\u001b[0m\u001b[37m\u001b[0m \u001b[1m0s\u001b[0m 8ms/step - accuracy: 0.5622 - loss: -12481.0312 - val_accuracy: 0.5215 - val_loss: -16908.9961\n",
      "Epoch 118/140\n",
      "\u001b[1m21/21\u001b[0m \u001b[32m━━━━━━━━━━━━━━━━━━━━\u001b[0m\u001b[37m\u001b[0m \u001b[1m0s\u001b[0m 10ms/step - accuracy: 0.5769 - loss: -11153.2666 - val_accuracy: 0.5215 - val_loss: -16992.6875\n",
      "Epoch 119/140\n",
      "\u001b[1m21/21\u001b[0m \u001b[32m━━━━━━━━━━━━━━━━━━━━\u001b[0m\u001b[37m\u001b[0m \u001b[1m0s\u001b[0m 9ms/step - accuracy: 0.5313 - loss: -12150.8857 - val_accuracy: 0.5215 - val_loss: -17077.9863\n",
      "Epoch 120/140\n",
      "\u001b[1m21/21\u001b[0m \u001b[32m━━━━━━━━━━━━━━━━━━━━\u001b[0m\u001b[37m\u001b[0m \u001b[1m0s\u001b[0m 7ms/step - accuracy: 0.5891 - loss: -12614.7090 - val_accuracy: 0.5215 - val_loss: -17164.7129\n",
      "Epoch 121/140\n",
      "\u001b[1m21/21\u001b[0m \u001b[32m━━━━━━━━━━━━━━━━━━━━\u001b[0m\u001b[37m\u001b[0m \u001b[1m0s\u001b[0m 8ms/step - accuracy: 0.5590 - loss: -12690.8301 - val_accuracy: 0.5215 - val_loss: -17247.5078\n",
      "Epoch 122/140\n",
      "\u001b[1m21/21\u001b[0m \u001b[32m━━━━━━━━━━━━━━━━━━━━\u001b[0m\u001b[37m\u001b[0m \u001b[1m0s\u001b[0m 10ms/step - accuracy: 0.5467 - loss: -12079.6328 - val_accuracy: 0.5215 - val_loss: -17328.9648\n",
      "Epoch 123/140\n",
      "\u001b[1m21/21\u001b[0m \u001b[32m━━━━━━━━━━━━━━━━━━━━\u001b[0m\u001b[37m\u001b[0m \u001b[1m0s\u001b[0m 10ms/step - accuracy: 0.5730 - loss: -12034.6143 - val_accuracy: 0.5215 - val_loss: -17409.4121\n",
      "Epoch 124/140\n",
      "\u001b[1m21/21\u001b[0m \u001b[32m━━━━━━━━━━━━━━━━━━━━\u001b[0m\u001b[37m\u001b[0m \u001b[1m0s\u001b[0m 7ms/step - accuracy: 0.5366 - loss: -13591.4219 - val_accuracy: 0.5215 - val_loss: -17494.1133\n",
      "Epoch 125/140\n",
      "\u001b[1m21/21\u001b[0m \u001b[32m━━━━━━━━━━━━━━━━━━━━\u001b[0m\u001b[37m\u001b[0m \u001b[1m0s\u001b[0m 13ms/step - accuracy: 0.5781 - loss: -12936.7266 - val_accuracy: 0.5215 - val_loss: -17581.1230\n",
      "Epoch 126/140\n",
      "\u001b[1m21/21\u001b[0m \u001b[32m━━━━━━━━━━━━━━━━━━━━\u001b[0m\u001b[37m\u001b[0m \u001b[1m0s\u001b[0m 8ms/step - accuracy: 0.5517 - loss: -11278.1377 - val_accuracy: 0.5215 - val_loss: -17660.1992\n",
      "Epoch 127/140\n",
      "\u001b[1m21/21\u001b[0m \u001b[32m━━━━━━━━━━━━━━━━━━━━\u001b[0m\u001b[37m\u001b[0m \u001b[1m0s\u001b[0m 10ms/step - accuracy: 0.5432 - loss: -13311.4658 - val_accuracy: 0.5215 - val_loss: -17742.4395\n",
      "Epoch 128/140\n",
      "\u001b[1m21/21\u001b[0m \u001b[32m━━━━━━━━━━━━━━━━━━━━\u001b[0m\u001b[37m\u001b[0m \u001b[1m0s\u001b[0m 10ms/step - accuracy: 0.5410 - loss: -13632.6113 - val_accuracy: 0.5215 - val_loss: -17827.6152\n",
      "Epoch 129/140\n",
      "\u001b[1m21/21\u001b[0m \u001b[32m━━━━━━━━━━━━━━━━━━━━\u001b[0m\u001b[37m\u001b[0m \u001b[1m0s\u001b[0m 7ms/step - accuracy: 0.5506 - loss: -13229.3486 - val_accuracy: 0.5215 - val_loss: -17909.2012\n",
      "Epoch 130/140\n",
      "\u001b[1m21/21\u001b[0m \u001b[32m━━━━━━━━━━━━━━━━━━━━\u001b[0m\u001b[37m\u001b[0m \u001b[1m0s\u001b[0m 8ms/step - accuracy: 0.5368 - loss: -14527.8496 - val_accuracy: 0.5215 - val_loss: -17997.4785\n",
      "Epoch 131/140\n",
      "\u001b[1m21/21\u001b[0m \u001b[32m━━━━━━━━━━━━━━━━━━━━\u001b[0m\u001b[37m\u001b[0m \u001b[1m0s\u001b[0m 8ms/step - accuracy: 0.5562 - loss: -13605.2080 - val_accuracy: 0.5215 - val_loss: -18087.3574\n",
      "Epoch 132/140\n",
      "\u001b[1m21/21\u001b[0m \u001b[32m━━━━━━━━━━━━━━━━━━━━\u001b[0m\u001b[37m\u001b[0m \u001b[1m0s\u001b[0m 6ms/step - accuracy: 0.5396 - loss: -12290.8643 - val_accuracy: 0.5215 - val_loss: -18163.2793\n",
      "Epoch 133/140\n",
      "\u001b[1m21/21\u001b[0m \u001b[32m━━━━━━━━━━━━━━━━━━━━\u001b[0m\u001b[37m\u001b[0m \u001b[1m0s\u001b[0m 6ms/step - accuracy: 0.5440 - loss: -13376.4316 - val_accuracy: 0.5215 - val_loss: -18252.1387\n",
      "Epoch 134/140\n",
      "\u001b[1m21/21\u001b[0m \u001b[32m━━━━━━━━━━━━━━━━━━━━\u001b[0m\u001b[37m\u001b[0m \u001b[1m0s\u001b[0m 6ms/step - accuracy: 0.5566 - loss: -12286.6279 - val_accuracy: 0.5215 - val_loss: -18335.3281\n",
      "Epoch 135/140\n",
      "\u001b[1m21/21\u001b[0m \u001b[32m━━━━━━━━━━━━━━━━━━━━\u001b[0m\u001b[37m\u001b[0m \u001b[1m0s\u001b[0m 7ms/step - accuracy: 0.5593 - loss: -12675.3662 - val_accuracy: 0.5215 - val_loss: -18421.6016\n",
      "Epoch 136/140\n",
      "\u001b[1m21/21\u001b[0m \u001b[32m━━━━━━━━━━━━━━━━━━━━\u001b[0m\u001b[37m\u001b[0m \u001b[1m0s\u001b[0m 7ms/step - accuracy: 0.5358 - loss: -11949.8916 - val_accuracy: 0.5215 - val_loss: -18512.9082\n",
      "Epoch 137/140\n",
      "\u001b[1m21/21\u001b[0m \u001b[32m━━━━━━━━━━━━━━━━━━━━\u001b[0m\u001b[37m\u001b[0m \u001b[1m0s\u001b[0m 6ms/step - accuracy: 0.5408 - loss: -11928.4658 - val_accuracy: 0.5215 - val_loss: -18600.0488\n",
      "Epoch 138/140\n",
      "\u001b[1m21/21\u001b[0m \u001b[32m━━━━━━━━━━━━━━━━━━━━\u001b[0m\u001b[37m\u001b[0m \u001b[1m0s\u001b[0m 12ms/step - accuracy: 0.5335 - loss: -12994.6963 - val_accuracy: 0.5215 - val_loss: -18693.3828\n",
      "Epoch 139/140\n",
      "\u001b[1m21/21\u001b[0m \u001b[32m━━━━━━━━━━━━━━━━━━━━\u001b[0m\u001b[37m\u001b[0m \u001b[1m0s\u001b[0m 6ms/step - accuracy: 0.5521 - loss: -11344.4678 - val_accuracy: 0.5215 - val_loss: -18787.9434\n",
      "Epoch 140/140\n",
      "\u001b[1m21/21\u001b[0m \u001b[32m━━━━━━━━━━━━━━━━━━━━\u001b[0m\u001b[37m\u001b[0m \u001b[1m0s\u001b[0m 6ms/step - accuracy: 0.5576 - loss: -12491.6826 - val_accuracy: 0.5215 - val_loss: -18874.9668\n"
     ]
    }
   ],
   "source": [
    "# Treinando o modelo\n",
    "history = model.fit(X_train_scaled, y_train, epochs=140, batch_size=32, validation_split=0.2, verbose=1)"
   ]
  },
  {
   "cell_type": "code",
   "execution_count": 31,
   "id": "02e2b937",
   "metadata": {},
   "outputs": [
    {
     "name": "stdout",
     "output_type": "stream",
     "text": [
      "\u001b[1m7/7\u001b[0m \u001b[32m━━━━━━━━━━━━━━━━━━━━\u001b[0m\u001b[37m\u001b[0m \u001b[1m0s\u001b[0m 5ms/step - accuracy: 0.5150 - loss: -4860.6411 \n",
      "Acurácia no conjunto de teste: 0.5025\n"
     ]
    }
   ],
   "source": [
    "# Avaliando o modelo no conjunto de teste\n",
    "loss, accuracy = model.evaluate(X_test_scaled, y_test)\n",
    "print(f'Acurácia no conjunto de teste: {accuracy:.4f}')"
   ]
  },
  {
   "cell_type": "code",
   "execution_count": 37,
   "id": "3c0249ac",
   "metadata": {},
   "outputs": [
    {
     "name": "stdout",
     "output_type": "stream",
     "text": [
      "\u001b[1m1/1\u001b[0m \u001b[32m━━━━━━━━━━━━━━━━━━━━\u001b[0m\u001b[37m\u001b[0m \u001b[1m0s\u001b[0m 76ms/step\n",
      "Previsão: [[1.]]\n"
     ]
    }
   ],
   "source": [
    "# Exemplo de previsão\n",
    "# Lembre-se de normalizar os novos dados com o mesmo scaler usado anteriormente\n",
    "new_data = np.array([[342, 150, 85, 13, 98, 75]])  # substitua '...' pelos valores reais\n",
    "new_data_scaled = scaler.transform(new_data)\n",
    "prediction = model.predict(new_data_scaled)\n",
    "print(f'Previsão: {prediction}')"
   ]
  },
  {
   "cell_type": "code",
   "execution_count": 39,
   "id": "c00b1ef0",
   "metadata": {},
   "outputs": [
    {
     "name": "stdout",
     "output_type": "stream",
     "text": [
      "Defaulting to user installation because normal site-packages is not writeable\n",
      "Collecting keras-tuner\n",
      "  Downloading keras_tuner-1.4.7-py3-none-any.whl (129 kB)\n",
      "\u001b[2K     \u001b[38;2;114;156;31m━━━━━━━━━━━━━━━━━━━━━━━━━━━━━━━━━━━━━\u001b[0m \u001b[32m129.1/129.1 KB\u001b[0m \u001b[31m491.2 kB/s\u001b[0m eta \u001b[36m0:00:00\u001b[0m kB/s\u001b[0m eta \u001b[36m0:00:01\u001b[0m\n",
      "\u001b[?25hRequirement already satisfied: packaging in /usr/lib/python3/dist-packages (from keras-tuner) (21.3)\n",
      "Collecting kt-legacy\n",
      "  Downloading kt_legacy-1.0.5-py3-none-any.whl (9.6 kB)\n",
      "Requirement already satisfied: keras in /home/hduser/.local/lib/python3.10/site-packages (from keras-tuner) (3.1.1)\n",
      "Requirement already satisfied: requests in /home/hduser/.local/lib/python3.10/site-packages (from keras-tuner) (2.28.1)\n",
      "Requirement already satisfied: absl-py in /home/hduser/.local/lib/python3.10/site-packages (from keras->keras-tuner) (2.1.0)\n",
      "Requirement already satisfied: h5py in /home/hduser/.local/lib/python3.10/site-packages (from keras->keras-tuner) (3.10.0)\n",
      "Requirement already satisfied: rich in /home/hduser/.local/lib/python3.10/site-packages (from keras->keras-tuner) (13.7.1)\n",
      "Requirement already satisfied: numpy in /home/hduser/.local/lib/python3.10/site-packages (from keras->keras-tuner) (1.24.0)\n",
      "Requirement already satisfied: optree in /home/hduser/.local/lib/python3.10/site-packages (from keras->keras-tuner) (0.11.0)\n",
      "Requirement already satisfied: namex in /home/hduser/.local/lib/python3.10/site-packages (from keras->keras-tuner) (0.0.7)\n",
      "Requirement already satisfied: ml-dtypes in /home/hduser/.local/lib/python3.10/site-packages (from keras->keras-tuner) (0.3.2)\n",
      "Requirement already satisfied: urllib3<1.27,>=1.21.1 in /usr/lib/python3/dist-packages (from requests->keras-tuner) (1.26.5)\n",
      "Requirement already satisfied: idna<4,>=2.5 in /usr/lib/python3/dist-packages (from requests->keras-tuner) (3.3)\n",
      "Requirement already satisfied: charset-normalizer<3,>=2 in /home/hduser/.local/lib/python3.10/site-packages (from requests->keras-tuner) (2.1.1)\n",
      "Requirement already satisfied: certifi>=2017.4.17 in /usr/lib/python3/dist-packages (from requests->keras-tuner) (2020.6.20)\n",
      "Requirement already satisfied: typing-extensions>=4.0.0 in /home/hduser/.local/lib/python3.10/site-packages (from optree->keras->keras-tuner) (4.11.0)\n",
      "Requirement already satisfied: markdown-it-py>=2.2.0 in /home/hduser/.local/lib/python3.10/site-packages (from rich->keras->keras-tuner) (3.0.0)\n",
      "Requirement already satisfied: pygments<3.0.0,>=2.13.0 in /home/hduser/.local/lib/python3.10/site-packages (from rich->keras->keras-tuner) (2.17.2)\n",
      "Requirement already satisfied: mdurl~=0.1 in /home/hduser/.local/lib/python3.10/site-packages (from markdown-it-py>=2.2.0->rich->keras->keras-tuner) (0.1.2)\n",
      "Installing collected packages: kt-legacy, keras-tuner\n",
      "Successfully installed keras-tuner-1.4.7 kt-legacy-1.0.5\n",
      "Note: you may need to restart the kernel to use updated packages.\n"
     ]
    }
   ],
   "source": [
    "pip install keras-tuner"
   ]
  },
  {
   "cell_type": "code",
   "execution_count": 45,
   "id": "a97c609d",
   "metadata": {},
   "outputs": [],
   "source": [
    "from kerastuner.tuners import RandomSearch\n",
    "from tensorflow.keras.models import Sequential\n",
    "from tensorflow.keras.layers import Dense\n",
    "from tensorflow.keras.optimizers import Adam\n",
    "\n",
    "def build_model(hp):\n",
    "    model = Sequential()\n",
    "    model.add(Dense(hp.Int('units_input', min_value=32, max_value=512, step=32), activation='relu', input_shape=(X_train_scaled.shape[1],)))\n",
    "    model.add(Dense(hp.Int('units_hidden', min_value=32, max_value=512, step=32), activation='relu'))\n",
    "    model.add(Dense(1, activation='sigmoid'))\n",
    "    \n",
    "    # Ajuste da taxa de aprendizado\n",
    "    hp_learning_rate = hp.Choice('learning_rate', values=[1e-2, 1e-3, 1e-4])\n",
    "    \n",
    "    model.compile(optimizer=Adam(learning_rate=hp_learning_rate),\n",
    "                  loss='binary_crossentropy',\n",
    "                  metrics=['accuracy'])\n",
    "    return model"
   ]
  },
  {
   "cell_type": "code",
   "execution_count": 46,
   "id": "e13a93c3",
   "metadata": {},
   "outputs": [
    {
     "name": "stdout",
     "output_type": "stream",
     "text": [
      "Reloading Tuner from tuner_results/keras_tuner_demo/tuner0.json\n"
     ]
    }
   ],
   "source": [
    "tuner = RandomSearch(\n",
    "    build_model,\n",
    "    objective='val_accuracy',\n",
    "    max_trials=10,  # Número máximo de combinações de hiperparâmetros a serem testadas\n",
    "    executions_per_trial=2,  # Número de modelos a serem treinados e avaliados para cada tentativa\n",
    "    directory='tuner_results',\n",
    "    project_name='keras_tuner_demo'\n",
    ")"
   ]
  },
  {
   "cell_type": "code",
   "execution_count": 47,
   "id": "48787aa7",
   "metadata": {},
   "outputs": [],
   "source": [
    "tuner.search(X_train_scaled, y_train, epochs=20, validation_split=0.2, verbose=1)"
   ]
  },
  {
   "cell_type": "code",
   "execution_count": 48,
   "id": "5c9b1a18",
   "metadata": {},
   "outputs": [
    {
     "name": "stdout",
     "output_type": "stream",
     "text": [
      "\u001b[1m7/7\u001b[0m \u001b[32m━━━━━━━━━━━━━━━━━━━━\u001b[0m\u001b[37m\u001b[0m \u001b[1m0s\u001b[0m 9ms/step - accuracy: 0.5408 - loss: -95933.4375  \n",
      "Acurácia do melhor modelo no conjunto de teste: 0.5320\n",
      "Melhores hiperparâmetros: {'units_input': 64, 'units_hidden': 448, 'learning_rate': 0.01}\n"
     ]
    }
   ],
   "source": [
    "best_model = tuner.get_best_models(num_models=1)[0]\n",
    "best_hyperparameters = tuner.get_best_hyperparameters()[0]\n",
    "\n",
    "# Avaliação do melhor modelo\n",
    "loss, accuracy = best_model.evaluate(X_test_scaled, y_test)\n",
    "print(f'Acurácia do melhor modelo no conjunto de teste: {accuracy:.4f}')\n",
    "\n",
    "print(\"Melhores hiperparâmetros:\", best_hyperparameters.values)"
   ]
  },
  {
   "cell_type": "markdown",
   "id": "50e775aa",
   "metadata": {},
   "source": [
    "Ann outro metodo"
   ]
  },
  {
   "cell_type": "code",
   "execution_count": 50,
   "id": "e63ce86d",
   "metadata": {},
   "outputs": [
    {
     "name": "stderr",
     "output_type": "stream",
     "text": [
      "                                                                                \r"
     ]
    }
   ],
   "source": [
    "from pyspark.ml.feature import VectorAssembler\n",
    "from pyspark.ml.feature import StringIndexer\n",
    "from pyspark.sql.functions import col\n",
    "\n",
    "# Indexar o rótulo (label) se ele for categórico\n",
    "indexer = StringIndexer(inputCol=\"RiskLevel\", outputCol=\"label\")\n",
    "df = indexer.fit(df).transform(df)\n",
    "\n",
    "# Assembler as características em um único vetor de características\n",
    "assembler = VectorAssembler(inputCols=[\"Age\", \"SystolicBP\", \"DiastolicBP\", \"BS\", \"BodyTemp\", \"HeartRate\"], outputCol=\"features\")\n",
    "data = assembler.transform(df)\n",
    "\n",
    "# Dividindo os dados em conjuntos de treinamento e teste\n",
    "train_data, test_data = data.randomSplit([0.7, 0.3])"
   ]
  },
  {
   "cell_type": "code",
   "execution_count": 51,
   "id": "e5572dcd",
   "metadata": {},
   "outputs": [],
   "source": [
    "from pyspark.ml.classification import MultilayerPerceptronClassifier\n",
    "\n",
    "# Definindo a arquitetura da rede neural\n",
    "# O número de nós na camada de entrada deve ser igual ao número de características, e o número de nós na camada de saída deve ser igual ao número de classes.\n",
    "# Neste exemplo, vamos supor 3 classes (riscos) e 6 características.\n",
    "layers = [6, 5, 4, 3]\n",
    "\n",
    "# Criando o classificador\n",
    "mlp = MultilayerPerceptronClassifier(layers=layers, blockSize=128, seed=1234, maxIter=100)"
   ]
  },
  {
   "cell_type": "code",
   "execution_count": 52,
   "id": "b2292970",
   "metadata": {},
   "outputs": [
    {
     "name": "stderr",
     "output_type": "stream",
     "text": [
      "2024-04-07 15:45:28,317 WARN netlib.BLAS: Failed to load implementation from: com.github.fommil.netlib.NativeSystemBLAS\n",
      "2024-04-07 15:45:28,319 WARN netlib.BLAS: Failed to load implementation from: com.github.fommil.netlib.NativeRefBLAS\n"
     ]
    }
   ],
   "source": [
    "# Treinando o modelo\n",
    "model = mlp.fit(train_data)"
   ]
  },
  {
   "cell_type": "code",
   "execution_count": 53,
   "id": "54987772",
   "metadata": {},
   "outputs": [
    {
     "name": "stdout",
     "output_type": "stream",
     "text": [
      "Acurácia: 0.5501618122977346\n"
     ]
    },
    {
     "name": "stderr",
     "output_type": "stream",
     "text": [
      "                                                                                \r"
     ]
    }
   ],
   "source": [
    "from pyspark.ml.evaluation import MulticlassClassificationEvaluator\n",
    "\n",
    "# Fazendo predições no conjunto de teste\n",
    "predictions = model.transform(test_data)\n",
    "\n",
    "# Avaliando a acurácia\n",
    "evaluator = MulticlassClassificationEvaluator(metricName=\"accuracy\")\n",
    "accuracy = evaluator.evaluate(predictions)\n",
    "print(f\"Acurácia: {accuracy}\")"
   ]
  },
  {
   "cell_type": "markdown",
   "id": "9c525f1f",
   "metadata": {},
   "source": [
    "Passo 1: Preparação dos Dados\n",
    "A preparação dos dados é crucial para o sucesso do treinamento do modelo. Isso inclui a limpeza de dados, a seleção de características relevantes, a normalização (quando necessário) e a divisão dos dados em conjuntos de treinamento e teste."
   ]
  },
  {
   "cell_type": "code",
   "execution_count": 54,
   "id": "6a7c3b60",
   "metadata": {},
   "outputs": [],
   "source": [
    "from pyspark.ml.feature import VectorAssembler, StandardScaler, StringIndexer\n",
    "from pyspark.sql.functions import col\n",
    "\n",
    "# Certificando-se de que a coluna 'label' não cause conflito\n",
    "if \"label\" in df.columns:\n",
    "    df = df.drop(\"label\")\n",
    "\n",
    "# Indexação de rótulos categóricos com novo nome de coluna para evitar conflitos\n",
    "indexer = StringIndexer(inputCol=\"RiskLevel\", outputCol=\"indexedLabel\").fit(df)\n",
    "df_indexed = indexer.transform(df)\n",
    "\n",
    "# Assembleia das características\n",
    "assembler = VectorAssembler(\n",
    "    inputCols=[\"Age\", \"SystolicBP\", \"DiastolicBP\", \"BS\", \"BodyTemp\", \"HeartRate\"],\n",
    "    outputCol=\"features\")\n",
    "df_assembled = assembler.transform(df_indexed)\n",
    "\n",
    "# Normalização das características (opcional, mas recomendado)\n",
    "scaler = StandardScaler(inputCol=\"features\", outputCol=\"scaledFeatures\", withStd=True, withMean=False)\n",
    "scalerModel = scaler.fit(df_assembled)\n",
    "df_scaled = scalerModel.transform(df_assembled)\n",
    "\n",
    "# Divisão dos dados\n",
    "(train_data, test_data) = df_scaled.randomSplit([0.8, 0.2])"
   ]
  },
  {
   "cell_type": "code",
   "execution_count": 55,
   "id": "3f4c4c33",
   "metadata": {},
   "outputs": [
    {
     "name": "stdout",
     "output_type": "stream",
     "text": [
      "Acurácia: 0.6170\n"
     ]
    }
   ],
   "source": [
    "from pyspark.ml.classification import MultilayerPerceptronClassifier\n",
    "\n",
    "# Definindo a arquitetura da rede: número de nós na camada de entrada igual ao número de características; ajuste conforme necessário\n",
    "layers = [6, 5, 4, 3]  # Exemplo: 6 características de entrada, duas camadas ocultas (5 e 4 neurônios), 3 saídas\n",
    "\n",
    "mlp = MultilayerPerceptronClassifier(\n",
    "    layers=layers,\n",
    "    blockSize=128,\n",
    "    seed=1234,\n",
    "    maxIter=100,\n",
    "    featuresCol=\"scaledFeatures\",\n",
    "    labelCol=\"indexedLabel\")  # Ajuste para usar a coluna 'indexedLabel'\n",
    "\n",
    "# Treinamento do modelo\n",
    "model = mlp.fit(train_data)\n",
    "\n",
    "# Avaliação do modelo\n",
    "from pyspark.ml.evaluation import MulticlassClassificationEvaluator\n",
    "\n",
    "predictions = model.transform(test_data)\n",
    "evaluator = MulticlassClassificationEvaluator(labelCol=\"indexedLabel\", predictionCol=\"prediction\", metricName=\"accuracy\")\n",
    "\n",
    "accuracy = evaluator.evaluate(predictions)\n",
    "print(f\"Acurácia: {accuracy:.4f}\")"
   ]
  },
  {
   "cell_type": "code",
   "execution_count": 56,
   "id": "3e531b45",
   "metadata": {},
   "outputs": [
    {
     "ename": "NameError",
     "evalue": "name 'num_features' is not defined",
     "output_type": "error",
     "traceback": [
      "\u001b[0;31m---------------------------------------------------------------------------\u001b[0m",
      "\u001b[0;31mNameError\u001b[0m                                 Traceback (most recent call last)",
      "\u001b[0;32m/tmp/ipykernel_5006/260612589.py\u001b[0m in \u001b[0;36m<module>\u001b[0;34m\u001b[0m\n\u001b[1;32m     24\u001b[0m \u001b[0;34m\u001b[0m\u001b[0m\n\u001b[1;32m     25\u001b[0m \u001b[0;31m# Criando o objeto de busca do tuner\u001b[0m\u001b[0;34m\u001b[0m\u001b[0;34m\u001b[0m\u001b[0m\n\u001b[0;32m---> 26\u001b[0;31m tuner = RandomSearch(\n\u001b[0m\u001b[1;32m     27\u001b[0m     \u001b[0mbuild_model\u001b[0m\u001b[0;34m,\u001b[0m\u001b[0;34m\u001b[0m\u001b[0;34m\u001b[0m\u001b[0m\n\u001b[1;32m     28\u001b[0m     \u001b[0mobjective\u001b[0m\u001b[0;34m=\u001b[0m\u001b[0;34m'val_accuracy'\u001b[0m\u001b[0;34m,\u001b[0m\u001b[0;34m\u001b[0m\u001b[0;34m\u001b[0m\u001b[0m\n",
      "\u001b[0;32m~/.local/lib/python3.10/site-packages/keras_tuner/src/tuners/randomsearch.py\u001b[0m in \u001b[0;36m__init__\u001b[0;34m(self, hypermodel, objective, max_trials, seed, hyperparameters, tune_new_entries, allow_new_entries, max_retries_per_trial, max_consecutive_failed_trials, **kwargs)\u001b[0m\n\u001b[1;32m    172\u001b[0m             \u001b[0mmax_consecutive_failed_trials\u001b[0m\u001b[0;34m=\u001b[0m\u001b[0mmax_consecutive_failed_trials\u001b[0m\u001b[0;34m,\u001b[0m\u001b[0;34m\u001b[0m\u001b[0;34m\u001b[0m\u001b[0m\n\u001b[1;32m    173\u001b[0m         )\n\u001b[0;32m--> 174\u001b[0;31m         \u001b[0msuper\u001b[0m\u001b[0;34m(\u001b[0m\u001b[0;34m)\u001b[0m\u001b[0;34m.\u001b[0m\u001b[0m__init__\u001b[0m\u001b[0;34m(\u001b[0m\u001b[0moracle\u001b[0m\u001b[0;34m,\u001b[0m \u001b[0mhypermodel\u001b[0m\u001b[0;34m,\u001b[0m \u001b[0;34m**\u001b[0m\u001b[0mkwargs\u001b[0m\u001b[0;34m)\u001b[0m\u001b[0;34m\u001b[0m\u001b[0;34m\u001b[0m\u001b[0m\n\u001b[0m\u001b[1;32m    175\u001b[0m \u001b[0;34m\u001b[0m\u001b[0m\n",
      "\u001b[0;32m~/.local/lib/python3.10/site-packages/keras_tuner/src/engine/tuner.py\u001b[0m in \u001b[0;36m__init__\u001b[0;34m(self, oracle, hypermodel, max_model_size, optimizer, loss, metrics, distribution_strategy, directory, project_name, logger, tuner_id, overwrite, executions_per_trial, **kwargs)\u001b[0m\n\u001b[1;32m    120\u001b[0m             )\n\u001b[1;32m    121\u001b[0m \u001b[0;34m\u001b[0m\u001b[0m\n\u001b[0;32m--> 122\u001b[0;31m         super().__init__(\n\u001b[0m\u001b[1;32m    123\u001b[0m             \u001b[0moracle\u001b[0m\u001b[0;34m=\u001b[0m\u001b[0moracle\u001b[0m\u001b[0;34m,\u001b[0m\u001b[0;34m\u001b[0m\u001b[0;34m\u001b[0m\u001b[0m\n\u001b[1;32m    124\u001b[0m             \u001b[0mhypermodel\u001b[0m\u001b[0;34m=\u001b[0m\u001b[0mhypermodel\u001b[0m\u001b[0;34m,\u001b[0m\u001b[0;34m\u001b[0m\u001b[0;34m\u001b[0m\u001b[0m\n",
      "\u001b[0;32m~/.local/lib/python3.10/site-packages/keras_tuner/src/engine/base_tuner.py\u001b[0m in \u001b[0;36m__init__\u001b[0;34m(self, oracle, hypermodel, directory, project_name, overwrite, **kwargs)\u001b[0m\n\u001b[1;32m    130\u001b[0m         \u001b[0;32melse\u001b[0m\u001b[0;34m:\u001b[0m\u001b[0;34m\u001b[0m\u001b[0;34m\u001b[0m\u001b[0m\n\u001b[1;32m    131\u001b[0m             \u001b[0;31m# Only populate initial space if not reloading.\u001b[0m\u001b[0;34m\u001b[0m\u001b[0;34m\u001b[0m\u001b[0m\n\u001b[0;32m--> 132\u001b[0;31m             \u001b[0mself\u001b[0m\u001b[0;34m.\u001b[0m\u001b[0m_populate_initial_space\u001b[0m\u001b[0;34m(\u001b[0m\u001b[0;34m)\u001b[0m\u001b[0;34m\u001b[0m\u001b[0;34m\u001b[0m\u001b[0m\n\u001b[0m\u001b[1;32m    133\u001b[0m \u001b[0;34m\u001b[0m\u001b[0m\n\u001b[1;32m    134\u001b[0m         \u001b[0;31m# Run in distributed mode.\u001b[0m\u001b[0;34m\u001b[0m\u001b[0;34m\u001b[0m\u001b[0m\n",
      "\u001b[0;32m~/.local/lib/python3.10/site-packages/keras_tuner/src/engine/base_tuner.py\u001b[0m in \u001b[0;36m_populate_initial_space\u001b[0;34m(self)\u001b[0m\n\u001b[1;32m    190\u001b[0m         \u001b[0mself\u001b[0m\u001b[0;34m.\u001b[0m\u001b[0mhypermodel\u001b[0m\u001b[0;34m.\u001b[0m\u001b[0mdeclare_hyperparameters\u001b[0m\u001b[0;34m(\u001b[0m\u001b[0mhp\u001b[0m\u001b[0;34m)\u001b[0m\u001b[0;34m\u001b[0m\u001b[0;34m\u001b[0m\u001b[0m\n\u001b[1;32m    191\u001b[0m         \u001b[0mself\u001b[0m\u001b[0;34m.\u001b[0m\u001b[0moracle\u001b[0m\u001b[0;34m.\u001b[0m\u001b[0mupdate_space\u001b[0m\u001b[0;34m(\u001b[0m\u001b[0mhp\u001b[0m\u001b[0;34m)\u001b[0m\u001b[0;34m\u001b[0m\u001b[0;34m\u001b[0m\u001b[0m\n\u001b[0;32m--> 192\u001b[0;31m         \u001b[0mself\u001b[0m\u001b[0;34m.\u001b[0m\u001b[0m_activate_all_conditions\u001b[0m\u001b[0;34m(\u001b[0m\u001b[0;34m)\u001b[0m\u001b[0;34m\u001b[0m\u001b[0;34m\u001b[0m\u001b[0m\n\u001b[0m\u001b[1;32m    193\u001b[0m \u001b[0;34m\u001b[0m\u001b[0m\n\u001b[1;32m    194\u001b[0m     \u001b[0;32mdef\u001b[0m \u001b[0msearch\u001b[0m\u001b[0;34m(\u001b[0m\u001b[0mself\u001b[0m\u001b[0;34m,\u001b[0m \u001b[0;34m*\u001b[0m\u001b[0mfit_args\u001b[0m\u001b[0;34m,\u001b[0m \u001b[0;34m**\u001b[0m\u001b[0mfit_kwargs\u001b[0m\u001b[0;34m)\u001b[0m\u001b[0;34m:\u001b[0m\u001b[0;34m\u001b[0m\u001b[0;34m\u001b[0m\u001b[0m\n",
      "\u001b[0;32m~/.local/lib/python3.10/site-packages/keras_tuner/src/engine/base_tuner.py\u001b[0m in \u001b[0;36m_activate_all_conditions\u001b[0;34m(self)\u001b[0m\n\u001b[1;32m    147\u001b[0m         \u001b[0mhp\u001b[0m \u001b[0;34m=\u001b[0m \u001b[0mself\u001b[0m\u001b[0;34m.\u001b[0m\u001b[0moracle\u001b[0m\u001b[0;34m.\u001b[0m\u001b[0mget_space\u001b[0m\u001b[0;34m(\u001b[0m\u001b[0;34m)\u001b[0m\u001b[0;34m\u001b[0m\u001b[0;34m\u001b[0m\u001b[0m\n\u001b[1;32m    148\u001b[0m         \u001b[0;32mwhile\u001b[0m \u001b[0;32mTrue\u001b[0m\u001b[0;34m:\u001b[0m\u001b[0;34m\u001b[0m\u001b[0;34m\u001b[0m\u001b[0m\n\u001b[0;32m--> 149\u001b[0;31m             \u001b[0mself\u001b[0m\u001b[0;34m.\u001b[0m\u001b[0mhypermodel\u001b[0m\u001b[0;34m.\u001b[0m\u001b[0mbuild\u001b[0m\u001b[0;34m(\u001b[0m\u001b[0mhp\u001b[0m\u001b[0;34m)\u001b[0m\u001b[0;34m\u001b[0m\u001b[0;34m\u001b[0m\u001b[0m\n\u001b[0m\u001b[1;32m    150\u001b[0m             \u001b[0mself\u001b[0m\u001b[0;34m.\u001b[0m\u001b[0moracle\u001b[0m\u001b[0;34m.\u001b[0m\u001b[0mupdate_space\u001b[0m\u001b[0;34m(\u001b[0m\u001b[0mhp\u001b[0m\u001b[0;34m)\u001b[0m\u001b[0;34m\u001b[0m\u001b[0;34m\u001b[0m\u001b[0m\n\u001b[1;32m    151\u001b[0m \u001b[0;34m\u001b[0m\u001b[0m\n",
      "\u001b[0;32m/tmp/ipykernel_5006/260612589.py\u001b[0m in \u001b[0;36mbuild_model\u001b[0;34m(hp)\u001b[0m\n\u001b[1;32m      6\u001b[0m     \u001b[0mmodel\u001b[0m \u001b[0;34m=\u001b[0m \u001b[0mkeras\u001b[0m\u001b[0;34m.\u001b[0m\u001b[0mSequential\u001b[0m\u001b[0;34m(\u001b[0m\u001b[0;34m)\u001b[0m\u001b[0;34m\u001b[0m\u001b[0;34m\u001b[0m\u001b[0m\n\u001b[1;32m      7\u001b[0m     model.add(keras.layers.Dense(units=hp.Int('units', min_value=32, max_value=512, step=32),\n\u001b[0;32m----> 8\u001b[0;31m                                  activation='relu', input_shape=(num_features,)))\n\u001b[0m\u001b[1;32m      9\u001b[0m     \u001b[0mmodel\u001b[0m\u001b[0;34m.\u001b[0m\u001b[0madd\u001b[0m\u001b[0;34m(\u001b[0m\u001b[0mkeras\u001b[0m\u001b[0;34m.\u001b[0m\u001b[0mlayers\u001b[0m\u001b[0;34m.\u001b[0m\u001b[0mDense\u001b[0m\u001b[0;34m(\u001b[0m\u001b[0;36m3\u001b[0m\u001b[0;34m,\u001b[0m \u001b[0mactivation\u001b[0m\u001b[0;34m=\u001b[0m\u001b[0;34m'softmax'\u001b[0m\u001b[0;34m)\u001b[0m\u001b[0;34m)\u001b[0m  \u001b[0;31m# Assumindo uma tarefa de classificação com 3 classes\u001b[0m\u001b[0;34m\u001b[0m\u001b[0;34m\u001b[0m\u001b[0m\n\u001b[1;32m     10\u001b[0m \u001b[0;34m\u001b[0m\u001b[0m\n",
      "\u001b[0;31mNameError\u001b[0m: name 'num_features' is not defined"
     ]
    }
   ],
   "source": [
    "import tensorflow as tf\n",
    "from tensorflow import keras\n",
    "from kerastuner import RandomSearch\n",
    "\n",
    "def build_model(hp):\n",
    "    model = keras.Sequential()\n",
    "    model.add(keras.layers.Dense(units=hp.Int('units', min_value=32, max_value=512, step=32),\n",
    "                                 activation='relu', input_shape=(num_features,)))\n",
    "    model.add(keras.layers.Dense(3, activation='softmax'))  # Assumindo uma tarefa de classificação com 3 classes\n",
    "    \n",
    "    # Otimização de hiperparâmetros: taxa de aprendizado e escolha do otimizador\n",
    "    hp_learning_rate = hp.Choice('learning_rate', values=[1e-2, 1e-3, 1e-4])\n",
    "    hp_optimizer = hp.Choice('optimizer', values=['adam', 'sgd'])\n",
    "    \n",
    "    if hp_optimizer == 'adam':\n",
    "        optimizer = keras.optimizers.Adam(learning_rate=hp_learning_rate)\n",
    "    else:\n",
    "        optimizer = keras.optimizers.SGD(learning_rate=hp_learning_rate)\n",
    "    \n",
    "    model.compile(optimizer=optimizer,\n",
    "                  loss='categorical_crossentropy',\n",
    "                  metrics=['accuracy'])\n",
    "    return model\n",
    "\n",
    "# Criando o objeto de busca do tuner\n",
    "tuner = RandomSearch(\n",
    "    build_model,\n",
    "    objective='val_accuracy',\n",
    "    max_trials=5,\n",
    "    executions_per_trial=3,\n",
    "    directory='my_dir',\n",
    "    project_name='keras_tuning'\n",
    ")"
   ]
  },
  {
   "cell_type": "markdown",
   "id": "cd9899b4",
   "metadata": {},
   "source": [
    "Neste exemplo, build_model é uma função que constrói um modelo Keras. Ela usa o objeto hp (de hiperparâmetros) do keras-tuner para explorar diferentes valores de unidades na camada oculta, taxas de aprendizado e otimizadores. O keras-tuner então busca no espaço de hiperparâmetros fornecido para encontrar a melhor combinação de acordo com a acurácia de validação."
   ]
  }
 ],
 "metadata": {
  "kernelspec": {
   "display_name": "Python 3 (ipykernel)",
   "language": "python",
   "name": "python3"
  },
  "language_info": {
   "codemirror_mode": {
    "name": "ipython",
    "version": 3
   },
   "file_extension": ".py",
   "mimetype": "text/x-python",
   "name": "python",
   "nbconvert_exporter": "python",
   "pygments_lexer": "ipython3",
   "version": "3.10.12"
  }
 },
 "nbformat": 4,
 "nbformat_minor": 5
}
