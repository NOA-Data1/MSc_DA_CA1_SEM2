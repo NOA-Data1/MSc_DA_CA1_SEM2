{
 "cells": [
  {
   "cell_type": "markdown",
   "id": "5f467566",
   "metadata": {},
   "source": [
    "## Dataset: Maternal Health Risk\n",
    "\n",
    "### Licence of use\n",
    "\n",
    "- That dataset was collected from UCI Machine Learning Repository -https://archive.ics.uci.edu/dataset/863/maternal+health+risk\n",
    "\n",
    "- licence by Creative Commons Attribution 4.0 (CC BY 4.0) https://creativecommons.org/licenses/by/4.0/\n"
   ]
  },
  {
   "cell_type": "markdown",
   "id": "47b66311",
   "metadata": {},
   "source": [
    "## About the dataset\n",
    "\n",
    "- The Data has been collected from different hospitals, community clinics, maternal health cares from the rural areas of Bangladesh through the IoT based risk monitoring system.\n",
    "\n",
    "###  Attributes Description:\n",
    "\n",
    "- Age - Age in years when a woman is pregnant\n",
    "- SystolicBP - Upper value of Blood Pressure in mmHg\n",
    "- DiastolicBP - Lower value of Blood Pressure in mmHg\n",
    "- BS - Blood glucose levels is in terms of a molar concentration, mmol/L\n",
    "- BodyTemp - Body temperature in Fahrenheit\n",
    "- HeartRate - Resting heart rate in beats per minute\n",
    "- RiskLevel - Predicted Risk Intensity Level during pregnancy ['high risk', 'mid risk', 'low risk']"
   ]
  },
  {
   "cell_type": "code",
   "execution_count": 57,
   "id": "67ca7143",
   "metadata": {},
   "outputs": [
    {
     "data": {
      "text/html": [
       "\n",
       "        <div>\n",
       "            <p><b>SparkContext</b></p>\n",
       "\n",
       "            <p><a href=\"http://10.0.2.15:4040\">Spark UI</a></p>\n",
       "\n",
       "            <dl>\n",
       "              <dt>Version</dt>\n",
       "                <dd><code>v3.1.3</code></dd>\n",
       "              <dt>Master</dt>\n",
       "                <dd><code>local[*]</code></dd>\n",
       "              <dt>AppName</dt>\n",
       "                <dd><code>PySparkShell</code></dd>\n",
       "            </dl>\n",
       "        </div>\n",
       "        "
      ],
      "text/plain": [
       "<SparkContext master=local[*] appName=PySparkShell>"
      ]
     },
     "execution_count": 57,
     "metadata": {},
     "output_type": "execute_result"
    }
   ],
   "source": [
    "sc"
   ]
  },
  {
   "cell_type": "markdown",
   "id": "437af6e6",
   "metadata": {},
   "source": [
    "# 2. Data Understanding Phase"
   ]
  },
  {
   "cell_type": "markdown",
   "id": "2487ee3f",
   "metadata": {},
   "source": [
    "### Practical Big Data (PySparkSQL) - Part 1"
   ]
  },
  {
   "cell_type": "code",
   "execution_count": 58,
   "id": "5c999a6b",
   "metadata": {},
   "outputs": [],
   "source": [
    "# Load the libraries\n",
    "import os\n",
    "import numpy as np\n",
    "import pandas as pd\n",
    "from pyspark.sql.types import *\n",
    "from pyspark.ml import Pipeline\n",
    "from pyspark.sql import functions as f\n",
    "from pyspark.sql.functions import udf, StringType\n",
    "from pyspark.sql import SparkSession, functions as F\n",
    "from pyspark.ml.evaluation import MulticlassClassificationEvaluator\n",
    "from pyspark.ml.classification import MultilayerPerceptronClassifier\n",
    "from pyspark.ml.feature import OneHotEncoder, VectorAssembler, StringIndexer"
   ]
  },
  {
   "cell_type": "code",
   "execution_count": 59,
   "id": "2aa3384e",
   "metadata": {},
   "outputs": [],
   "source": [
    "# Due the different version of python can be found and each machine or libriries \n",
    "# Avoid warnigs\n",
    "import warnings\n",
    "warnings.filterwarnings(\"ignore\")"
   ]
  },
  {
   "cell_type": "code",
   "execution_count": 60,
   "id": "b332beca",
   "metadata": {},
   "outputs": [],
   "source": [
    "#Import PySparkSQL\n",
    "import pyspark\n",
    "from pyspark.sql import SparkSession\n",
    "\n",
    "# Create SparkSession\n",
    "spark = SparkSession.builder \\\n",
    "    .appName(\"Análise de Dados de Saúde Materna\") \\\n",
    "    .getOrCreate()"
   ]
  },
  {
   "cell_type": "code",
   "execution_count": 61,
   "id": "427c2f68",
   "metadata": {},
   "outputs": [],
   "source": [
    "# Path to dataset\n",
    "csv_file = \"/user/user1/Maternal_Health_Risk.csv\"\n",
    "\n",
    "# Read and create a temporary view\n",
    "df = spark.read.format(\"csv\") \\\n",
    "    .option(\"inferSchema\", \"true\") \\\n",
    "    .option(\"header\", \"true\") \\\n",
    "    .load(csv_file)\n",
    "df.createOrReplaceTempView(\"rawdata\")"
   ]
  },
  {
   "cell_type": "code",
   "execution_count": 6,
   "id": "7863afab",
   "metadata": {},
   "outputs": [
    {
     "name": "stdout",
     "output_type": "stream",
     "text": [
      "root\n",
      " |-- Age: integer (nullable = true)\n",
      " |-- SystolicBP: integer (nullable = true)\n",
      " |-- DiastolicBP: integer (nullable = true)\n",
      " |-- BS: double (nullable = true)\n",
      " |-- BodyTemp: double (nullable = true)\n",
      " |-- HeartRate: integer (nullable = true)\n",
      " |-- RiskLevel: string (nullable = true)\n",
      "\n"
     ]
    }
   ],
   "source": [
    "# Visualise inferred schema\n",
    "df.printSchema()"
   ]
  },
  {
   "cell_type": "code",
   "execution_count": 7,
   "id": "68d93114",
   "metadata": {},
   "outputs": [
    {
     "name": "stderr",
     "output_type": "stream",
     "text": [
      "[Stage 2:>                                                          (0 + 1) / 1]\r"
     ]
    },
    {
     "name": "stdout",
     "output_type": "stream",
     "text": [
      "+---+----------+-----------+----+--------+---------+---------+\n",
      "|Age|SystolicBP|DiastolicBP|  BS|BodyTemp|HeartRate|RiskLevel|\n",
      "+---+----------+-----------+----+--------+---------+---------+\n",
      "| 25|       130|         80|15.0|    98.0|       86|high risk|\n",
      "| 35|       140|         90|13.0|    98.0|       70|high risk|\n",
      "| 29|        90|         70| 8.0|   100.0|       80|high risk|\n",
      "| 30|       140|         85| 7.0|    98.0|       70|high risk|\n",
      "| 35|       120|         60| 6.1|    98.0|       76| low risk|\n",
      "| 23|       140|         80|7.01|    98.0|       70|high risk|\n",
      "| 23|       130|         70|7.01|    98.0|       78| mid risk|\n",
      "| 35|        85|         60|11.0|   102.0|       86|high risk|\n",
      "| 32|       120|         90| 6.9|    98.0|       70| mid risk|\n",
      "| 42|       130|         80|18.0|    98.0|       70|high risk|\n",
      "+---+----------+-----------+----+--------+---------+---------+\n",
      "\n"
     ]
    },
    {
     "name": "stderr",
     "output_type": "stream",
     "text": [
      "                                                                                \r"
     ]
    }
   ],
   "source": [
    "# Execute an SQL query to select the first 10 rows from the temporary view\n",
    "data = spark.sql(\"SELECT * FROM rawdata LIMIT 10\")\n",
    "\n",
    "# Directly display the query results\n",
    "data.show()"
   ]
  },
  {
   "cell_type": "code",
   "execution_count": 63,
   "id": "3c94ac11",
   "metadata": {},
   "outputs": [
    {
     "name": "stdout",
     "output_type": "stream",
     "text": [
      "+---------+\n",
      "|TotalRows|\n",
      "+---------+\n",
      "|     1014|\n",
      "+---------+\n",
      "\n",
      "Number of Columns: 7\n"
     ]
    }
   ],
   "source": [
    "# Count rows\n",
    "num_rows = spark.sql(\"SELECT COUNT(*) as TotalRows FROM rawdata\").show()\n",
    "\n",
    "# Count columns using the PySpark DataFrame (not directly SQL)\n",
    "num_columns = len(df.columns)\n",
    "print(f\"Number of Columns: {num_columns}\")"
   ]
  },
  {
   "cell_type": "markdown",
   "id": "6989f4ee",
   "metadata": {},
   "source": [
    "### Missing values"
   ]
  },
  {
   "cell_type": "code",
   "execution_count": 64,
   "id": "a6e29e6d",
   "metadata": {},
   "outputs": [
    {
     "name": "stdout",
     "output_type": "stream",
     "text": [
      "+---+----------+-----------+---+--------+---------+---------+\n",
      "|Age|SystolicBP|DiastolicBP| BS|BodyTemp|HeartRate|RiskLevel|\n",
      "+---+----------+-----------+---+--------+---------+---------+\n",
      "|  0|         0|          0|  0|       0|        0|        0|\n",
      "+---+----------+-----------+---+--------+---------+---------+\n",
      "\n"
     ]
    }
   ],
   "source": [
    "from pyspark.sql.functions import col, sum as _sum, when\n",
    "\n",
    "# Listing the number of missing values per column\n",
    "df.select([_sum(when(col(c).isNull(), 1).otherwise(0)).alias(c) for c in df.columns]).show()"
   ]
  },
  {
   "cell_type": "code",
   "execution_count": 66,
   "id": "56e05145",
   "metadata": {},
   "outputs": [
    {
     "name": "stderr",
     "output_type": "stream",
     "text": [
      "                                                                                \r"
     ]
    },
    {
     "name": "stdout",
     "output_type": "stream",
     "text": [
      "   RiskLevel  Count\n",
      "0   low risk    406\n",
      "1   mid risk    336\n",
      "2  high risk    272\n"
     ]
    }
   ],
   "source": [
    "# Collecting data for visualization\n",
    "risk_level_distribution = spark.sql(\"SELECT RiskLevel, COUNT(*) as Count FROM rawdata GROUP BY RiskLevel\").toPandas()\n",
    "\n",
    "# Check the collected data\n",
    "print(risk_level_distribution)"
   ]
  },
  {
   "cell_type": "code",
   "execution_count": 69,
   "id": "4c35e6e3",
   "metadata": {},
   "outputs": [
    {
     "data": {
      "image/png": "[encoded data removed]",
      "text/plain": [
       "<Figure size 720x432 with 1 Axes>"
      ]
     },
     "metadata": {
      "needs_background": "light"
     },
     "output_type": "display_data"
    }
   ],
   "source": [
    "import matplotlib.pyplot as plt\n",
    "\n",
    "# Plotting the distribution of Risk Levels with counts above bars\n",
    "plt.figure(figsize=(10, 6))\n",
    "bars = plt.bar(risk_level_distribution['RiskLevel'], risk_level_distribution['Count'], color=['skyblue', 'lightgreen', 'salmon'])\n",
    "\n",
    "# Adding counts above bars\n",
    "for bar in bars:\n",
    "    yval = bar.get_height()\n",
    "    plt.text(bar.get_x() + bar.get_width()/2, yval + 0.5, yval, ha='center', va='bottom')\n",
    "\n",
    "plt.title('Distribution of Risk Levels')\n",
    "plt.xlabel('Risk Level')\n",
    "plt.ylabel('Count')\n",
    "plt.xticks(rotation=45)\n",
    "plt.show()"
   ]
  },
  {
   "cell_type": "markdown",
   "id": "b9f0cb65",
   "metadata": {},
   "source": [
    "### Comparative bar chart for average Systolic and Diastolic blood pressure, by Risk Level level."
   ]
  },
  {
   "cell_type": "code",
   "execution_count": 73,
   "id": "96436cb1",
   "metadata": {},
   "outputs": [
    {
     "name": "stderr",
     "output_type": "stream",
     "text": [
      "                                                                                \r"
     ]
    }
   ],
   "source": [
    "# Determining the associations between the average systolic and diastolic blood pressures (SystolicBP and DiastolicBP, respectively) and the RiskLevel.\n",
    "pressure_risk = spark.sql(\"\"\"\n",
    "SELECT \n",
    "    RiskLevel, \n",
    "    AVG(SystolicBP) AS AvgSystolicBP, \n",
    "    AVG(DiastolicBP) AS AvgDiastolicBP \n",
    "FROM rawdata \n",
    "GROUP BY RiskLevel\n",
    "\"\"\").toPandas()"
   ]
  },
  {
   "cell_type": "markdown",
   "id": "477e4fd2",
   "metadata": {},
   "source": [
    "- The purpose of the query is to evaluate the data with an emphasis on determining the associations between the average systolic and diastolic blood pressures SystolicBP and DiastolicBP, respectively and the RiskLevel."
   ]
  },
  {
   "cell_type": "code",
   "execution_count": 77,
   "id": "abd1b141",
   "metadata": {},
   "outputs": [
    {
     "data": {
      "image/png": "[encoded data removed]",
      "text/plain": [
       "<Figure size 432x288 with 1 Axes>"
      ]
     },
     "metadata": {
      "needs_background": "light"
     },
     "output_type": "display_data"
    }
   ],
   "source": [
    "import matplotlib.pyplot as plt\n",
    "import numpy as np\n",
    "\n",
    "# Bar width\n",
    "barWidth = 0.50\n",
    "\n",
    "# Setting the position of the bars\n",
    "r1 = np.arange(len(pressure_risk['RiskLevel']))\n",
    "r2 = [x + barWidth for x in r1]\n",
    "\n",
    "# Creating the bars\n",
    "plt.bar(r1, pressure_risk['AvgSystolicBP'], color='blue', width=barWidth, edgecolor='grey', label='Systolic')\n",
    "plt.bar(r2, pressure_risk['AvgDiastolicBP'], color='red', width=barWidth, edgecolor='grey', label='Diastolic')\n",
    "\n",
    "# Adding labels to the bars\n",
    "plt.xlabel('Risk Level', fontweight='bold')\n",
    "plt.xticks([r + barWidth for r in range(len(pressure_risk['RiskLevel']))], pressure_risk['RiskLevel'])\n",
    "\n",
    "# Creating the legend and showing the plot\n",
    "plt.legend()\n",
    "plt.show()"
   ]
  },
  {
   "cell_type": "markdown",
   "id": "672fa0eb",
   "metadata": {},
   "source": [
    "Este código primeiro configura o ambiente de plotagem determinando a largura das barras e a posição delas no gráfico. Depois, plota duas séries de dados: uma para a pressão sistólica média e outra para a diastólica média, cada uma associada a um nível de risco diferente. A legenda e os rótulos dos eixos ajudam a tornar o gráfico mais legível.\n",
    "\n",
    "Esse gráfico proporcionará uma visualização clara das diferenças nas médias de pressão sistólica e diastólica entre os diferentes níveis de risco. Se precisar de mais ajuda ou tiver outras perguntas, estou aqui!"
   ]
  },
  {
   "cell_type": "code",
   "execution_count": null,
   "id": "e62b4372",
   "metadata": {},
   "outputs": [],
   "source": []
  },
  {
   "cell_type": "code",
   "execution_count": 16,
   "id": "ed0f1e82",
   "metadata": {},
   "outputs": [
    {
     "name": "stderr",
     "output_type": "stream",
     "text": [
      "                                                                                \r"
     ]
    }
   ],
   "source": [
    "age_risk = spark.sql(\"\"\"\n",
    "SELECT \n",
    "    RiskLevel, \n",
    "    AVG(Age) AS AvgAge \n",
    "FROM rawdata \n",
    "GROUP BY RiskLevel\n",
    "ORDER BY CASE \n",
    "    WHEN RiskLevel = 'low risk' THEN 1\n",
    "    WHEN RiskLevel = 'mid risk' THEN 2\n",
    "    WHEN RiskLevel = 'high risk' THEN 3\n",
    "    ELSE 4\n",
    "END\n",
    "\"\"\").toPandas()"
   ]
  },
  {
   "cell_type": "markdown",
   "id": "f7ebf5f0",
   "metadata": {},
   "source": [
    "- By analyzing how the average age varies between different risk levels, through this analysis it is possible to identify age-related patterns or trends that may be relevant to understanding risk."
   ]
  },
  {
   "cell_type": "markdown",
   "id": "cbdd18a8",
   "metadata": {},
   "source": [
    "### Average Age by Risk Level chart"
   ]
  },
  {
   "cell_type": "code",
   "execution_count": 83,
   "id": "5a278412",
   "metadata": {},
   "outputs": [
    {
     "data": {
      "image/png": "[encoded data removed]",
      "text/plain": [
       "<Figure size 576x432 with 1 Axes>"
      ]
     },
     "metadata": {
      "needs_background": "light"
     },
     "output_type": "display_data"
    }
   ],
   "source": [
    "import matplotlib.pyplot as plt\n",
    "\n",
    "# Adjusting color_mapping to match the exact strings from the SQL query\n",
    "color_mapping = {\n",
    "    'high risk': 'red',    # Matching 'high risk' to red\n",
    "    'mid risk': 'yellow',  # Matching 'mid risk' to yellow\n",
    "    'low risk': 'green'    # Matching 'low risk' to green\n",
    "}\n",
    "\n",
    "# Applying the color mapping to generate a list of colors for each bar\n",
    "# This assumes age_risk['RiskLevel'] contains 'low risk', 'mid risk', 'high risk'\n",
    "bar_colors = [color_mapping[risk_level] for risk_level in age_risk['RiskLevel']]\n",
    "\n",
    "plt.figure(figsize=(8, 6))\n",
    "plt.bar(age_risk['RiskLevel'], age_risk['AvgAge'], color=bar_colors)\n",
    "\n",
    "# Adding titles and labels\n",
    "plt.title('Average Age by Risk Level')\n",
    "plt.xlabel('Risk Level')\n",
    "plt.ylabel('Average Age')\n",
    "plt.xticks(rotation=45)  # Rotating X-axis labels for better readability\n",
    "\n",
    "# Displaying the chart\n",
    "plt.show()"
   ]
  },
  {
   "cell_type": "markdown",
   "id": "3101cbac",
   "metadata": {},
   "source": [
    "- This chart provides a clear visualization of how the average age varies between different risk levels. This can help identify whether there is an age trend associated with risk level."
   ]
  },
  {
   "cell_type": "markdown",
   "id": "6d20e354",
   "metadata": {},
   "source": [
    "# Modeling Phase"
   ]
  },
  {
   "cell_type": "markdown",
   "id": "690d055e",
   "metadata": {},
   "source": [
    "##  Neural Network For Binary Classification"
   ]
  },
  {
   "cell_type": "code",
   "execution_count": 84,
   "id": "c662481e",
   "metadata": {},
   "outputs": [],
   "source": [
    "import tensorflow as tf\n",
    "from tensorflow.keras.models import Sequential\n",
    "from tensorflow.keras.layers import Dense\n",
    "\n",
    "# Determine the number of input features\n",
    "n_features = X_train_scaled.shape[1]\n",
    "\n",
    "# Create a Sequential model\n",
    "model = Sequential()\n",
    "model.add(Dense(10, activation='relu', input_shape=(n_features,)))\n",
    "model.add(Dense(8, activation='relu'))\n",
    "# If RiskLevel is binary, use 1 output neuron with sigmoid, otherwise adjust for multiclass\n",
    "model.add(Dense(1, activation='sigmoid'))  # Use 'softmax' and adjust the number of neurons if it's multiclass\n",
    "\n",
    "# Compile the model\n",
    "model.compile(optimizer='adam', loss='binary_crossentropy', metrics=['accuracy'])  # Adjust as necessary"
   ]
  },
  {
   "cell_type": "markdown",
   "id": "d5fe8e9d",
   "metadata": {},
   "source": [
    "- Import Libraries: Imports TensorFlow and specific modules for creating models (Sequential) and layers (Dense).\n",
    "\n",
    "- Determine Number of Input Features: Sets n_features to the number of columns in X_train_scaled, excluding the target variable. This tells the model how many inputs each data point has.\n",
    "\n",
    "- Create Sequential Model:\n",
    "\n",
    "- A Sequential model is a linear stack of layers where each layer has exactly one input tensor and one output tensor.\n",
    "- The Dense layer is a fully connected layer, meaning each neuron in the layer receives input from all neurons of the previous layer.\n",
    "The first Dense layer specifies input_shape=(n_features,), which defines the shape of the input data.\n",
    "relu (Rectified Linear Unit) is used as the activation function for hidden layers to introduce non-linearity, helping the network learn complex patterns.\n",
    "Output Layer:\n",
    "\n",
    "For binary classification (two classes), the output layer has 1 neuron and uses the sigmoid activation function, which outputs a probability (0 to 1) indicating class membership.\n",
    "For multiclass classification, you would use the softmax activation function and adjust the number of neurons to match the number of classes.\n",
    "Compile the Model:\n",
    "\n",
    "The model is compiled with the adam optimizer, a popular choice that adjusts the learning rate dynamically.\n",
    "binary_crossentropy is used as the loss function for binary classification, which is suitable for binary labels.\n",
    "Metrics: accuracy is used to evaluate the performance of the model during training and testing.\n",
    "Purpose\n",
    "This code sets up a neural network for binary classification, preparing it for training with your dataset. The model learns to predict the binary RiskLevel based on input features. After training, it can classify new, unseen data points into one of the two categories based on the learned patterns.\n",
    "\n",
    "This process is crucial for tasks where you need to categorize inputs into two groups, such as predicting whether a condition is present (risk) or not based on various indicators (features)."
   ]
  },
  {
   "cell_type": "code",
   "execution_count": 85,
   "id": "59ed2cf7",
   "metadata": {},
   "outputs": [
    {
     "name": "stdout",
     "output_type": "stream",
     "text": [
      "Epoch 1/140\n",
      "\u001b[1m21/21\u001b[0m \u001b[32m━━━━━━━━━━━━━━━━━━━━\u001b[0m\u001b[37m\u001b[0m \u001b[1m24s\u001b[0m 50ms/step - accuracy: 0.2801 - loss: 0.7380 - val_accuracy: 0.2761 - val_loss: 0.6974\n",
      "Epoch 2/140\n",
      "\u001b[1m21/21\u001b[0m \u001b[32m━━━━━━━━━━━━━━━━━━━━\u001b[0m\u001b[37m\u001b[0m \u001b[1m0s\u001b[0m 11ms/step - accuracy: 0.3763 - loss: 0.6641 - val_accuracy: 0.3926 - val_loss: 0.6259\n",
      "Epoch 3/140\n",
      "\u001b[1m21/21\u001b[0m \u001b[32m━━━━━━━━━━━━━━━━━━━━\u001b[0m\u001b[37m\u001b[0m \u001b[1m0s\u001b[0m 10ms/step - accuracy: 0.4805 - loss: 0.6103 - val_accuracy: 0.4356 - val_loss: 0.5581\n",
      "Epoch 4/140\n",
      "\u001b[1m21/21\u001b[0m \u001b[32m━━━━━━━━━━━━━━━━━━━━\u001b[0m\u001b[37m\u001b[0m \u001b[1m0s\u001b[0m 11ms/step - accuracy: 0.4771 - loss: 0.5379 - val_accuracy: 0.4540 - val_loss: 0.4842\n",
      "Epoch 5/140\n",
      "\u001b[1m21/21\u001b[0m \u001b[32m━━━━━━━━━━━━━━━━━━━━\u001b[0m\u001b[37m\u001b[0m \u001b[1m0s\u001b[0m 6ms/step - accuracy: 0.5449 - loss: 0.4840 - val_accuracy: 0.4601 - val_loss: 0.3993\n",
      "Epoch 6/140\n",
      "\u001b[1m21/21\u001b[0m \u001b[32m━━━━━━━━━━━━━━━━━━━━\u001b[0m\u001b[37m\u001b[0m \u001b[1m0s\u001b[0m 11ms/step - accuracy: 0.5283 - loss: 0.4276 - val_accuracy: 0.4601 - val_loss: 0.3055\n",
      "Epoch 7/140\n",
      "\u001b[1m21/21\u001b[0m \u001b[32m━━━━━━━━━━━━━━━━━━━━\u001b[0m\u001b[37m\u001b[0m \u001b[1m0s\u001b[0m 9ms/step - accuracy: 0.5232 - loss: 0.3548 - val_accuracy: 0.4601 - val_loss: 0.2054\n",
      "Epoch 8/140\n",
      "\u001b[1m21/21\u001b[0m \u001b[32m━━━━━━━━━━━━━━━━━━━━\u001b[0m\u001b[37m\u001b[0m \u001b[1m0s\u001b[0m 15ms/step - accuracy: 0.5335 - loss: 0.2721 - val_accuracy: 0.4601 - val_loss: 0.0947\n",
      "Epoch 9/140\n",
      "\u001b[1m21/21\u001b[0m \u001b[32m━━━━━━━━━━━━━━━━━━━━\u001b[0m\u001b[37m\u001b[0m \u001b[1m1s\u001b[0m 12ms/step - accuracy: 0.5247 - loss: 0.1798 - val_accuracy: 0.4847 - val_loss: -0.0205\n",
      "Epoch 10/140\n",
      "\u001b[1m21/21\u001b[0m \u001b[32m━━━━━━━━━━━━━━━━━━━━\u001b[0m\u001b[37m\u001b[0m \u001b[1m1s\u001b[0m 10ms/step - accuracy: 0.5162 - loss: 0.0470 - val_accuracy: 0.4969 - val_loss: -0.1361\n",
      "Epoch 11/140\n",
      "\u001b[1m21/21\u001b[0m \u001b[32m━━━━━━━━━━━━━━━━━━━━\u001b[0m\u001b[37m\u001b[0m \u001b[1m0s\u001b[0m 12ms/step - accuracy: 0.5714 - loss: -0.0304 - val_accuracy: 0.4969 - val_loss: -0.2617\n",
      "Epoch 12/140\n",
      "\u001b[1m21/21\u001b[0m \u001b[32m━━━━━━━━━━━━━━━━━━━━\u001b[0m\u001b[37m\u001b[0m \u001b[1m0s\u001b[0m 8ms/step - accuracy: 0.5138 - loss: -0.1573 - val_accuracy: 0.5092 - val_loss: -0.3926\n",
      "Epoch 13/140\n",
      "\u001b[1m21/21\u001b[0m \u001b[32m━━━━━━━━━━━━━━━━━━━━\u001b[0m\u001b[37m\u001b[0m \u001b[1m0s\u001b[0m 10ms/step - accuracy: 0.5218 - loss: -0.2024 - val_accuracy: 0.5092 - val_loss: -0.5307\n",
      "Epoch 14/140\n",
      "\u001b[1m21/21\u001b[0m \u001b[32m━━━━━━━━━━━━━━━━━━━━\u001b[0m\u001b[37m\u001b[0m \u001b[1m0s\u001b[0m 11ms/step - accuracy: 0.5102 - loss: -0.2680 - val_accuracy: 0.5153 - val_loss: -0.6736\n",
      "Epoch 15/140\n",
      "\u001b[1m21/21\u001b[0m \u001b[32m━━━━━━━━━━━━━━━━━━━━\u001b[0m\u001b[37m\u001b[0m \u001b[1m0s\u001b[0m 7ms/step - accuracy: 0.5280 - loss: -0.5064 - val_accuracy: 0.5153 - val_loss: -0.8426\n",
      "Epoch 16/140\n",
      "\u001b[1m21/21\u001b[0m \u001b[32m━━━━━━━━━━━━━━━━━━━━\u001b[0m\u001b[37m\u001b[0m \u001b[1m0s\u001b[0m 7ms/step - accuracy: 0.5696 - loss: -0.3444 - val_accuracy: 0.5153 - val_loss: -0.9970\n",
      "Epoch 17/140\n",
      "\u001b[1m21/21\u001b[0m \u001b[32m━━━━━━━━━━━━━━━━━━━━\u001b[0m\u001b[37m\u001b[0m \u001b[1m0s\u001b[0m 8ms/step - accuracy: 0.5440 - loss: -0.6859 - val_accuracy: 0.5153 - val_loss: -1.1857\n",
      "Epoch 18/140\n",
      "\u001b[1m21/21\u001b[0m \u001b[32m━━━━━━━━━━━━━━━━━━━━\u001b[0m\u001b[37m\u001b[0m \u001b[1m0s\u001b[0m 10ms/step - accuracy: 0.5422 - loss: -0.7013 - val_accuracy: 0.5153 - val_loss: -1.3810\n",
      "Epoch 19/140\n",
      "\u001b[1m21/21\u001b[0m \u001b[32m━━━━━━━━━━━━━━━━━━━━\u001b[0m\u001b[37m\u001b[0m \u001b[1m0s\u001b[0m 7ms/step - accuracy: 0.5492 - loss: -0.9260 - val_accuracy: 0.5153 - val_loss: -1.6116\n",
      "Epoch 20/140\n",
      "\u001b[1m21/21\u001b[0m \u001b[32m━━━━━━━━━━━━━━━━━━━━\u001b[0m\u001b[37m\u001b[0m \u001b[1m0s\u001b[0m 11ms/step - accuracy: 0.5356 - loss: -1.0497 - val_accuracy: 0.5215 - val_loss: -1.8576\n",
      "Epoch 21/140\n",
      "\u001b[1m21/21\u001b[0m \u001b[32m━━━━━━━━━━━━━━━━━━━━\u001b[0m\u001b[37m\u001b[0m \u001b[1m0s\u001b[0m 8ms/step - accuracy: 0.5530 - loss: -1.0894 - val_accuracy: 0.5215 - val_loss: -2.1184\n",
      "Epoch 22/140\n",
      "\u001b[1m21/21\u001b[0m \u001b[32m━━━━━━━━━━━━━━━━━━━━\u001b[0m\u001b[37m\u001b[0m \u001b[1m0s\u001b[0m 6ms/step - accuracy: 0.5521 - loss: -1.3605 - val_accuracy: 0.5276 - val_loss: -2.4263\n",
      "Epoch 23/140\n",
      "\u001b[1m21/21\u001b[0m \u001b[32m━━━━━━━━━━━━━━━━━━━━\u001b[0m\u001b[37m\u001b[0m \u001b[1m0s\u001b[0m 8ms/step - accuracy: 0.5087 - loss: -1.5559 - val_accuracy: 0.5276 - val_loss: -2.7552\n",
      "Epoch 24/140\n",
      "\u001b[1m21/21\u001b[0m \u001b[32m━━━━━━━━━━━━━━━━━━━━\u001b[0m\u001b[37m\u001b[0m \u001b[1m0s\u001b[0m 7ms/step - accuracy: 0.5220 - loss: -1.7417 - val_accuracy: 0.5276 - val_loss: -3.1187\n",
      "Epoch 25/140\n",
      "\u001b[1m21/21\u001b[0m \u001b[32m━━━━━━━━━━━━━━━━━━━━\u001b[0m\u001b[37m\u001b[0m \u001b[1m0s\u001b[0m 6ms/step - accuracy: 0.5276 - loss: -2.2896 - val_accuracy: 0.5276 - val_loss: -3.5351\n",
      "Epoch 26/140\n",
      "\u001b[1m21/21\u001b[0m \u001b[32m━━━━━━━━━━━━━━━━━━━━\u001b[0m\u001b[37m\u001b[0m \u001b[1m0s\u001b[0m 11ms/step - accuracy: 0.5296 - loss: -2.3236 - val_accuracy: 0.5276 - val_loss: -3.9571\n",
      "Epoch 27/140\n",
      "\u001b[1m21/21\u001b[0m \u001b[32m━━━━━━━━━━━━━━━━━━━━\u001b[0m\u001b[37m\u001b[0m \u001b[1m0s\u001b[0m 7ms/step - accuracy: 0.5299 - loss: -2.9314 - val_accuracy: 0.5276 - val_loss: -4.5063\n",
      "Epoch 28/140\n",
      "\u001b[1m21/21\u001b[0m \u001b[32m━━━━━━━━━━━━━━━━━━━━\u001b[0m\u001b[37m\u001b[0m \u001b[1m0s\u001b[0m 8ms/step - accuracy: 0.5457 - loss: -3.2489 - val_accuracy: 0.5276 - val_loss: -5.0225\n",
      "Epoch 29/140\n",
      "\u001b[1m21/21\u001b[0m \u001b[32m━━━━━━━━━━━━━━━━━━━━\u001b[0m\u001b[37m\u001b[0m \u001b[1m0s\u001b[0m 8ms/step - accuracy: 0.5652 - loss: -3.1395 - val_accuracy: 0.5276 - val_loss: -5.5989\n",
      "Epoch 30/140\n",
      "\u001b[1m21/21\u001b[0m \u001b[32m━━━━━━━━━━━━━━━━━━━━\u001b[0m\u001b[37m\u001b[0m \u001b[1m0s\u001b[0m 13ms/step - accuracy: 0.5403 - loss: -4.2436 - val_accuracy: 0.5276 - val_loss: -6.2790\n",
      "Epoch 31/140\n",
      "\u001b[1m21/21\u001b[0m \u001b[32m━━━━━━━━━━━━━━━━━━━━\u001b[0m\u001b[37m\u001b[0m \u001b[1m0s\u001b[0m 11ms/step - accuracy: 0.5391 - loss: -5.1257 - val_accuracy: 0.5276 - val_loss: -6.9530\n",
      "Epoch 32/140\n",
      "\u001b[1m21/21\u001b[0m \u001b[32m━━━━━━━━━━━━━━━━━━━━\u001b[0m\u001b[37m\u001b[0m \u001b[1m0s\u001b[0m 9ms/step - accuracy: 0.5554 - loss: -4.2478 - val_accuracy: 0.5276 - val_loss: -7.6828\n",
      "Epoch 33/140\n",
      "\u001b[1m21/21\u001b[0m \u001b[32m━━━━━━━━━━━━━━━━━━━━\u001b[0m\u001b[37m\u001b[0m \u001b[1m0s\u001b[0m 8ms/step - accuracy: 0.5394 - loss: -5.0548 - val_accuracy: 0.5276 - val_loss: -8.5308\n",
      "Epoch 34/140\n",
      "\u001b[1m21/21\u001b[0m \u001b[32m━━━━━━━━━━━━━━━━━━━━\u001b[0m\u001b[37m\u001b[0m \u001b[1m0s\u001b[0m 8ms/step - accuracy: 0.5492 - loss: -5.6395 - val_accuracy: 0.5276 - val_loss: -9.3505\n",
      "Epoch 35/140\n",
      "\u001b[1m21/21\u001b[0m \u001b[32m━━━━━━━━━━━━━━━━━━━━\u001b[0m\u001b[37m\u001b[0m \u001b[1m0s\u001b[0m 9ms/step - accuracy: 0.5789 - loss: -5.6118 - val_accuracy: 0.5276 - val_loss: -10.2464\n",
      "Epoch 36/140\n",
      "\u001b[1m21/21\u001b[0m \u001b[32m━━━━━━━━━━━━━━━━━━━━\u001b[0m\u001b[37m\u001b[0m \u001b[1m0s\u001b[0m 7ms/step - accuracy: 0.5674 - loss: -7.8883 - val_accuracy: 0.5276 - val_loss: -11.2464\n",
      "Epoch 37/140\n",
      "\u001b[1m21/21\u001b[0m \u001b[32m━━━━━━━━━━━━━━━━━━━━\u001b[0m\u001b[37m\u001b[0m \u001b[1m0s\u001b[0m 8ms/step - accuracy: 0.5560 - loss: -7.3009 - val_accuracy: 0.5276 - val_loss: -12.2414\n",
      "Epoch 38/140\n",
      "\u001b[1m21/21\u001b[0m \u001b[32m━━━━━━━━━━━━━━━━━━━━\u001b[0m\u001b[37m\u001b[0m \u001b[1m0s\u001b[0m 6ms/step - accuracy: 0.5649 - loss: -8.5293 - val_accuracy: 0.5276 - val_loss: -13.3822\n",
      "Epoch 39/140\n",
      "\u001b[1m21/21\u001b[0m \u001b[32m━━━━━━━━━━━━━━━━━━━━\u001b[0m\u001b[37m\u001b[0m \u001b[1m0s\u001b[0m 9ms/step - accuracy: 0.5579 - loss: -9.8892 - val_accuracy: 0.5276 - val_loss: -14.5604\n",
      "Epoch 40/140\n",
      "\u001b[1m21/21\u001b[0m \u001b[32m━━━━━━━━━━━━━━━━━━━━\u001b[0m\u001b[37m\u001b[0m \u001b[1m0s\u001b[0m 11ms/step - accuracy: 0.5759 - loss: -10.2987 - val_accuracy: 0.5276 - val_loss: -15.9075\n",
      "Epoch 41/140\n",
      "\u001b[1m21/21\u001b[0m \u001b[32m━━━━━━━━━━━━━━━━━━━━\u001b[0m\u001b[37m\u001b[0m \u001b[1m0s\u001b[0m 9ms/step - accuracy: 0.5440 - loss: -12.2609 - val_accuracy: 0.5276 - val_loss: -17.2569\n",
      "Epoch 42/140\n",
      "\u001b[1m21/21\u001b[0m \u001b[32m━━━━━━━━━━━━━━━━━━━━\u001b[0m\u001b[37m\u001b[0m \u001b[1m0s\u001b[0m 9ms/step - accuracy: 0.5332 - loss: -11.5927 - val_accuracy: 0.5276 - val_loss: -18.5574\n",
      "Epoch 43/140\n",
      "\u001b[1m21/21\u001b[0m \u001b[32m━━━━━━━━━━━━━━━━━━━━\u001b[0m\u001b[37m\u001b[0m \u001b[1m0s\u001b[0m 8ms/step - accuracy: 0.5534 - loss: -13.6844 - val_accuracy: 0.5276 - val_loss: -19.9774\n",
      "Epoch 44/140\n",
      "\u001b[1m21/21\u001b[0m \u001b[32m━━━━━━━━━━━━━━━━━━━━\u001b[0m\u001b[37m\u001b[0m \u001b[1m0s\u001b[0m 9ms/step - accuracy: 0.5659 - loss: -11.9083 - val_accuracy: 0.5276 - val_loss: -21.4318\n",
      "Epoch 45/140\n",
      "\u001b[1m21/21\u001b[0m \u001b[32m━━━━━━━━━━━━━━━━━━━━\u001b[0m\u001b[37m\u001b[0m \u001b[1m0s\u001b[0m 10ms/step - accuracy: 0.5636 - loss: -13.2341 - val_accuracy: 0.5276 - val_loss: -23.0459\n",
      "Epoch 46/140\n",
      "\u001b[1m21/21\u001b[0m \u001b[32m━━━━━━━━━━━━━━━━━━━━\u001b[0m\u001b[37m\u001b[0m \u001b[1m0s\u001b[0m 10ms/step - accuracy: 0.5664 - loss: -14.9497 - val_accuracy: 0.5276 - val_loss: -24.7698\n",
      "Epoch 47/140\n",
      "\u001b[1m21/21\u001b[0m \u001b[32m━━━━━━━━━━━━━━━━━━━━\u001b[0m\u001b[37m\u001b[0m \u001b[1m0s\u001b[0m 7ms/step - accuracy: 0.5764 - loss: -18.2932 - val_accuracy: 0.5276 - val_loss: -26.5474\n",
      "Epoch 48/140\n",
      "\u001b[1m21/21\u001b[0m \u001b[32m━━━━━━━━━━━━━━━━━━━━\u001b[0m\u001b[37m\u001b[0m \u001b[1m0s\u001b[0m 9ms/step - accuracy: 0.5384 - loss: -20.1222 - val_accuracy: 0.5276 - val_loss: -28.4117\n",
      "Epoch 49/140\n",
      "\u001b[1m21/21\u001b[0m \u001b[32m━━━━━━━━━━━━━━━━━━━━\u001b[0m\u001b[37m\u001b[0m \u001b[1m0s\u001b[0m 6ms/step - accuracy: 0.5577 - loss: -20.4640 - val_accuracy: 0.5276 - val_loss: -30.3499\n",
      "Epoch 50/140\n",
      "\u001b[1m21/21\u001b[0m \u001b[32m━━━━━━━━━━━━━━━━━━━━\u001b[0m\u001b[37m\u001b[0m \u001b[1m0s\u001b[0m 6ms/step - accuracy: 0.5711 - loss: -20.1348 - val_accuracy: 0.5276 - val_loss: -32.2498\n",
      "Epoch 51/140\n",
      "\u001b[1m21/21\u001b[0m \u001b[32m━━━━━━━━━━━━━━━━━━━━\u001b[0m\u001b[37m\u001b[0m \u001b[1m0s\u001b[0m 6ms/step - accuracy: 0.5429 - loss: -25.0490 - val_accuracy: 0.5276 - val_loss: -34.3984\n",
      "Epoch 52/140\n",
      "\u001b[1m21/21\u001b[0m \u001b[32m━━━━━━━━━━━━━━━━━━━━\u001b[0m\u001b[37m\u001b[0m \u001b[1m0s\u001b[0m 7ms/step - accuracy: 0.5625 - loss: -23.3423 - val_accuracy: 0.5276 - val_loss: -36.4347\n",
      "Epoch 53/140\n",
      "\u001b[1m21/21\u001b[0m \u001b[32m━━━━━━━━━━━━━━━━━━━━\u001b[0m\u001b[37m\u001b[0m \u001b[1m0s\u001b[0m 11ms/step - accuracy: 0.5609 - loss: -24.1451 - val_accuracy: 0.5276 - val_loss: -38.5916\n",
      "Epoch 54/140\n",
      "\u001b[1m21/21\u001b[0m \u001b[32m━━━━━━━━━━━━━━━━━━━━\u001b[0m\u001b[37m\u001b[0m \u001b[1m0s\u001b[0m 14ms/step - accuracy: 0.5489 - loss: -26.2393 - val_accuracy: 0.5276 - val_loss: -41.0367\n",
      "Epoch 55/140\n",
      "\u001b[1m21/21\u001b[0m \u001b[32m━━━━━━━━━━━━━━━━━━━━\u001b[0m\u001b[37m\u001b[0m \u001b[1m1s\u001b[0m 10ms/step - accuracy: 0.5616 - loss: -28.9939 - val_accuracy: 0.5276 - val_loss: -43.5979\n",
      "Epoch 56/140\n",
      "\u001b[1m21/21\u001b[0m \u001b[32m━━━━━━━━━━━━━━━━━━━━\u001b[0m\u001b[37m\u001b[0m \u001b[1m0s\u001b[0m 6ms/step - accuracy: 0.5505 - loss: -31.4222 - val_accuracy: 0.5276 - val_loss: -46.1662\n",
      "Epoch 57/140\n",
      "\u001b[1m21/21\u001b[0m \u001b[32m━━━━━━━━━━━━━━━━━━━━\u001b[0m\u001b[37m\u001b[0m \u001b[1m0s\u001b[0m 8ms/step - accuracy: 0.5502 - loss: -34.0583 - val_accuracy: 0.5276 - val_loss: -48.8697\n",
      "Epoch 58/140\n",
      "\u001b[1m21/21\u001b[0m \u001b[32m━━━━━━━━━━━━━━━━━━━━\u001b[0m\u001b[37m\u001b[0m \u001b[1m0s\u001b[0m 6ms/step - accuracy: 0.5355 - loss: -32.8548 - val_accuracy: 0.5276 - val_loss: -51.7362\n",
      "Epoch 59/140\n",
      "\u001b[1m21/21\u001b[0m \u001b[32m━━━━━━━━━━━━━━━━━━━━\u001b[0m\u001b[37m\u001b[0m \u001b[1m0s\u001b[0m 6ms/step - accuracy: 0.5691 - loss: -34.7076 - val_accuracy: 0.5276 - val_loss: -54.6045\n",
      "Epoch 60/140\n",
      "\u001b[1m21/21\u001b[0m \u001b[32m━━━━━━━━━━━━━━━━━━━━\u001b[0m\u001b[37m\u001b[0m \u001b[1m0s\u001b[0m 7ms/step - accuracy: 0.5587 - loss: -36.2710 - val_accuracy: 0.5276 - val_loss: -57.7738\n",
      "Epoch 61/140\n",
      "\u001b[1m21/21\u001b[0m \u001b[32m━━━━━━━━━━━━━━━━━━━━\u001b[0m\u001b[37m\u001b[0m \u001b[1m0s\u001b[0m 7ms/step - accuracy: 0.5660 - loss: -37.6094 - val_accuracy: 0.5276 - val_loss: -60.8829\n",
      "Epoch 62/140\n",
      "\u001b[1m21/21\u001b[0m \u001b[32m━━━━━━━━━━━━━━━━━━━━\u001b[0m\u001b[37m\u001b[0m \u001b[1m0s\u001b[0m 7ms/step - accuracy: 0.5753 - loss: -40.7172 - val_accuracy: 0.5276 - val_loss: -64.0914\n",
      "Epoch 63/140\n",
      "\u001b[1m21/21\u001b[0m \u001b[32m━━━━━━━━━━━━━━━━━━━━\u001b[0m\u001b[37m\u001b[0m \u001b[1m0s\u001b[0m 9ms/step - accuracy: 0.5810 - loss: -45.0047 - val_accuracy: 0.5276 - val_loss: -67.3959\n",
      "Epoch 64/140\n",
      "\u001b[1m21/21\u001b[0m \u001b[32m━━━━━━━━━━━━━━━━━━━━\u001b[0m\u001b[37m\u001b[0m \u001b[1m0s\u001b[0m 9ms/step - accuracy: 0.5693 - loss: -45.2128 - val_accuracy: 0.5276 - val_loss: -70.8879\n",
      "Epoch 65/140\n",
      "\u001b[1m21/21\u001b[0m \u001b[32m━━━━━━━━━━━━━━━━━━━━\u001b[0m\u001b[37m\u001b[0m \u001b[1m0s\u001b[0m 6ms/step - accuracy: 0.5760 - loss: -48.4636 - val_accuracy: 0.5276 - val_loss: -74.5089\n",
      "Epoch 66/140\n",
      "\u001b[1m21/21\u001b[0m \u001b[32m━━━━━━━━━━━━━━━━━━━━\u001b[0m\u001b[37m\u001b[0m \u001b[1m0s\u001b[0m 6ms/step - accuracy: 0.5667 - loss: -53.8665 - val_accuracy: 0.5276 - val_loss: -78.5204\n",
      "Epoch 67/140\n",
      "\u001b[1m21/21\u001b[0m \u001b[32m━━━━━━━━━━━━━━━━━━━━\u001b[0m\u001b[37m\u001b[0m \u001b[1m0s\u001b[0m 8ms/step - accuracy: 0.5418 - loss: -53.1996 - val_accuracy: 0.5276 - val_loss: -82.1970\n",
      "Epoch 68/140\n",
      "\u001b[1m21/21\u001b[0m \u001b[32m━━━━━━━━━━━━━━━━━━━━\u001b[0m\u001b[37m\u001b[0m \u001b[1m0s\u001b[0m 8ms/step - accuracy: 0.5806 - loss: -56.1509 - val_accuracy: 0.5276 - val_loss: -85.7955\n",
      "Epoch 69/140\n",
      "\u001b[1m21/21\u001b[0m \u001b[32m━━━━━━━━━━━━━━━━━━━━\u001b[0m\u001b[37m\u001b[0m \u001b[1m0s\u001b[0m 12ms/step - accuracy: 0.5369 - loss: -63.4986 - val_accuracy: 0.5276 - val_loss: -90.0992\n",
      "Epoch 70/140\n",
      "\u001b[1m21/21\u001b[0m \u001b[32m━━━━━━━━━━━━━━━━━━━━\u001b[0m\u001b[37m\u001b[0m \u001b[1m1s\u001b[0m 15ms/step - accuracy: 0.5485 - loss: -56.4294 - val_accuracy: 0.5276 - val_loss: -93.6817\n",
      "Epoch 71/140\n",
      "\u001b[1m21/21\u001b[0m \u001b[32m━━━━━━━━━━━━━━━━━━━━\u001b[0m\u001b[37m\u001b[0m \u001b[1m1s\u001b[0m 12ms/step - accuracy: 0.5649 - loss: -69.5149 - val_accuracy: 0.5276 - val_loss: -98.0532\n",
      "Epoch 72/140\n",
      "\u001b[1m21/21\u001b[0m \u001b[32m━━━━━━━━━━━━━━━━━━━━\u001b[0m\u001b[37m\u001b[0m \u001b[1m1s\u001b[0m 11ms/step - accuracy: 0.5605 - loss: -55.4276 - val_accuracy: 0.5276 - val_loss: -102.0234\n",
      "Epoch 73/140\n",
      "\u001b[1m21/21\u001b[0m \u001b[32m━━━━━━━━━━━━━━━━━━━━\u001b[0m\u001b[37m\u001b[0m \u001b[1m0s\u001b[0m 8ms/step - accuracy: 0.5673 - loss: -61.5340 - val_accuracy: 0.5276 - val_loss: -106.2068\n",
      "Epoch 74/140\n",
      "\u001b[1m21/21\u001b[0m \u001b[32m━━━━━━━━━━━━━━━━━━━━\u001b[0m\u001b[37m\u001b[0m \u001b[1m0s\u001b[0m 9ms/step - accuracy: 0.5500 - loss: -72.5044 - val_accuracy: 0.5276 - val_loss: -110.6509\n",
      "Epoch 75/140\n",
      "\u001b[1m21/21\u001b[0m \u001b[32m━━━━━━━━━━━━━━━━━━━━\u001b[0m\u001b[37m\u001b[0m \u001b[1m0s\u001b[0m 11ms/step - accuracy: 0.5642 - loss: -74.3482 - val_accuracy: 0.5276 - val_loss: -115.2447\n",
      "Epoch 76/140\n",
      "\u001b[1m21/21\u001b[0m \u001b[32m━━━━━━━━━━━━━━━━━━━━\u001b[0m\u001b[37m\u001b[0m \u001b[1m1s\u001b[0m 15ms/step - accuracy: 0.5528 - loss: -77.0656 - val_accuracy: 0.5276 - val_loss: -119.4780\n",
      "Epoch 77/140\n",
      "\u001b[1m21/21\u001b[0m \u001b[32m━━━━━━━━━━━━━━━━━━━━\u001b[0m\u001b[37m\u001b[0m \u001b[1m0s\u001b[0m 8ms/step - accuracy: 0.5391 - loss: -89.7467 - val_accuracy: 0.5276 - val_loss: -124.3735\n",
      "Epoch 78/140\n",
      "\u001b[1m21/21\u001b[0m \u001b[32m━━━━━━━━━━━━━━━━━━━━\u001b[0m\u001b[37m\u001b[0m \u001b[1m0s\u001b[0m 11ms/step - accuracy: 0.5168 - loss: -75.8047 - val_accuracy: 0.5276 - val_loss: -129.0033\n",
      "Epoch 79/140\n",
      "\u001b[1m21/21\u001b[0m \u001b[32m━━━━━━━━━━━━━━━━━━━━\u001b[0m\u001b[37m\u001b[0m \u001b[1m0s\u001b[0m 13ms/step - accuracy: 0.5621 - loss: -85.2706 - val_accuracy: 0.5276 - val_loss: -133.8688\n",
      "Epoch 80/140\n",
      "\u001b[1m21/21\u001b[0m \u001b[32m━━━━━━━━━━━━━━━━━━━━\u001b[0m\u001b[37m\u001b[0m \u001b[1m0s\u001b[0m 15ms/step - accuracy: 0.5311 - loss: -105.1376 - val_accuracy: 0.5276 - val_loss: -138.9386\n",
      "Epoch 81/140\n",
      "\u001b[1m21/21\u001b[0m \u001b[32m━━━━━━━━━━━━━━━━━━━━\u001b[0m\u001b[37m\u001b[0m \u001b[1m1s\u001b[0m 18ms/step - accuracy: 0.5571 - loss: -105.2567 - val_accuracy: 0.5276 - val_loss: -144.3869\n",
      "Epoch 82/140\n",
      "\u001b[1m21/21\u001b[0m \u001b[32m━━━━━━━━━━━━━━━━━━━━\u001b[0m\u001b[37m\u001b[0m \u001b[1m0s\u001b[0m 10ms/step - accuracy: 0.5406 - loss: -90.4577 - val_accuracy: 0.5276 - val_loss: -149.3284\n",
      "Epoch 83/140\n",
      "\u001b[1m21/21\u001b[0m \u001b[32m━━━━━━━━━━━━━━━━━━━━\u001b[0m\u001b[37m\u001b[0m \u001b[1m0s\u001b[0m 15ms/step - accuracy: 0.5577 - loss: -124.3544 - val_accuracy: 0.5276 - val_loss: -154.8940\n",
      "Epoch 84/140\n",
      "\u001b[1m21/21\u001b[0m \u001b[32m━━━━━━━━━━━━━━━━━━━━\u001b[0m\u001b[37m\u001b[0m \u001b[1m1s\u001b[0m 11ms/step - accuracy: 0.5403 - loss: -108.6965 - val_accuracy: 0.5276 - val_loss: -159.8469\n",
      "Epoch 85/140\n",
      "\u001b[1m21/21\u001b[0m \u001b[32m━━━━━━━━━━━━━━━━━━━━\u001b[0m\u001b[37m\u001b[0m \u001b[1m0s\u001b[0m 9ms/step - accuracy: 0.5670 - loss: -114.9803 - val_accuracy: 0.5276 - val_loss: -165.0501\n",
      "Epoch 86/140\n",
      "\u001b[1m21/21\u001b[0m \u001b[32m━━━━━━━━━━━━━━━━━━━━\u001b[0m\u001b[37m\u001b[0m \u001b[1m0s\u001b[0m 13ms/step - accuracy: 0.5547 - loss: -124.1603 - val_accuracy: 0.5276 - val_loss: -170.0930\n",
      "Epoch 87/140\n",
      "\u001b[1m21/21\u001b[0m \u001b[32m━━━━━━━━━━━━━━━━━━━━\u001b[0m\u001b[37m\u001b[0m \u001b[1m1s\u001b[0m 8ms/step - accuracy: 0.5698 - loss: -129.0516 - val_accuracy: 0.5276 - val_loss: -175.4678\n",
      "Epoch 88/140\n",
      "\u001b[1m21/21\u001b[0m \u001b[32m━━━━━━━━━━━━━━━━━━━━\u001b[0m\u001b[37m\u001b[0m \u001b[1m0s\u001b[0m 13ms/step - accuracy: 0.5663 - loss: -115.9383 - val_accuracy: 0.5276 - val_loss: -181.2435\n",
      "Epoch 89/140\n",
      "\u001b[1m21/21\u001b[0m \u001b[32m━━━━━━━━━━━━━━━━━━━━\u001b[0m\u001b[37m\u001b[0m \u001b[1m0s\u001b[0m 11ms/step - accuracy: 0.5849 - loss: -109.6199 - val_accuracy: 0.5276 - val_loss: -187.3398\n",
      "Epoch 90/140\n",
      "\u001b[1m21/21\u001b[0m \u001b[32m━━━━━━━━━━━━━━━━━━━━\u001b[0m\u001b[37m\u001b[0m \u001b[1m0s\u001b[0m 10ms/step - accuracy: 0.5697 - loss: -117.6486 - val_accuracy: 0.5276 - val_loss: -193.3007\n",
      "Epoch 91/140\n",
      "\u001b[1m21/21\u001b[0m \u001b[32m━━━━━━━━━━━━━━━━━━━━\u001b[0m\u001b[37m\u001b[0m \u001b[1m0s\u001b[0m 12ms/step - accuracy: 0.5504 - loss: -132.9921 - val_accuracy: 0.5276 - val_loss: -199.8723\n",
      "Epoch 92/140\n",
      "\u001b[1m21/21\u001b[0m \u001b[32m━━━━━━━━━━━━━━━━━━━━\u001b[0m\u001b[37m\u001b[0m \u001b[1m0s\u001b[0m 10ms/step - accuracy: 0.5688 - loss: -137.2246 - val_accuracy: 0.5276 - val_loss: -206.1501\n",
      "Epoch 93/140\n",
      "\u001b[1m21/21\u001b[0m \u001b[32m━━━━━━━━━━━━━━━━━━━━\u001b[0m\u001b[37m\u001b[0m \u001b[1m0s\u001b[0m 12ms/step - accuracy: 0.5474 - loss: -152.2328 - val_accuracy: 0.5276 - val_loss: -212.9891\n",
      "Epoch 94/140\n",
      "\u001b[1m21/21\u001b[0m \u001b[32m━━━━━━━━━━━━━━━━━━━━\u001b[0m\u001b[37m\u001b[0m \u001b[1m0s\u001b[0m 13ms/step - accuracy: 0.5804 - loss: -125.3452 - val_accuracy: 0.5276 - val_loss: -218.8598\n",
      "Epoch 95/140\n",
      "\u001b[1m21/21\u001b[0m \u001b[32m━━━━━━━━━━━━━━━━━━━━\u001b[0m\u001b[37m\u001b[0m \u001b[1m1s\u001b[0m 11ms/step - accuracy: 0.5589 - loss: -155.6110 - val_accuracy: 0.5276 - val_loss: -226.3574\n",
      "Epoch 96/140\n",
      "\u001b[1m21/21\u001b[0m \u001b[32m━━━━━━━━━━━━━━━━━━━━\u001b[0m\u001b[37m\u001b[0m \u001b[1m0s\u001b[0m 9ms/step - accuracy: 0.5354 - loss: -152.8266 - val_accuracy: 0.5276 - val_loss: -232.7833\n",
      "Epoch 97/140\n",
      "\u001b[1m21/21\u001b[0m \u001b[32m━━━━━━━━━━━━━━━━━━━━\u001b[0m\u001b[37m\u001b[0m \u001b[1m0s\u001b[0m 8ms/step - accuracy: 0.5386 - loss: -160.7242 - val_accuracy: 0.5276 - val_loss: -239.5002\n",
      "Epoch 98/140\n",
      "\u001b[1m21/21\u001b[0m \u001b[32m━━━━━━━━━━━━━━━━━━━━\u001b[0m\u001b[37m\u001b[0m \u001b[1m0s\u001b[0m 11ms/step - accuracy: 0.5602 - loss: -174.0246 - val_accuracy: 0.5276 - val_loss: -246.3925\n",
      "Epoch 99/140\n",
      "\u001b[1m21/21\u001b[0m \u001b[32m━━━━━━━━━━━━━━━━━━━━\u001b[0m\u001b[37m\u001b[0m \u001b[1m0s\u001b[0m 9ms/step - accuracy: 0.5692 - loss: -156.3931 - val_accuracy: 0.5276 - val_loss: -253.6335\n",
      "Epoch 100/140\n",
      "\u001b[1m21/21\u001b[0m \u001b[32m━━━━━━━━━━━━━━━━━━━━\u001b[0m\u001b[37m\u001b[0m \u001b[1m0s\u001b[0m 8ms/step - accuracy: 0.5532 - loss: -185.2611 - val_accuracy: 0.5276 - val_loss: -261.3147\n",
      "Epoch 101/140\n",
      "\u001b[1m21/21\u001b[0m \u001b[32m━━━━━━━━━━━━━━━━━━━━\u001b[0m\u001b[37m\u001b[0m \u001b[1m0s\u001b[0m 8ms/step - accuracy: 0.5420 - loss: -175.4657 - val_accuracy: 0.5276 - val_loss: -268.8604\n",
      "Epoch 102/140\n",
      "\u001b[1m21/21\u001b[0m \u001b[32m━━━━━━━━━━━━━━━━━━━━\u001b[0m\u001b[37m\u001b[0m \u001b[1m0s\u001b[0m 7ms/step - accuracy: 0.5603 - loss: -214.5369 - val_accuracy: 0.5276 - val_loss: -276.7582\n",
      "Epoch 103/140\n",
      "\u001b[1m21/21\u001b[0m \u001b[32m━━━━━━━━━━━━━━━━━━━━\u001b[0m\u001b[37m\u001b[0m \u001b[1m0s\u001b[0m 8ms/step - accuracy: 0.5534 - loss: -194.5527 - val_accuracy: 0.5276 - val_loss: -283.9740\n",
      "Epoch 104/140\n",
      "\u001b[1m21/21\u001b[0m \u001b[32m━━━━━━━━━━━━━━━━━━━━\u001b[0m\u001b[37m\u001b[0m \u001b[1m0s\u001b[0m 7ms/step - accuracy: 0.5516 - loss: -215.0254 - val_accuracy: 0.5276 - val_loss: -291.1261\n",
      "Epoch 105/140\n",
      "\u001b[1m21/21\u001b[0m \u001b[32m━━━━━━━━━━━━━━━━━━━━\u001b[0m\u001b[37m\u001b[0m \u001b[1m0s\u001b[0m 7ms/step - accuracy: 0.5589 - loss: -189.2691 - val_accuracy: 0.5276 - val_loss: -298.8783\n",
      "Epoch 106/140\n",
      "\u001b[1m21/21\u001b[0m \u001b[32m━━━━━━━━━━━━━━━━━━━━\u001b[0m\u001b[37m\u001b[0m \u001b[1m0s\u001b[0m 8ms/step - accuracy: 0.5529 - loss: -187.3069 - val_accuracy: 0.5215 - val_loss: -306.4167\n",
      "Epoch 107/140\n",
      "\u001b[1m21/21\u001b[0m \u001b[32m━━━━━━━━━━━━━━━━━━━━\u001b[0m\u001b[37m\u001b[0m \u001b[1m0s\u001b[0m 9ms/step - accuracy: 0.5331 - loss: -216.9812 - val_accuracy: 0.5215 - val_loss: -314.7338\n",
      "Epoch 108/140\n",
      "\u001b[1m21/21\u001b[0m \u001b[32m━━━━━━━━━━━━━━━━━━━━\u001b[0m\u001b[37m\u001b[0m \u001b[1m0s\u001b[0m 8ms/step - accuracy: 0.5173 - loss: -208.3392 - val_accuracy: 0.5215 - val_loss: -322.9448\n",
      "Epoch 109/140\n",
      "\u001b[1m21/21\u001b[0m \u001b[32m━━━━━━━━━━━━━━━━━━━━\u001b[0m\u001b[37m\u001b[0m \u001b[1m0s\u001b[0m 7ms/step - accuracy: 0.5665 - loss: -186.5753 - val_accuracy: 0.5215 - val_loss: -331.3313\n",
      "Epoch 110/140\n",
      "\u001b[1m21/21\u001b[0m \u001b[32m━━━━━━━━━━━━━━━━━━━━\u001b[0m\u001b[37m\u001b[0m \u001b[1m0s\u001b[0m 7ms/step - accuracy: 0.5297 - loss: -227.0249 - val_accuracy: 0.5215 - val_loss: -340.1774\n",
      "Epoch 111/140\n",
      "\u001b[1m21/21\u001b[0m \u001b[32m━━━━━━━━━━━━━━━━━━━━\u001b[0m\u001b[37m\u001b[0m \u001b[1m0s\u001b[0m 10ms/step - accuracy: 0.5505 - loss: -204.2772 - val_accuracy: 0.5215 - val_loss: -348.1139\n",
      "Epoch 112/140\n",
      "\u001b[1m21/21\u001b[0m \u001b[32m━━━━━━━━━━━━━━━━━━━━\u001b[0m\u001b[37m\u001b[0m \u001b[1m0s\u001b[0m 9ms/step - accuracy: 0.5499 - loss: -255.1628 - val_accuracy: 0.5215 - val_loss: -357.0069\n",
      "Epoch 113/140\n",
      "\u001b[1m21/21\u001b[0m \u001b[32m━━━━━━━━━━━━━━━━━━━━\u001b[0m\u001b[37m\u001b[0m \u001b[1m0s\u001b[0m 9ms/step - accuracy: 0.5935 - loss: -237.5974 - val_accuracy: 0.5215 - val_loss: -365.7214\n",
      "Epoch 114/140\n",
      "\u001b[1m21/21\u001b[0m \u001b[32m━━━━━━━━━━━━━━━━━━━━\u001b[0m\u001b[37m\u001b[0m \u001b[1m0s\u001b[0m 8ms/step - accuracy: 0.5407 - loss: -218.5770 - val_accuracy: 0.5215 - val_loss: -374.5684\n",
      "Epoch 115/140\n",
      "\u001b[1m21/21\u001b[0m \u001b[32m━━━━━━━━━━━━━━━━━━━━\u001b[0m\u001b[37m\u001b[0m \u001b[1m0s\u001b[0m 10ms/step - accuracy: 0.5544 - loss: -265.9456 - val_accuracy: 0.5215 - val_loss: -384.3416\n",
      "Epoch 116/140\n",
      "\u001b[1m21/21\u001b[0m \u001b[32m━━━━━━━━━━━━━━━━━━━━\u001b[0m\u001b[37m\u001b[0m \u001b[1m0s\u001b[0m 10ms/step - accuracy: 0.5637 - loss: -305.6662 - val_accuracy: 0.5215 - val_loss: -393.9713\n",
      "Epoch 117/140\n",
      "\u001b[1m21/21\u001b[0m \u001b[32m━━━━━━━━━━━━━━━━━━━━\u001b[0m\u001b[37m\u001b[0m \u001b[1m0s\u001b[0m 8ms/step - accuracy: 0.5452 - loss: -290.5048 - val_accuracy: 0.5215 - val_loss: -402.9089\n",
      "Epoch 118/140\n",
      "\u001b[1m21/21\u001b[0m \u001b[32m━━━━━━━━━━━━━━━━━━━━\u001b[0m\u001b[37m\u001b[0m \u001b[1m0s\u001b[0m 10ms/step - accuracy: 0.5658 - loss: -268.6176 - val_accuracy: 0.5215 - val_loss: -411.4320\n",
      "Epoch 119/140\n",
      "\u001b[1m21/21\u001b[0m \u001b[32m━━━━━━━━━━━━━━━━━━━━\u001b[0m\u001b[37m\u001b[0m \u001b[1m0s\u001b[0m 9ms/step - accuracy: 0.5456 - loss: -268.3856 - val_accuracy: 0.5215 - val_loss: -420.6704\n",
      "Epoch 120/140\n",
      "\u001b[1m21/21\u001b[0m \u001b[32m━━━━━━━━━━━━━━━━━━━━\u001b[0m\u001b[37m\u001b[0m \u001b[1m0s\u001b[0m 9ms/step - accuracy: 0.5238 - loss: -267.8734 - val_accuracy: 0.5215 - val_loss: -429.9688\n",
      "Epoch 121/140\n",
      "\u001b[1m21/21\u001b[0m \u001b[32m━━━━━━━━━━━━━━━━━━━━\u001b[0m\u001b[37m\u001b[0m \u001b[1m0s\u001b[0m 7ms/step - accuracy: 0.5339 - loss: -315.5700 - val_accuracy: 0.5215 - val_loss: -440.4530\n",
      "Epoch 122/140\n",
      "\u001b[1m21/21\u001b[0m \u001b[32m━━━━━━━━━━━━━━━━━━━━\u001b[0m\u001b[37m\u001b[0m \u001b[1m0s\u001b[0m 9ms/step - accuracy: 0.5248 - loss: -317.8918 - val_accuracy: 0.5215 - val_loss: -450.4777\n",
      "Epoch 123/140\n",
      "\u001b[1m21/21\u001b[0m \u001b[32m━━━━━━━━━━━━━━━━━━━━\u001b[0m\u001b[37m\u001b[0m \u001b[1m0s\u001b[0m 7ms/step - accuracy: 0.5702 - loss: -293.9106 - val_accuracy: 0.5215 - val_loss: -460.6418\n",
      "Epoch 124/140\n",
      "\u001b[1m21/21\u001b[0m \u001b[32m━━━━━━━━━━━━━━━━━━━━\u001b[0m\u001b[37m\u001b[0m \u001b[1m0s\u001b[0m 9ms/step - accuracy: 0.5342 - loss: -377.0593 - val_accuracy: 0.5215 - val_loss: -471.1056\n",
      "Epoch 125/140\n",
      "\u001b[1m21/21\u001b[0m \u001b[32m━━━━━━━━━━━━━━━━━━━━\u001b[0m\u001b[37m\u001b[0m \u001b[1m0s\u001b[0m 7ms/step - accuracy: 0.5399 - loss: -297.6562 - val_accuracy: 0.5215 - val_loss: -480.4371\n",
      "Epoch 126/140\n",
      "\u001b[1m21/21\u001b[0m \u001b[32m━━━━━━━━━━━━━━━━━━━━\u001b[0m\u001b[37m\u001b[0m \u001b[1m0s\u001b[0m 9ms/step - accuracy: 0.5360 - loss: -307.9164 - val_accuracy: 0.5215 - val_loss: -491.2932\n",
      "Epoch 127/140\n",
      "\u001b[1m21/21\u001b[0m \u001b[32m━━━━━━━━━━━━━━━━━━━━\u001b[0m\u001b[37m\u001b[0m \u001b[1m0s\u001b[0m 12ms/step - accuracy: 0.5864 - loss: -330.9113 - val_accuracy: 0.5153 - val_loss: -502.9623\n",
      "Epoch 128/140\n",
      "\u001b[1m21/21\u001b[0m \u001b[32m━━━━━━━━━━━━━━━━━━━━\u001b[0m\u001b[37m\u001b[0m \u001b[1m0s\u001b[0m 12ms/step - accuracy: 0.5351 - loss: -365.5718 - val_accuracy: 0.5153 - val_loss: -513.9095\n",
      "Epoch 129/140\n",
      "\u001b[1m21/21\u001b[0m \u001b[32m━━━━━━━━━━━━━━━━━━━━\u001b[0m\u001b[37m\u001b[0m \u001b[1m0s\u001b[0m 8ms/step - accuracy: 0.5711 - loss: -354.3695 - val_accuracy: 0.5153 - val_loss: -524.5224\n",
      "Epoch 130/140\n",
      "\u001b[1m21/21\u001b[0m \u001b[32m━━━━━━━━━━━━━━━━━━━━\u001b[0m\u001b[37m\u001b[0m \u001b[1m0s\u001b[0m 9ms/step - accuracy: 0.5435 - loss: -342.0012 - val_accuracy: 0.5153 - val_loss: -535.5209\n",
      "Epoch 131/140\n",
      "\u001b[1m21/21\u001b[0m \u001b[32m━━━━━━━━━━━━━━━━━━━━\u001b[0m\u001b[37m\u001b[0m \u001b[1m0s\u001b[0m 9ms/step - accuracy: 0.5459 - loss: -396.0428 - val_accuracy: 0.5153 - val_loss: -545.6240\n",
      "Epoch 132/140\n",
      "\u001b[1m21/21\u001b[0m \u001b[32m━━━━━━━━━━━━━━━━━━━━\u001b[0m\u001b[37m\u001b[0m \u001b[1m0s\u001b[0m 12ms/step - accuracy: 0.5704 - loss: -378.1031 - val_accuracy: 0.5153 - val_loss: -556.7218\n",
      "Epoch 133/140\n",
      "\u001b[1m21/21\u001b[0m \u001b[32m━━━━━━━━━━━━━━━━━━━━\u001b[0m\u001b[37m\u001b[0m \u001b[1m0s\u001b[0m 9ms/step - accuracy: 0.5201 - loss: -379.1575 - val_accuracy: 0.5153 - val_loss: -568.0635\n",
      "Epoch 134/140\n",
      "\u001b[1m21/21\u001b[0m \u001b[32m━━━━━━━━━━━━━━━━━━━━\u001b[0m\u001b[37m\u001b[0m \u001b[1m0s\u001b[0m 10ms/step - accuracy: 0.5575 - loss: -390.9885 - val_accuracy: 0.5153 - val_loss: -579.5695\n",
      "Epoch 135/140\n",
      "\u001b[1m21/21\u001b[0m \u001b[32m━━━━━━━━━━━━━━━━━━━━\u001b[0m\u001b[37m\u001b[0m \u001b[1m0s\u001b[0m 10ms/step - accuracy: 0.5378 - loss: -425.2229 - val_accuracy: 0.5153 - val_loss: -591.8161\n",
      "Epoch 136/140\n",
      "\u001b[1m21/21\u001b[0m \u001b[32m━━━━━━━━━━━━━━━━━━━━\u001b[0m\u001b[37m\u001b[0m \u001b[1m0s\u001b[0m 8ms/step - accuracy: 0.5430 - loss: -440.9961 - val_accuracy: 0.5153 - val_loss: -603.3423\n",
      "Epoch 137/140\n",
      "\u001b[1m21/21\u001b[0m \u001b[32m━━━━━━━━━━━━━━━━━━━━\u001b[0m\u001b[37m\u001b[0m \u001b[1m0s\u001b[0m 14ms/step - accuracy: 0.5387 - loss: -398.3690 - val_accuracy: 0.5153 - val_loss: -614.8427\n",
      "Epoch 138/140\n",
      "\u001b[1m21/21\u001b[0m \u001b[32m━━━━━━━━━━━━━━━━━━━━\u001b[0m\u001b[37m\u001b[0m \u001b[1m0s\u001b[0m 9ms/step - accuracy: 0.5314 - loss: -428.0112 - val_accuracy: 0.5153 - val_loss: -627.4099\n",
      "Epoch 139/140\n",
      "\u001b[1m21/21\u001b[0m \u001b[32m━━━━━━━━━━━━━━━━━━━━\u001b[0m\u001b[37m\u001b[0m \u001b[1m0s\u001b[0m 8ms/step - accuracy: 0.5110 - loss: -490.8584 - val_accuracy: 0.5153 - val_loss: -640.0495\n",
      "Epoch 140/140\n",
      "\u001b[1m21/21\u001b[0m \u001b[32m━━━━━━━━━━━━━━━━━━━━\u001b[0m\u001b[37m\u001b[0m \u001b[1m0s\u001b[0m 8ms/step - accuracy: 0.5286 - loss: -501.5068 - val_accuracy: 0.5153 - val_loss: -651.7453\n"
     ]
    }
   ],
   "source": [
    "# Evaluating the model\n",
    "history = model.fit(X_train_scaled, y_train, epochs=140, batch_size=32, validation_split=0.2, verbose=1)"
   ]
  },
  {
   "cell_type": "markdown",
   "id": "ca292f9e",
   "metadata": {},
   "source": [
    "Certainly! This line of code is typically used in the context of training a machine learning model with the Keras API in TensorFlow, a popular deep learning library. The code snippet you provided is executing the fit method on a model object, which trains the model on the provided dataset. Here's a breakdown of each component in that line:\n",
    "\n",
    "model.fit(...): This is the method call that trains the model. The model variable is an instance of a neural network or any model built using Keras. The fit method adjusts the model's weights to minimize the loss function, improving the model's performance on the training data.\n",
    "\n",
    "X_train_scaled: This represents the input features for training the model, which have been scaled. Scaling input features is a common practice in machine learning to help the model learn more effectively. It ensures that the feature values are within a similar range, often leading to better performance.\n",
    "\n",
    "y_train: This is the target data for the training set, which the model will try to predict. The y_train data contains the known outputs associated with each input vector in X_train_scaled.\n",
    "\n",
    "epochs=140: An epoch is one complete pass through the entire training dataset. This parameter specifies that the model should be trained for 140 epochs, meaning the learning algorithm will work its way through the training dataset 140 times.\n",
    "\n",
    "batch_size=32: This defines the number of samples that will be propagated through the network before the model's internal parameters are updated. In this case, the model weights are updated after every 32 samples are processed, which is a balance between the efficiency of batch processing and the fine-grained update approach of stochastic gradient descent.\n",
    "\n",
    "validation_split=0.2: This parameter indicates that 20% of the training data should be held back and not used for training the model. Instead, this subset is used as a validation dataset to evaluate the model's performance after each epoch. This helps in monitoring the model's generalization ability to new, unseen data and in preventing overfitting.\n",
    "\n",
    "verbose=1: This is a verbosity mode flag. Setting verbose=1 means that progress bars and one line per epoch will be displayed during the training process. It's a way to get real-time feedback on the training process, including the loss and any other metrics specified in the model compilation.\n",
    "\n",
    "In summary, this code trains a neural network (or any model created with Keras) on the scaled training data (X_train_scaled, y_train), for 140 iterations over the entire dataset, updating the model weights after every 32 samples, while also evaluating model performance on a validation set that comprises 20% of the training data."
   ]
  },
  {
   "cell_type": "code",
   "execution_count": 86,
   "id": "ebbd7f68",
   "metadata": {},
   "outputs": [
    {
     "name": "stdout",
     "output_type": "stream",
     "text": [
      "\u001b[1m7/7\u001b[0m \u001b[32m━━━━━━━━━━━━━━━━━━━━\u001b[0m\u001b[37m\u001b[0m \u001b[1m0s\u001b[0m 5ms/step - accuracy: 0.5199 - loss: -608.2734 \n",
      "Test set accuracy: 0.5074\n"
     ]
    }
   ],
   "source": [
    "# Evaluating the model on the test set\n",
    "loss, accuracy = model.evaluate(X_test_scaled, y_test)\n",
    "print(f'Test set accuracy: {accuracy:.4f}')"
   ]
  },
  {
   "cell_type": "markdown",
   "id": "95ce200e",
   "metadata": {},
   "source": [
    "Explanation\n",
    "Model Evaluation: The model.evaluate() function tests the model on a separate dataset that it hasn't seen before, known as the test set (X_test_scaled, y_test). This function returns the loss value & metrics values for the model in test mode. In this case, since the model was compiled with accuracy as a metric, it returns both the loss (loss) and accuracy (accuracy).\n",
    "\n",
    "Parameters:\n",
    "\n",
    "X_test_scaled: The input features of the test set, which have been scaled in the same way as the training set features to ensure consistency in data representation.\n",
    "y_test: The true labels of the test set, used to evaluate the model's predictions.\n",
    "Printing Accuracy: The accuracy metric, which indicates the proportion of correct predictions out of all predictions made, is printed out formatted to four decimal places. Accuracy is a common metric for classification tasks and provides a quick sense of how well the model is performing. An accuracy of 1.0 means the model made correct predictions for every sample in the test set, while an accuracy closer to 0.0 means the model did not perform well.\n",
    "\n",
    "This step is crucial for understanding the model's generalization capability, i.e., how well it performs on new, unseen data. High accuracy on the test set suggests that the model has learned the underlying patterns in the data rather than memorizing the training set, while low accuracy might indicate overfitting to the training data or underfitting, where the model is too simple to capture the data's complexity."
   ]
  },
  {
   "cell_type": "markdown",
   "id": "d95bc63e",
   "metadata": {},
   "source": [
    "- Training Phase Output (Epoch Feedback)\n",
    "7/7 ━━━━━━━━━━━━━━━━━━━━ 0s 5ms/step: This portion indicates the progress of the last batch of the training or evaluation process. Specifically:\n",
    "\n",
    "7/7 means that all 7 batches have been processed. The first number changes as each batch is processed until it matches the total number of batches, which is the second number.\n",
    "0s indicates the total time taken to process these batches was less than one second.\n",
    "5ms/step suggests that, on average, each batch took 5 milliseconds to process.\n",
    "accuracy: 0.5199: This is the accuracy of the model on the training set (or possibly the validation set, if this is during training with validation_split specified). Accuracy measures the proportion of correctly predicted instances out of all predictions made. Here, the model's accuracy is approximately 52%, indicating that about half of the model's predictions match the actual data labels.\n",
    "\n",
    "loss: -608.2734: The loss function value quantifies how well the model's predictions match the actual labels, with lower values generally indicating better performance. However, a negative loss value, as shown here, is unusual for most loss functions and might indicate an issue with how the loss is calculated or with the model's configuration.\n",
    "\n",
    "Test Set Evaluation Output\n",
    "Test set accuracy: 0.5074: This value represents the model's accuracy evaluated on a separate test dataset that was not used during training. An accuracy of approximately 50.74% on the test set suggests that the model performs similarly on both unseen data and the training/validation data, predicting correctly a little over half of the time. This level of accuracy, similar to the training accuracy, indicates consistency but also suggests the model might not be highly effective for its intended task, depending on the complexity of the problem and the baseline accuracy (e.g., what accuracy a naive model might achieve).\n",
    "Interpretation\n",
    "Given the context:\n",
    "\n",
    "An accuracy around 50% might be adequate for tasks akin to flipping a coin (binary outcomes with equal probability), but it's generally low for most machine learning tasks, suggesting the model might not have learned meaningful patterns from the data.\n",
    "A negative loss value is unusual and might hint at an incorrect implementation of the loss function or an issue with the model setup. It's crucial to review the chosen loss function and ensure it aligns with the goals of the model and the nature of the problem being solved.\n",
    "In summary, while the model demonstrates a consistent ability to predict correctly about half of the time across both training and test sets, the performance is not particularly high, and the negative loss value indicates a potential issue needing investigation."
   ]
  },
  {
   "cell_type": "code",
   "execution_count": 92,
   "id": "813f8be3",
   "metadata": {},
   "outputs": [],
   "source": [
    "from sklearn.preprocessing import StandardScaler\n",
    "import numpy as np\n",
    "\n",
    "# Assuming X_train training data\n",
    "scaler = StandardScaler()\n",
    "X_train_scaled = scaler.fit_transform(X_train)  # Fit and transform training data"
   ]
  },
  {
   "cell_type": "code",
   "execution_count": 94,
   "id": "da2900e8",
   "metadata": {},
   "outputs": [
    {
     "name": "stdout",
     "output_type": "stream",
     "text": [
      "\u001b[1m1/1\u001b[0m \u001b[32m━━━━━━━━━━━━━━━━━━━━\u001b[0m\u001b[37m\u001b[0m \u001b[1m0s\u001b[0m 38ms/step\n",
      "Prediction: [[1.1180724e-16]]\n"
     ]
    }
   ],
   "source": [
    "# making a prediction\n",
    "new_data = np.array([[42, 140, 85, 13, 98, 75]])  # Replace with actual values\n",
    "new_data_scaled = scaler.transform(new_data)  # This should work if 'scaler' is defined and fitted correctly\n",
    "prediction = model.predict(new_data_scaled)\n",
    "print(f'Prediction: {prediction}')"
   ]
  },
  {
   "cell_type": "markdown",
   "id": "34c3d4de",
   "metadata": {},
   "source": [
    "- Explanation\n",
    "This block of code demonstrates how to make a prediction using the trained neural network model for a new, unseen piece of data.\n",
    "\n",
    "Prepare New Data: new_data is an np.array that contains a new data point. Each number in the array represents a feature's value. In this context, the features could represent different measurements or characteristics relevant to the model (e.g., age, systolic blood pressure, diastolic blood pressure, blood sugar, body temperature, heart rate). The specific values here (45, 150, 85, 13, 98, 75) are placeholders and should be replaced with actual values of the features for which you want to make a prediction.\n",
    "\n",
    "Normalize New Data: The new data is then normalized using the scaler that was fitted on the training data. This step is crucial because the model expects data in the same format it was trained on, including the same scale. Normalization (or scaling) ensures that the input features have the same scale as the training data, which helps the model make accurate predictions.\n",
    "\n",
    "Make a Prediction: The normalized new data is passed to the model.predict() method, which returns the model's prediction for the data. Since this is a classification model, the output will be the model's confidence levels for the different classes it was trained to predict.\n",
    "\n",
    "Print Prediction: Finally, the prediction made by the model is printed. The output format will depend on the model's final layer and activation function. For binary classification problems using a sigmoid activation function in the output layer, this will typically be a probability score between 0 and 1, indicating the likelihood of the sample belonging to the positive class.\n",
    "\n",
    "This example is essential for applying the model to real-world data, allowing you to understand how the model interprets and predicts based on new inputs.\n",
    "\n",
    "\n",
    "\n",
    "\n",
    "\n",
    "\n"
   ]
  },
  {
   "cell_type": "code",
   "execution_count": 39,
   "id": "46ab7fc2",
   "metadata": {},
   "outputs": [
    {
     "name": "stdout",
     "output_type": "stream",
     "text": [
      "Defaulting to user installation because normal site-packages is not writeable\n",
      "Collecting keras-tuner\n",
      "  Downloading keras_tuner-1.4.7-py3-none-any.whl (129 kB)\n",
      "\u001b[2K     \u001b[38;2;114;156;31m━━━━━━━━━━━━━━━━━━━━━━━━━━━━━━━━━━━━━\u001b[0m \u001b[32m129.1/129.1 KB\u001b[0m \u001b[31m491.2 kB/s\u001b[0m eta \u001b[36m0:00:00\u001b[0m kB/s\u001b[0m eta \u001b[36m0:00:01\u001b[0m\n",
      "\u001b[?25hRequirement already satisfied: packaging in /usr/lib/python3/dist-packages (from keras-tuner) (21.3)\n",
      "Collecting kt-legacy\n",
      "  Downloading kt_legacy-1.0.5-py3-none-any.whl (9.6 kB)\n",
      "Requirement already satisfied: keras in /home/hduser/.local/lib/python3.10/site-packages (from keras-tuner) (3.1.1)\n",
      "Requirement already satisfied: requests in /home/hduser/.local/lib/python3.10/site-packages (from keras-tuner) (2.28.1)\n",
      "Requirement already satisfied: absl-py in /home/hduser/.local/lib/python3.10/site-packages (from keras->keras-tuner) (2.1.0)\n",
      "Requirement already satisfied: h5py in /home/hduser/.local/lib/python3.10/site-packages (from keras->keras-tuner) (3.10.0)\n",
      "Requirement already satisfied: rich in /home/hduser/.local/lib/python3.10/site-packages (from keras->keras-tuner) (13.7.1)\n",
      "Requirement already satisfied: numpy in /home/hduser/.local/lib/python3.10/site-packages (from keras->keras-tuner) (1.24.0)\n",
      "Requirement already satisfied: optree in /home/hduser/.local/lib/python3.10/site-packages (from keras->keras-tuner) (0.11.0)\n",
      "Requirement already satisfied: namex in /home/hduser/.local/lib/python3.10/site-packages (from keras->keras-tuner) (0.0.7)\n",
      "Requirement already satisfied: ml-dtypes in /home/hduser/.local/lib/python3.10/site-packages (from keras->keras-tuner) (0.3.2)\n",
      "Requirement already satisfied: urllib3<1.27,>=1.21.1 in /usr/lib/python3/dist-packages (from requests->keras-tuner) (1.26.5)\n",
      "Requirement already satisfied: idna<4,>=2.5 in /usr/lib/python3/dist-packages (from requests->keras-tuner) (3.3)\n",
      "Requirement already satisfied: charset-normalizer<3,>=2 in /home/hduser/.local/lib/python3.10/site-packages (from requests->keras-tuner) (2.1.1)\n",
      "Requirement already satisfied: certifi>=2017.4.17 in /usr/lib/python3/dist-packages (from requests->keras-tuner) (2020.6.20)\n",
      "Requirement already satisfied: typing-extensions>=4.0.0 in /home/hduser/.local/lib/python3.10/site-packages (from optree->keras->keras-tuner) (4.11.0)\n",
      "Requirement already satisfied: markdown-it-py>=2.2.0 in /home/hduser/.local/lib/python3.10/site-packages (from rich->keras->keras-tuner) (3.0.0)\n",
      "Requirement already satisfied: pygments<3.0.0,>=2.13.0 in /home/hduser/.local/lib/python3.10/site-packages (from rich->keras->keras-tuner) (2.17.2)\n",
      "Requirement already satisfied: mdurl~=0.1 in /home/hduser/.local/lib/python3.10/site-packages (from markdown-it-py>=2.2.0->rich->keras->keras-tuner) (0.1.2)\n",
      "Installing collected packages: kt-legacy, keras-tuner\n",
      "Successfully installed keras-tuner-1.4.7 kt-legacy-1.0.5\n",
      "Note: you may need to restart the kernel to use updated packages.\n"
     ]
    }
   ],
   "source": [
    "pip install keras-tuner"
   ]
  },
  {
   "cell_type": "markdown",
   "id": "86e3a123",
   "metadata": {},
   "source": [
    "### Tuning hyperparameter"
   ]
  },
  {
   "cell_type": "code",
   "execution_count": 87,
   "id": "3f8a29b2",
   "metadata": {},
   "outputs": [],
   "source": [
    "from kerastuner.tuners import RandomSearch\n",
    "from tensorflow.keras.models import Sequential\n",
    "from tensorflow.keras.layers import Dense\n",
    "from tensorflow.keras.optimizers import Adam\n",
    "\n",
    "def build_model(hp):\n",
    "    model = Sequential()\n",
    "    model.add(Dense(hp.Int('units_input', min_value=32, max_value=512, step=32), activation='relu', input_shape=(X_train_scaled.shape[1],)))\n",
    "    model.add(Dense(hp.Int('units_hidden', min_value=32, max_value=512, step=32), activation='relu'))\n",
    "    model.add(Dense(1, activation='sigmoid'))\n",
    "    \n",
    "    # Adjusting the learning rate\n",
    "    hp_learning_rate = hp.Choice('learning_rate', values=[1e-2, 1e-3, 1e-4])\n",
    "    \n",
    "    model.compile(optimizer=Adam(learning_rate=hp_learning_rate),\n",
    "                  loss='binary_crossentropy',\n",
    "                  metrics=['accuracy'])\n",
    "    return model"
   ]
  },
  {
   "cell_type": "markdown",
   "id": "8457c9cf",
   "metadata": {},
   "source": [
    "This code snippet is for defining a function that builds a neural network model with customizable hyperparameters, intended for use with a hyperparameter tuning process. The build_model function takes a hp argument, which allows specifying hyperparameter ranges for the model's architecture and compilation settings, such as the number of units in the layers and the learning rate for the Adam optimizer. The model is compiled with binary crossentropy loss, making it suitable for binary classification tasks, and uses accuracy as a metric to evaluate performance."
   ]
  },
  {
   "cell_type": "code",
   "execution_count": 95,
   "id": "fdfe9f29",
   "metadata": {},
   "outputs": [
    {
     "name": "stdout",
     "output_type": "stream",
     "text": [
      "Reloading Tuner from tuner_results/keras_tuner_demo/tuner0.json\n"
     ]
    }
   ],
   "source": [
    "tuner = RandomSearch(\n",
    "    build_model,\n",
    "    objective='val_accuracy',\n",
    "    max_trials=10,  # Maximum number of hyperparameter combinations to test\n",
    "    executions_per_trial=2,  # Number of models to train and evaluate for each trial\n",
    "    directory='tuner_results',\n",
    "    project_name='keras_tuner_demo'\n",
    ")"
   ]
  },
  {
   "cell_type": "markdown",
   "id": "c8f10972",
   "metadata": {},
   "source": [
    "- RandomSearch tuner from Keras Tuner, setting up a hyperparameter tuning session for the model defined by the build model function. The tuner aims to optimize the validation accuracy  of the models it tests. It will experiment with up to 10 different hyperparameter combinations, training and evaluating 2 models for each trial to average out the performance metrics. The results of the tuning process, including the performance of each trial and the best hyperparameter settings found, will be stored in the tuner results directory under a project named keras tuner demo.\n"
   ]
  },
  {
   "cell_type": "code",
   "execution_count": 47,
   "id": "b73a9d7a",
   "metadata": {},
   "outputs": [],
   "source": [
    "tuner.search(X_train_scaled, y_train, epochs=20, validation_split=0.2, verbose=1)"
   ]
  },
  {
   "cell_type": "markdown",
   "id": "9389f198",
   "metadata": {},
   "source": [
    "tuner.search(...): This method initiates the searching (tuning) process for the best hyperparameters for your model. The tuner object here has been previously set up with specific configurations such as the model-building function, the number of trials, and the objective metric to optimize.\n",
    "\n",
    "X_train_scaled: This is the scaled training data that you're passing to the tuner. Scaling is a preprocessing step that is critical for many machine learning algorithms to perform well, especially neural networks. It involves transforming numerical features to have a certain range, such as between 0 and 1, to help the algorithm converge more quickly.\n",
    "\n",
    "y_train: These are the target values (labels) for the training data. In the context of supervised learning, the model learns to predict these values from the X_train_scaled data.\n",
    "\n",
    "epochs=20: This parameter specifies the number of times the learning algorithm will work through the entire training dataset. An epoch is one forward pass and one backward pass of all the training examples. In this case, the tuner will train each model configuration it tests for 20 epochs.\n",
    "\n",
    "validation_split=0.2: This indicates that 20% of the training data should be set aside and not used for training the model. Instead, this data will be used to evaluate the model's performance. This helps in monitoring how well the model is generalizing to unseen data and can aid in preventing overfitting.\n",
    "\n",
    "verbose=1: This is a verbosity mode setting. Setting verbose=1 will display detailed progress logs of the training process, including the loss and accuracy for each epoch. It provides a way to visually monitor the model's training progress.\n",
    "\n",
    "In summary, this line instructs the tuner to start the hyperparameter tuning process. It will train and evaluate models using different combinations of hyperparameters specified in your build_model function, using the provided training data and settings. The process aims to find the set of hyperparameters that results in the model achieving the best performance according to the objective, in this case, validation accuracy (val_accuracy)."
   ]
  },
  {
   "cell_type": "markdown",
   "id": "8142b2c3",
   "metadata": {},
   "source": [
    "#### Retrieving and evaluate the best model found by the hyperparameter tuning process using Keras Tuner"
   ]
  },
  {
   "cell_type": "code",
   "execution_count": 98,
   "id": "e57af85e",
   "metadata": {},
   "outputs": [
    {
     "name": "stdout",
     "output_type": "stream",
     "text": [
      "\u001b[1m7/7\u001b[0m \u001b[32m━━━━━━━━━━━━━━━━━━━━\u001b[0m\u001b[37m\u001b[0m \u001b[1m0s\u001b[0m 6ms/step - accuracy: 0.5408 - loss: -95933.4375  \n",
      "Test set accuracy of the best model: 0.5320\n",
      "Best hyperparameters: {'units_input': 64, 'units_hidden': 448, 'learning_rate': 0.01}\n"
     ]
    }
   ],
   "source": [
    "# Best hyperparameter\n",
    "best_model = tuner.get_best_models(num_models=1)[0]\n",
    "best_hyperparameters = tuner.get_best_hyperparameters()[0]\n",
    "\n",
    "# Evaluating the best model\n",
    "loss, accuracy = best_model.evaluate(X_test_scaled, y_test)\n",
    "print(f'Test set accuracy of the best model: {accuracy:.4f}')\n",
    "\n",
    "print(\"Best hyperparameters:\", best_hyperparameters.values)"
   ]
  },
  {
   "cell_type": "markdown",
   "id": "aefc43cb",
   "metadata": {},
   "source": [
    "Evaluation Metrics\n",
    "accuracy: 0.5408: This is the accuracy of the best model on the validation set during the final epoch of training, indicating that the model correctly predicts 54.08% of the validation set. While better than random guessing in binary classification, this accuracy might still be considered low for many practical applications, depending on the specific problem and the baseline accuracy.\n",
    "\n",
    "loss: -95933.4375: The negative loss value is highly unusual in the context of most problems, including binary classification with a binary crossentropy loss function. Typically, loss values are positive, and a negative value could indicate an issue with the loss function calculation, model configuration, or data. It warrants a thorough investigation.\n",
    "\n",
    "Test Set Performance\n",
    "Test set accuracy of the best model: 0.5320: The best model achieves an accuracy of 53.20% on the test set. This performance is close to its validation accuracy, indicating consistency in how the model generalizes to unseen data. However, the effectiveness of the model in practical terms may be limited due to the relatively low accuracy rate.\n",
    "Best Hyperparameters\n",
    "{'units_input': 64, 'units_hidden': 448, 'learning_rate': 0.01}: These are the hyperparameters of the best-performing model found by the tuner.\n",
    "units_input: 64: The first (input) layer of the model consists of 64 units (neurons). This parameter controls the dimensionality of the first hidden layer's output space.\n",
    "units_hidden: 448: The second hidden layer has 448 units. This is a relatively large number, suggesting that the model might be trying to capture complex patterns in the data.\n",
    "learning_rate: 0.01: The learning rate for the Adam optimizer is set to 0.01. This is a crucial hyperparameter that controls the size of the steps the optimizer takes during the gradient descent process. A learning rate of 0.01 is relatively standard, balancing the speed of convergence with the risk of overshooting the minimum of the loss function.\n",
    "Overall Implications\n",
    "The results suggest that while the hyperparameter tuning process identified a specific model configuration as the best, the overall performance on the validation and test sets remains modest. The accuracy levels achieved suggest the model has limited predictive power, which might be insufficient for many applications. Moreover, the negative loss value indicates a potential issue that needs addressing.\n",
    "\n",
    "It's advisable to review the model configuration, the data preprocessing steps, and the loss function implementation. Additionally, experimenting with different model architectures, loss functions, or even reevaluating the problem formulation and the data could provide pathways to improved performance.\n"
   ]
  },
  {
   "cell_type": "markdown",
   "id": "a293d3c4",
   "metadata": {},
   "source": [
    "### LTM Feedforward RNA"
   ]
  },
  {
   "cell_type": "code",
   "execution_count": 102,
   "id": "e63ce86d",
   "metadata": {},
   "outputs": [],
   "source": [
    "from pyspark.ml.feature import VectorAssembler\n",
    "from pyspark.ml.feature import StringIndexer\n",
    "from pyspark.sql.functions import col\n",
    "\n",
    "# Index the label if it's categorical\n",
    "indexer = StringIndexer(inputCol=\"RiskLevel\", outputCol=\"label\")\n",
    "df = indexer.fit(df).transform(df)\n",
    "\n",
    "# Assemble features into a single feature vector\n",
    "assembler = VectorAssembler(inputCols=[\"Age\", \"SystolicBP\", \"DiastolicBP\", \"BS\", \"BodyTemp\", \"HeartRate\"], outputCol=\"features\")\n",
    "data = assembler.transform(df)\n",
    "\n",
    "# Splitting the data into training and test sets\n",
    "train_data, test_data = data.randomSplit([0.7, 0.3])"
   ]
  },
  {
   "cell_type": "code",
   "execution_count": 103,
   "id": "e5572dcd",
   "metadata": {},
   "outputs": [],
   "source": [
    "from pyspark.ml.classification import MultilayerPerceptronClassifier\n",
    "\n",
    "# Defining the neural network architecture\n",
    "# The number of nodes in the input layer must match the number of features, and the number of nodes in the output layer must match the number of classes.\n",
    "# In this example, we'll assume 3 classes (risks) and 6 features.\n",
    "layers = [6, 5, 4, 3]\n",
    "\n",
    "# Creating the classifier\n",
    "mlp = MultilayerPerceptronClassifier(layers=layers, blockSize=128, seed=1234, maxIter=100)"
   ]
  },
  {
   "cell_type": "markdown",
   "id": "ba1e1b68",
   "metadata": {},
   "source": [
    "-This code snippet is for setting up a Multilayer Perceptron (MLP) Classifier in PySpark, which is a type of neural network used for classification tasks. Here's what each part does in English:\n",
    "\n",
    "Importing the MLP Classifier: The first line imports the MultilayerPerceptronClassifier class from Spark's machine learning library (MLlib). This class is used to create and train the MLP model.\n",
    "\n",
    "Defining the Network Architecture: The layers array defines the architecture of the neural network. The number of nodes (neurons) in the input layer is 6, matching the number of features in the dataset. The network includes two hidden layers with 5 and 4 nodes, respectively, and the output layer has 3 nodes, corresponding to the 3 classes (risk levels). The structure of a network is crucial as it can significantly influence the model's performance.\n",
    "\n",
    "Creating the Classifier: An instance of the MultilayerPerceptronClassifier is created with the specified layers. Additionally:\n",
    "\n",
    "blockSize=128 specifies the size of blocks to be used for stacking input data in matrices to speed up the computation. Increasing the block size can utilize the computational power more efficiently at the cost of higher memory consumption.\n",
    "seed=1234 is used to initialize the random number generator, ensuring that the results of the model training are reproducible.\n",
    "maxIter=100 sets the maximum number of iterations (epochs) over the dataset for which the algorithm will run. If the algorithm converges (i.e., improvements become negligibly small) before reaching this limit, the training will stop early.\n",
    "This setup is part of the process for preparing to train a neural network model on a dataset with 6 features to predict one of 3 possible risk levels. The use of an MLP in Spark allows for scalable and distributed computing over large datasets.\n"
   ]
  },
  {
   "cell_type": "code",
   "execution_count": 105,
   "id": "b2292970",
   "metadata": {},
   "outputs": [],
   "source": [
    "# Training the model\n",
    "model = mlp.fit(train_data)"
   ]
  },
  {
   "cell_type": "markdown",
   "id": "29c419ad",
   "metadata": {},
   "source": [
    "This line of code initiates the training process of the Multilayer Perceptron (MLP) classifier on the train_data. During training, the MLP will learn to classify input data into the predefined classes by adjusting its weights based on the input features and corresponding labels in the training dataset. This process iterates over the specified number of epochs or until convergence, as defined in the MLP configuration.\n"
   ]
  },
  {
   "cell_type": "code",
   "execution_count": 106,
   "id": "54987772",
   "metadata": {},
   "outputs": [
    {
     "name": "stdout",
     "output_type": "stream",
     "text": [
      "Accuracy: 0.5225806451612903\n"
     ]
    }
   ],
   "source": [
    "from pyspark.ml.evaluation import MulticlassClassificationEvaluator\n",
    "\n",
    "# Making predictions on the test set\n",
    "predictions = model.transform(test_data)\n",
    "\n",
    "# Evaluating accuracy\n",
    "evaluator = MulticlassClassificationEvaluator(metricName=\"accuracy\")\n",
    "accuracy = evaluator.evaluate(predictions)\n",
    "print(f\"Accuracy: {accuracy}\")"
   ]
  },
  {
   "cell_type": "code",
   "execution_count": 107,
   "id": "6a7c3b60",
   "metadata": {},
   "outputs": [],
   "source": [
    "from pyspark.ml.feature import VectorAssembler, StandardScaler, StringIndexer\n",
    "from pyspark.sql.functions import col\n",
    "\n",
    "# Making sure the 'label' column does not cause conflict\n",
    "if \"label\" in df.columns:\n",
    "    df = df.drop(\"label\")\n",
    "\n",
    "# Indexing categorical labels with a new column name to avoid conflicts\n",
    "indexer = StringIndexer(inputCol=\"RiskLevel\", outputCol=\"indexedLabel\").fit(df)\n",
    "df_indexed = indexer.transform(df)\n",
    "\n",
    "# Assembling the features\n",
    "assembler = VectorAssembler(\n",
    "    inputCols=[\"Age\", \"SystolicBP\", \"DiastolicBP\", \"BS\", \"BodyTemp\", \"HeartRate\"],\n",
    "    outputCol=\"features\")\n",
    "df_assembled = assembler.transform(df_indexed)\n",
    "\n",
    "# Normalizing the features (optional but recommended)\n",
    "scaler = StandardScaler(inputCol=\"features\", outputCol=\"scaledFeatures\", withStd=True, withMean=False)\n",
    "scalerModel = scaler.fit(df_assembled)\n",
    "df_scaled = scalerModel.transform(df_assembled)\n",
    "\n",
    "# Splitting the data\n",
    "(train_data, test_data) = df_scaled.randomSplit([0.8, 0.2])"
   ]
  },
  {
   "cell_type": "markdown",
   "id": "0d72d670",
   "metadata": {},
   "source": [
    "This code block is part of a data preprocessing routine for a machine learning pipeline using PySpark's MLlib. Let's translate it into English and then explain its purpose and function:\n",
    "\n",
    "Explanation\n",
    "Avoiding Column Conflict: First, the code checks if a column named label already exists in the DataFrame df and drops it if found. This is to avoid conflicts with many machine learning algorithms that expect a column named label to be the target variable.\n",
    "\n",
    "Indexing Categorical Labels: StringIndexer is used to convert the categorical labels in the RiskLevel column into numerical indices. This process is necessary because most machine learning models work with numerical data. The new indices are stored in a column named indexedLabel.\n",
    "\n",
    "Assembling Features: VectorAssembler combines multiple columns (in this case, various features like Age, SystolicBP, etc.) into a single vector column named features. This step is required because Spark ML algorithms expect input data to be in this format.\n",
    "\n",
    "Normalizing Features: StandardScaler standardizes the features by scaling them to have a mean of 0 and a standard deviation of 1. This step, while optional, is often recommended as it can improve the performance of many machine learning algorithms. The scaled features are stored in a new column named scaledFeatures.\n",
    "\n",
    "Splitting the Data: Finally, the processed DataFrame is randomly split into training and test datasets, with 80% of the data going to the training set and the remaining 20% to the test set. This is a common practice in machine learning to evaluate the model's performance on unseen data.\n",
    "\n",
    "Purpose\n",
    "The entire process prepares the data for training a machine learning model by ensuring that the data is in the correct format, categorical labels are appropriately indexed, features are standardized, and the dataset is divided into training and testing sets. This preparation is crucial for the success of many machine learning tasks, including classification and regression."
   ]
  },
  {
   "cell_type": "markdown",
   "id": "6e997bc0",
   "metadata": {},
   "source": [
    "- building, training, and evaluating a Multilayer Perceptron (MLP) classifier using PySpark's MLlib for a classification task"
   ]
  },
  {
   "cell_type": "code",
   "execution_count": 108,
   "id": "3f4c4c33",
   "metadata": {},
   "outputs": [
    {
     "name": "stdout",
     "output_type": "stream",
     "text": [
      "Accuracy: 0.5751\n"
     ]
    }
   ],
   "source": [
    "from pyspark.ml.classification import MultilayerPerceptronClassifier\n",
    "\n",
    "# Defining the network architecture: number of nodes in the input layer equals the number of features; adjust as necessary\n",
    "layers = [6, 5, 4, 3]  # Example: 6 input features, two hidden layers (5 and 4 neurons), 3 outputs\n",
    "\n",
    "mlp = MultilayerPerceptronClassifier(\n",
    "    layers=layers,\n",
    "    blockSize=128,\n",
    "    seed=1234,\n",
    "    maxIter=100,\n",
    "    featuresCol=\"scaledFeatures\",\n",
    "    labelCol=\"indexedLabel\")  # Adjust to use the 'indexedLabel' column\n",
    "\n",
    "# Training the model\n",
    "model = mlp.fit(train_data)\n",
    "\n",
    "# Model evaluation\n",
    "from pyspark.ml.evaluation import MulticlassClassificationEvaluator\n",
    "\n",
    "predictions = model.transform(test_data)\n",
    "evaluator = MulticlassClassificationEvaluator(labelCol=\"indexedLabel\", predictionCol=\"prediction\", metricName=\"accuracy\")\n",
    "\n",
    "accuracy = evaluator.evaluate(predictions)\n",
    "print(f\"Accuracy: {accuracy:.4f}\")"
   ]
  },
  {
   "cell_type": "markdown",
   "id": "cd9899b4",
   "metadata": {},
   "source": [
    "Neste exemplo, build_model é uma função que constrói um modelo Keras. Ela usa o objeto hp (de hiperparâmetros) do keras-tuner para explorar diferentes valores de unidades na camada oculta, taxas de aprendizado e otimizadores. O keras-tuner então busca no espaço de hiperparâmetros fornecido para encontrar a melhor combinação de acordo com a acurácia de validação."
   ]
  }
 ],
 "metadata": {
  "kernelspec": {
   "display_name": "Python 3 (ipykernel)",
   "language": "python",
   "name": "python3"
  },
  "language_info": {
   "codemirror_mode": {
    "name": "ipython",
    "version": 3
   },
   "file_extension": ".py",
   "mimetype": "text/x-python",
   "name": "python",
   "nbconvert_exporter": "python",
   "pygments_lexer": "ipython3",
   "version": "3.10.12"
  }
 },
 "nbformat": 4,
 "nbformat_minor": 5
}
