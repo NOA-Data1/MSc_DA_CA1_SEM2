{
 "cells": [
  {
   "cell_type": "markdown",
   "id": "1e39bce8",
   "metadata": {},
   "source": [
    "# Predictive modeling of the risk of eclampsia in pregnancy using neural network approaches"
   ]
  },
  {
   "cell_type": "markdown",
   "id": "5f467566",
   "metadata": {},
   "source": [
    "## Dataset: Maternal Health Risk\n",
    "\n",
    "### Licence of use\n",
    "\n",
    "- That dataset was collected from UCI Machine Learning Repository -https://archive.ics.uci.edu/dataset/863/maternal+health+risk\n",
    "\n",
    "- licence by Creative Commons Attribution 4.0 (CC BY 4.0) https://creativecommons.org/licenses/by/4.0/\n"
   ]
  },
  {
   "cell_type": "markdown",
   "id": "e41687c5",
   "metadata": {},
   "source": [
    "# 1. Research understanding phase\n",
    "\n",
    "- In this study, a comprehensive analysis of the risk of eclampsia during pregnancy was provided, with data collected by age, blood pressure, heart rate, blood sugar level and body temperature. \n",
    "- Data preparation, information extraction, modeling, training and data normalization were carried out to perform data classification. \n",
    "- The dataset was correctly loaded into Hadoop, being able to use the PySparkSQL and TensorFlow, using SQL and Python coding language. an Artificial Neural Network model was applied to the chosen variables X and y, as well as hyperparameters to decide the best model and obtain the models' accuracy.\n",
    "- To achieve an organized and clear understanding of the study schedule, the Cross Industry Standard Process for Data Mining (CRISP-DM) methodology was used, and the code cells were grouped according to the phases of the methodology."
   ]
  },
  {
   "cell_type": "markdown",
   "id": "47b66311",
   "metadata": {},
   "source": [
    "## About the dataset\n",
    "\n",
    "- The Data has been collected from different hospitals, community clinics, maternal health cares from the rural areas of Bangladesh through the IoT based risk monitoring system.\n",
    "\n",
    "###  Attributes Description:\n",
    "\n",
    "- Age - Age in years when a woman is pregnant\n",
    "- SystolicBP - Upper value of Blood Pressure in mmHg\n",
    "- DiastolicBP - Lower value of Blood Pressure in mmHg\n",
    "- BS - Blood glucose levels is in terms of a molar concentration, mmol/L\n",
    "- BodyTemp - Body temperature in Fahrenheit\n",
    "- HeartRate - Resting heart rate in beats per minute\n",
    "- RiskLevel - Predicted Risk Intensity Level during pregnancy ['high risk', 'mid risk', 'low risk']"
   ]
  },
  {
   "cell_type": "code",
   "execution_count": 1,
   "id": "67ca7143",
   "metadata": {},
   "outputs": [
    {
     "data": {
      "text/html": [
       "\n",
       "        <div>\n",
       "            <p><b>SparkContext</b></p>\n",
       "\n",
       "            <p><a href=\"http://10.0.2.15:4040\">Spark UI</a></p>\n",
       "\n",
       "            <dl>\n",
       "              <dt>Version</dt>\n",
       "                <dd><code>v3.1.3</code></dd>\n",
       "              <dt>Master</dt>\n",
       "                <dd><code>local[*]</code></dd>\n",
       "              <dt>AppName</dt>\n",
       "                <dd><code>PySparkShell</code></dd>\n",
       "            </dl>\n",
       "        </div>\n",
       "        "
      ],
      "text/plain": [
       "<SparkContext master=local[*] appName=PySparkShell>"
      ]
     },
     "execution_count": 1,
     "metadata": {},
     "output_type": "execute_result"
    }
   ],
   "source": [
    "sc"
   ]
  },
  {
   "cell_type": "markdown",
   "id": "437af6e6",
   "metadata": {},
   "source": [
    "# 2. Data Understanding Phase"
   ]
  },
  {
   "cell_type": "markdown",
   "id": "8baf3ca6",
   "metadata": {},
   "source": [
    "### Practical Big Data (PySparkSQL) - Part 1"
   ]
  },
  {
   "cell_type": "code",
   "execution_count": 2,
   "id": "5c999a6b",
   "metadata": {},
   "outputs": [],
   "source": [
    "# Load the libraries\n",
    "import os\n",
    "import numpy as np\n",
    "import pandas as pd\n",
    "from pyspark.sql.types import *\n",
    "from pyspark.ml import Pipeline\n",
    "from pyspark.sql import functions as f\n",
    "from pyspark.sql.functions import udf, StringType\n",
    "from pyspark.sql import SparkSession, functions as F\n",
    "from pyspark.ml.evaluation import MulticlassClassificationEvaluator\n",
    "from pyspark.ml.classification import MultilayerPerceptronClassifier\n",
    "from pyspark.ml.feature import OneHotEncoder, VectorAssembler, StringIndexer"
   ]
  },
  {
   "cell_type": "code",
   "execution_count": 3,
   "id": "2aa3384e",
   "metadata": {},
   "outputs": [],
   "source": [
    "# Due the different version of python can be found and each machine or libriries \n",
    "# Avoid warnigs\n",
    "import warnings\n",
    "warnings.filterwarnings(\"ignore\")"
   ]
  },
  {
   "cell_type": "code",
   "execution_count": 4,
   "id": "b332beca",
   "metadata": {},
   "outputs": [],
   "source": [
    "#Import PySparkSQL\n",
    "import pyspark\n",
    "from pyspark.sql import SparkSession\n",
    "\n",
    "# Create SparkSession\n",
    "spark = SparkSession.builder \\\n",
    "    .appName(\"Análise de Dados de Saúde Materna\") \\\n",
    "    .getOrCreate()"
   ]
  },
  {
   "cell_type": "code",
   "execution_count": 5,
   "id": "427c2f68",
   "metadata": {},
   "outputs": [
    {
     "name": "stderr",
     "output_type": "stream",
     "text": [
      "                                                                                \r"
     ]
    }
   ],
   "source": [
    "# Path to dataset\n",
    "csv_file = \"/user/user1/Maternal_Health_Risk.csv\"\n",
    "\n",
    "# Read and create a temporary view\n",
    "df = spark.read.format(\"csv\") \\\n",
    "    .option(\"inferSchema\", \"true\") \\\n",
    "    .option(\"header\", \"true\") \\\n",
    "    .load(csv_file)\n",
    "df.createOrReplaceTempView(\"rawdata\")"
   ]
  },
  {
   "cell_type": "code",
   "execution_count": 6,
   "id": "7863afab",
   "metadata": {},
   "outputs": [
    {
     "name": "stdout",
     "output_type": "stream",
     "text": [
      "root\n",
      " |-- Age: integer (nullable = true)\n",
      " |-- SystolicBP: integer (nullable = true)\n",
      " |-- DiastolicBP: integer (nullable = true)\n",
      " |-- BS: double (nullable = true)\n",
      " |-- BodyTemp: double (nullable = true)\n",
      " |-- HeartRate: integer (nullable = true)\n",
      " |-- RiskLevel: string (nullable = true)\n",
      "\n"
     ]
    }
   ],
   "source": [
    "# Visualise inferred schema\n",
    "df.printSchema()"
   ]
  },
  {
   "cell_type": "code",
   "execution_count": 7,
   "id": "68d93114",
   "metadata": {},
   "outputs": [
    {
     "name": "stderr",
     "output_type": "stream",
     "text": [
      "\r",
      "[Stage 2:>                                                          (0 + 1) / 1]\r"
     ]
    },
    {
     "name": "stdout",
     "output_type": "stream",
     "text": [
      "+---+----------+-----------+----+--------+---------+---------+\n",
      "|Age|SystolicBP|DiastolicBP|  BS|BodyTemp|HeartRate|RiskLevel|\n",
      "+---+----------+-----------+----+--------+---------+---------+\n",
      "| 25|       130|         80|15.0|    98.0|       86|high risk|\n",
      "| 35|       140|         90|13.0|    98.0|       70|high risk|\n",
      "| 29|        90|         70| 8.0|   100.0|       80|high risk|\n",
      "| 30|       140|         85| 7.0|    98.0|       70|high risk|\n",
      "| 35|       120|         60| 6.1|    98.0|       76| low risk|\n",
      "| 23|       140|         80|7.01|    98.0|       70|high risk|\n",
      "| 23|       130|         70|7.01|    98.0|       78| mid risk|\n",
      "| 35|        85|         60|11.0|   102.0|       86|high risk|\n",
      "| 32|       120|         90| 6.9|    98.0|       70| mid risk|\n",
      "| 42|       130|         80|18.0|    98.0|       70|high risk|\n",
      "+---+----------+-----------+----+--------+---------+---------+\n",
      "\n"
     ]
    },
    {
     "name": "stderr",
     "output_type": "stream",
     "text": [
      "\r",
      "                                                                                \r"
     ]
    }
   ],
   "source": [
    "# Execute an SQL query to select the first 10 rows from the temporary view\n",
    "data = spark.sql(\"SELECT * FROM rawdata LIMIT 10\")\n",
    "\n",
    "# Directly display the query results\n",
    "data.show()"
   ]
  },
  {
   "cell_type": "code",
   "execution_count": 8,
   "id": "3c94ac11",
   "metadata": {},
   "outputs": [
    {
     "name": "stdout",
     "output_type": "stream",
     "text": [
      "+---------+\n",
      "|TotalRows|\n",
      "+---------+\n",
      "|     1014|\n",
      "+---------+\n",
      "\n",
      "Number of Columns: 7\n"
     ]
    }
   ],
   "source": [
    "# Count rows\n",
    "num_rows = spark.sql(\"SELECT COUNT(*) as TotalRows FROM rawdata\").show()\n",
    "\n",
    "# Count columns using the PySpark DataFrame (not directly SQL)\n",
    "num_columns = len(df.columns)\n",
    "print(f\"Number of Columns: {num_columns}\")"
   ]
  },
  {
   "cell_type": "markdown",
   "id": "4f33c9d8",
   "metadata": {},
   "source": [
    "### Missing values"
   ]
  },
  {
   "cell_type": "code",
   "execution_count": 9,
   "id": "a6e29e6d",
   "metadata": {},
   "outputs": [
    {
     "name": "stdout",
     "output_type": "stream",
     "text": [
      "+---+----------+-----------+---+--------+---------+---------+\n",
      "|Age|SystolicBP|DiastolicBP| BS|BodyTemp|HeartRate|RiskLevel|\n",
      "+---+----------+-----------+---+--------+---------+---------+\n",
      "|  0|         0|          0|  0|       0|        0|        0|\n",
      "+---+----------+-----------+---+--------+---------+---------+\n",
      "\n"
     ]
    },
    {
     "name": "stderr",
     "output_type": "stream",
     "text": [
      "\r",
      "[Stage 6:>                                                          (0 + 1) / 1]\r",
      "\r",
      "                                                                                \r"
     ]
    }
   ],
   "source": [
    "from pyspark.sql.functions import col, sum as _sum, when\n",
    "\n",
    "# Listing the number of missing values per column\n",
    "df.select([_sum(when(col(c).isNull(), 1).otherwise(0)).alias(c) for c in df.columns]).show()"
   ]
  },
  {
   "cell_type": "code",
   "execution_count": 10,
   "id": "56e05145",
   "metadata": {},
   "outputs": [
    {
     "name": "stderr",
     "output_type": "stream",
     "text": [
      "                                                                                \r"
     ]
    },
    {
     "name": "stdout",
     "output_type": "stream",
     "text": [
      "   RiskLevel  Count\n",
      "0   low risk    406\n",
      "1   mid risk    336\n",
      "2  high risk    272\n"
     ]
    }
   ],
   "source": [
    "# Collecting data for visualization\n",
    "risk_level_distribution = spark.sql(\"SELECT RiskLevel, COUNT(*) as Count FROM rawdata GROUP BY RiskLevel\").toPandas()\n",
    "\n",
    "# Check the collected data\n",
    "print(risk_level_distribution)"
   ]
  },
  {
   "cell_type": "code",
   "execution_count": 11,
   "id": "c33accff",
   "metadata": {},
   "outputs": [
    {
     "data": {
      "image/png": "[encoded data removed]",
      "text/plain": [
       "<Figure size 720x432 with 1 Axes>"
      ]
     },
     "metadata": {
      "needs_background": "light"
     },
     "output_type": "display_data"
    }
   ],
   "source": [
    "import matplotlib.pyplot as plt\n",
    "\n",
    "# Plotting the distribution of Risk Levels with counts above bars\n",
    "plt.figure(figsize=(10, 6))\n",
    "bars = plt.bar(risk_level_distribution['RiskLevel'], risk_level_distribution['Count'], color=['skyblue', 'lightgreen', 'salmon'])\n",
    "\n",
    "# Adding counts above bars\n",
    "for bar in bars:\n",
    "    yval = bar.get_height()\n",
    "    plt.text(bar.get_x() + bar.get_width()/2, yval + 0.5, yval, ha='center', va='bottom')\n",
    "\n",
    "plt.title('Distribution of Risk Levels')\n",
    "plt.xlabel('Risk Level')\n",
    "plt.ylabel('Count')\n",
    "plt.xticks(rotation=45)\n",
    "plt.show()"
   ]
  },
  {
   "cell_type": "markdown",
   "id": "74f538f4",
   "metadata": {},
   "source": [
    "### Comparative bar chart for average Systolic and Diastolic blood pressure, by Risk Level level."
   ]
  },
  {
   "cell_type": "code",
   "execution_count": 12,
   "id": "96436cb1",
   "metadata": {},
   "outputs": [
    {
     "name": "stderr",
     "output_type": "stream",
     "text": [
      "                                                                                \r"
     ]
    }
   ],
   "source": [
    "# Determining the associations between the average systolic and diastolic blood pressures (SystolicBP and DiastolicBP, respectively) and the RiskLevel.\n",
    "pressure_risk = spark.sql(\"\"\"\n",
    "SELECT \n",
    "    RiskLevel, \n",
    "    AVG(SystolicBP) AS AvgSystolicBP, \n",
    "    AVG(DiastolicBP) AS AvgDiastolicBP \n",
    "FROM rawdata \n",
    "GROUP BY RiskLevel\n",
    "\"\"\").toPandas()"
   ]
  },
  {
   "cell_type": "markdown",
   "id": "8115d6ab",
   "metadata": {},
   "source": [
    "- The purpose of the query is to evaluate the data with an emphasis on determining the associations between the average systolic and diastolic blood pressures SystolicBP and DiastolicBP, respectively and the RiskLevel."
   ]
  },
  {
   "cell_type": "code",
   "execution_count": 13,
   "id": "abd1b141",
   "metadata": {},
   "outputs": [
    {
     "data": {
      "image/png": "[encoded data removed]",
      "text/plain": [
       "<Figure size 432x288 with 1 Axes>"
      ]
     },
     "metadata": {
      "needs_background": "light"
     },
     "output_type": "display_data"
    }
   ],
   "source": [
    "import matplotlib.pyplot as plt\n",
    "import numpy as np\n",
    "\n",
    "# Bar width\n",
    "barWidth = 0.50\n",
    "\n",
    "# Setting the position of the bars\n",
    "r1 = np.arange(len(pressure_risk['RiskLevel']))\n",
    "r2 = [x + barWidth for x in r1]\n",
    "\n",
    "# Creating the bars\n",
    "plt.bar(r1, pressure_risk['AvgSystolicBP'], color='blue', width=barWidth, edgecolor='grey', label='Systolic')\n",
    "plt.bar(r2, pressure_risk['AvgDiastolicBP'], color='red', width=barWidth, edgecolor='grey', label='Diastolic')\n",
    "\n",
    "# Adding labels to the bars\n",
    "plt.xlabel('Risk Level', fontweight='bold')\n",
    "plt.xticks([r + barWidth for r in range(len(pressure_risk['RiskLevel']))], pressure_risk['RiskLevel'])\n",
    "\n",
    "# Creating the legend and showing the plot\n",
    "plt.legend()\n",
    "plt.show()"
   ]
  },
  {
   "cell_type": "markdown",
   "id": "1d5efd10",
   "metadata": {},
   "source": [
    "### Average Age by Risk Level chart"
   ]
  },
  {
   "cell_type": "code",
   "execution_count": 14,
   "id": "ed0f1e82",
   "metadata": {},
   "outputs": [
    {
     "name": "stderr",
     "output_type": "stream",
     "text": [
      "                                                                                \r"
     ]
    }
   ],
   "source": [
    "age_risk = spark.sql(\"\"\"\n",
    "SELECT \n",
    "    RiskLevel, \n",
    "    AVG(Age) AS AvgAge \n",
    "FROM rawdata \n",
    "GROUP BY RiskLevel\n",
    "ORDER BY CASE \n",
    "    WHEN RiskLevel = 'low risk' THEN 1\n",
    "    WHEN RiskLevel = 'mid risk' THEN 2\n",
    "    WHEN RiskLevel = 'high risk' THEN 3\n",
    "    ELSE 4\n",
    "END\n",
    "\"\"\").toPandas()"
   ]
  },
  {
   "cell_type": "markdown",
   "id": "b13c9357",
   "metadata": {},
   "source": [
    "- By analyzing how the average age varies between different risk levels, through this analysis it is possible to identify age-related patterns or trends that may be relevant to understanding risk."
   ]
  },
  {
   "cell_type": "code",
   "execution_count": 15,
   "id": "5a278412",
   "metadata": {},
   "outputs": [
    {
     "data": {
      "image/png": "[encoded data removed]",
      "text/plain": [
       "<Figure size 576x432 with 1 Axes>"
      ]
     },
     "metadata": {
      "needs_background": "light"
     },
     "output_type": "display_data"
    }
   ],
   "source": [
    "import matplotlib.pyplot as plt\n",
    "\n",
    "# Adjusting color_mapping to match the exact strings from the SQL query\n",
    "color_mapping = {\n",
    "    'high risk': 'red',    # Matching 'high risk' to red\n",
    "    'mid risk': 'yellow',  # Matching 'mid risk' to yellow\n",
    "    'low risk': 'green'    # Matching 'low risk' to green\n",
    "}\n",
    "\n",
    "# Applying the color mapping to generate a list of colors for each bar\n",
    "# This assumes age_risk['RiskLevel'] contains 'low risk', 'mid risk', 'high risk'\n",
    "bar_colors = [color_mapping[risk_level] for risk_level in age_risk['RiskLevel']]\n",
    "\n",
    "plt.figure(figsize=(8, 6))\n",
    "plt.bar(age_risk['RiskLevel'], age_risk['AvgAge'], color=bar_colors)\n",
    "\n",
    "# Adding titles and labels\n",
    "plt.title('Average Age by Risk Level')\n",
    "plt.xlabel('Risk Level')\n",
    "plt.ylabel('Average Age')\n",
    "plt.xticks(rotation=45)  # Rotating X-axis labels for better readability\n",
    "\n",
    "# Displaying the chart\n",
    "plt.show()"
   ]
  },
  {
   "cell_type": "markdown",
   "id": "3101cbac",
   "metadata": {},
   "source": [
    "- This chart provides a clear visualization of how the average age varies between different risk levels. This can help identify whether there is an age trend associated with risk level."
   ]
  },
  {
   "cell_type": "markdown",
   "id": "d49d22eb",
   "metadata": {},
   "source": [
    "# Modeling Phase"
   ]
  },
  {
   "cell_type": "markdown",
   "id": "1a2014da",
   "metadata": {},
   "source": [
    "##  Neural Network For Binary Classification"
   ]
  },
  {
   "cell_type": "code",
   "execution_count": 17,
   "id": "8b960098",
   "metadata": {},
   "outputs": [
    {
     "ename": "NameError",
     "evalue": "name 'X_train_scaled' is not defined",
     "output_type": "error",
     "traceback": [
      "\u001b[0;31m---------------------------------------------------------------------------\u001b[0m",
      "\u001b[0;31mNameError\u001b[0m                                 Traceback (most recent call last)",
      "\u001b[0;32m/tmp/ipykernel_23555/425009698.py\u001b[0m in \u001b[0;36m<module>\u001b[0;34m\u001b[0m\n\u001b[1;32m      4\u001b[0m \u001b[0;34m\u001b[0m\u001b[0m\n\u001b[1;32m      5\u001b[0m \u001b[0;31m# Determine the number of input features\u001b[0m\u001b[0;34m\u001b[0m\u001b[0;34m\u001b[0m\u001b[0m\n\u001b[0;32m----> 6\u001b[0;31m \u001b[0mn_features\u001b[0m \u001b[0;34m=\u001b[0m \u001b[0mX_train_scaled\u001b[0m\u001b[0;34m.\u001b[0m\u001b[0mshape\u001b[0m\u001b[0;34m[\u001b[0m\u001b[0;36m1\u001b[0m\u001b[0;34m]\u001b[0m\u001b[0;34m\u001b[0m\u001b[0;34m\u001b[0m\u001b[0m\n\u001b[0m\u001b[1;32m      7\u001b[0m \u001b[0;34m\u001b[0m\u001b[0m\n\u001b[1;32m      8\u001b[0m \u001b[0;31m# Create a sequential model\u001b[0m\u001b[0;34m\u001b[0m\u001b[0;34m\u001b[0m\u001b[0m\n",
      "\u001b[0;31mNameError\u001b[0m: name 'X_train_scaled' is not defined"
     ]
    }
   ],
   "source": [
    "import tensorflow as tf\n",
    "from tensorflow.keras.models import Sequential\n",
    "from tensorflow.keras.layers import Dense\n",
    "\n",
    "# Determine the number of input features\n",
    "n_features = X_train_scaled.shape[1]\n",
    "\n",
    "# Create a sequential model\n",
    "model = Sequential()\n",
    "model.add(Dense(10, activation='relu', input_shape=(n_features,)))\n",
    "model.add(Dense(8, activation='relu'))\n",
    "# If RiskLevel is binary, use 1 output neuron with sigmoid, otherwise adjust for multiclass\n",
    "model.add(Dense(1, activation='sigmoid'))  # Use 'softmax' and adjust the number of neurons if it's multiclass\n",
    "\n",
    "# Compile the model\n",
    "model.compile(optimizer='adam', loss='binary_crossentropy', metrics=['accuracy'])  # Adjust as necessary"
   ]
  },
  {
   "cell_type": "code",
   "execution_count": null,
   "id": "2b86f2fc",
   "metadata": {},
   "outputs": [],
   "source": [
    "# Evaluating the model\n",
    "history = model.fit(X_train_scaled, y_train, epochs=140, batch_size=32, validation_split=0.2, verbose=1)"
   ]
  },
  {
   "cell_type": "code",
   "execution_count": null,
   "id": "396be65a",
   "metadata": {},
   "outputs": [],
   "source": [
    "# Evaluating the model on the test set\n",
    "loss, accuracy = model.evaluate(X_test_scaled, y_test)\n",
    "print(f'Test set accuracy: {accuracy:.4f}')"
   ]
  },
  {
   "cell_type": "code",
   "execution_count": null,
   "id": "12e55968",
   "metadata": {},
   "outputs": [],
   "source": [
    "from sklearn.preprocessing import StandardScaler\n",
    "import numpy as np\n",
    "\n",
    "# Assuming X_train training data\n",
    "scaler = StandardScaler()\n",
    "X_train_scaled = scaler.fit_transform(X_train)  # Fit and transform training data"
   ]
  },
  {
   "cell_type": "code",
   "execution_count": null,
   "id": "d25c99e6",
   "metadata": {},
   "outputs": [],
   "source": [
    "# making a prediction\n",
    "new_data = np.array([[42, 140, 85, 13, 98, 75]])  # Replace with actual values\n",
    "new_data_scaled = scaler.transform(new_data)  # This should work if 'scaler' is defined and fitted correctly\n",
    "prediction = model.predict(new_data_scaled)\n",
    "print(f'Prediction: {prediction}')"
   ]
  },
  {
   "cell_type": "code",
   "execution_count": null,
   "id": "b39ae653",
   "metadata": {},
   "outputs": [],
   "source": [
    "pip install keras-tuner"
   ]
  },
  {
   "cell_type": "markdown",
   "id": "24b8ea97",
   "metadata": {},
   "source": [
    "### Tuning hyperparameter"
   ]
  },
  {
   "cell_type": "code",
   "execution_count": null,
   "id": "4e388a5c",
   "metadata": {},
   "outputs": [],
   "source": [
    "from kerastuner.tuners import RandomSearch\n",
    "from tensorflow.keras.models import Sequential\n",
    "from tensorflow.keras.layers import Dense\n",
    "from tensorflow.keras.optimizers import Adam\n",
    "\n",
    "def build_model(hp):\n",
    "    model = Sequential()\n",
    "    model.add(Dense(hp.Int('units_input', min_value=32, max_value=512, step=32), activation='relu', input_shape=(X_train_scaled.shape[1],)))\n",
    "    model.add(Dense(hp.Int('units_hidden', min_value=32, max_value=512, step=32), activation='relu'))\n",
    "    model.add(Dense(1, activation='sigmoid'))\n",
    "    \n",
    "    # Adjusting the learning rate\n",
    "    hp_learning_rate = hp.Choice('learning_rate', values=[1e-2, 1e-3, 1e-4])\n",
    "    \n",
    "    model.compile(optimizer=Adam(learning_rate=hp_learning_rate),\n",
    "                  loss='binary_crossentropy',\n",
    "                  metrics=['accuracy'])\n",
    "    return model"
   ]
  },
  {
   "cell_type": "code",
   "execution_count": null,
   "id": "28c599ad",
   "metadata": {},
   "outputs": [],
   "source": [
    "tuner = RandomSearch(\n",
    "    build_model,\n",
    "    objective='val_accuracy',\n",
    "    max_trials=10,  # Maximum number of hyperparameter combinations to test\n",
    "    executions_per_trial=2,  # Number of models to train and evaluate for each trial\n",
    "    directory='tuner_results',\n",
    "    project_name='keras_tuner_demo'\n",
    ")"
   ]
  },
  {
   "cell_type": "code",
   "execution_count": null,
   "id": "a61dcd29",
   "metadata": {},
   "outputs": [],
   "source": [
    "tuner.search(X_train_scaled, y_train, epochs=20, validation_split=0.2, verbose=1)"
   ]
  },
  {
   "cell_type": "markdown",
   "id": "015ac80f",
   "metadata": {},
   "source": [
    "#### Retrieving and evaluate the best model found by the hyperparameter tuning process using Keras Tuner"
   ]
  },
  {
   "cell_type": "code",
   "execution_count": null,
   "id": "139dd787",
   "metadata": {},
   "outputs": [],
   "source": [
    "# Best hyperparameter\n",
    "best_model = tuner.get_best_models(num_models=1)[0]\n",
    "best_hyperparameters = tuner.get_best_hyperparameters()[0]\n",
    "\n",
    "# Evaluating the best model\n",
    "loss, accuracy = best_model.evaluate(X_test_scaled, y_test)\n",
    "print(f'Test set accuracy of the best model: {accuracy:.4f}')\n",
    "\n",
    "print(\"Best hyperparameters:\", best_hyperparameters.values)"
   ]
  },
  {
   "cell_type": "markdown",
   "id": "1757e1ba",
   "metadata": {},
   "source": [
    "### LTM Feedforward RNA"
   ]
  },
  {
   "cell_type": "code",
   "execution_count": null,
   "id": "e63ce86d",
   "metadata": {},
   "outputs": [],
   "source": [
    "from pyspark.ml.feature import VectorAssembler\n",
    "from pyspark.ml.feature import StringIndexer\n",
    "from pyspark.sql.functions import col\n",
    "\n",
    "# Index the label if it's categorical\n",
    "indexer = StringIndexer(inputCol=\"RiskLevel\", outputCol=\"label\")\n",
    "df = indexer.fit(df).transform(df)\n",
    "\n",
    "# Assemble features into a single feature vector\n",
    "assembler = VectorAssembler(inputCols=[\"Age\", \"SystolicBP\", \"DiastolicBP\", \"BS\", \"BodyTemp\", \"HeartRate\"], outputCol=\"features\")\n",
    "data = assembler.transform(df)\n",
    "\n",
    "# Splitting the data into training and test sets\n",
    "train_data, test_data = data.randomSplit([0.7, 0.3])"
   ]
  },
  {
   "cell_type": "code",
   "execution_count": null,
   "id": "e5572dcd",
   "metadata": {},
   "outputs": [],
   "source": [
    "from pyspark.ml.classification import MultilayerPerceptronClassifier\n",
    "\n",
    "# Defining the neural network architecture\n",
    "# The number of nodes in the input layer must match the number of features, and the number of nodes in the output layer must match the number of classes.\n",
    "# In this example, we'll assume 3 classes (risks) and 6 features.\n",
    "layers = [6, 5, 4, 3]\n",
    "\n",
    "# Creating the classifier\n",
    "mlp = MultilayerPerceptronClassifier(layers=layers, blockSize=128, seed=1234, maxIter=100)"
   ]
  },
  {
   "cell_type": "code",
   "execution_count": null,
   "id": "b2292970",
   "metadata": {},
   "outputs": [],
   "source": [
    "# Training the model\n",
    "model = mlp.fit(train_data)"
   ]
  },
  {
   "cell_type": "code",
   "execution_count": null,
   "id": "54987772",
   "metadata": {},
   "outputs": [],
   "source": [
    "from pyspark.ml.evaluation import MulticlassClassificationEvaluator\n",
    "\n",
    "# Making predictions on the test set\n",
    "predictions = model.transform(test_data)\n",
    "\n",
    "# Evaluating accuracy\n",
    "evaluator = MulticlassClassificationEvaluator(metricName=\"accuracy\")\n",
    "accuracy = evaluator.evaluate(predictions)\n",
    "print(f\"Accuracy: {accuracy}\")"
   ]
  },
  {
   "cell_type": "code",
   "execution_count": null,
   "id": "6a7c3b60",
   "metadata": {},
   "outputs": [],
   "source": [
    "from pyspark.ml.feature import VectorAssembler, StandardScaler, StringIndexer\n",
    "from pyspark.sql.functions import col\n",
    "\n",
    "# Making sure the 'label' column does not cause conflict\n",
    "if \"label\" in df.columns:\n",
    "    df = df.drop(\"label\")\n",
    "\n",
    "# Indexing categorical labels with a new column name to avoid conflicts\n",
    "indexer = StringIndexer(inputCol=\"RiskLevel\", outputCol=\"indexedLabel\").fit(df)\n",
    "df_indexed = indexer.transform(df)\n",
    "\n",
    "# Assembling the features\n",
    "assembler = VectorAssembler(\n",
    "    inputCols=[\"Age\", \"SystolicBP\", \"DiastolicBP\", \"BS\", \"BodyTemp\", \"HeartRate\"],\n",
    "    outputCol=\"features\")\n",
    "df_assembled = assembler.transform(df_indexed)\n",
    "\n",
    "# Normalizing the features (optional but recommended)\n",
    "scaler = StandardScaler(inputCol=\"features\", outputCol=\"scaledFeatures\", withStd=True, withMean=False)\n",
    "scalerModel = scaler.fit(df_assembled)\n",
    "df_scaled = scalerModel.transform(df_assembled)\n",
    "\n",
    "# Splitting the data\n",
    "(train_data, test_data) = df_scaled.randomSplit([0.8, 0.2])"
   ]
  },
  {
   "cell_type": "markdown",
   "id": "153f01c5",
   "metadata": {},
   "source": [
    "- building, training, and evaluating a Multilayer Perceptron (MLP) classifier using PySpark for a classification task"
   ]
  },
  {
   "cell_type": "code",
   "execution_count": null,
   "id": "3f4c4c33",
   "metadata": {},
   "outputs": [],
   "source": [
    "from pyspark.ml.classification import MultilayerPerceptronClassifier\n",
    "\n",
    "# Defining the network architecture: number of nodes in the input layer equals the number of features; adjust as necessary\n",
    "layers = [6, 5, 4, 3]  # Example: 6 input features, two hidden layers (5 and 4 neurons), 3 outputs\n",
    "\n",
    "mlp = MultilayerPerceptronClassifier(\n",
    "    layers=layers,\n",
    "    blockSize=128,\n",
    "    seed=1234,\n",
    "    maxIter=100,\n",
    "    featuresCol=\"scaledFeatures\",\n",
    "    labelCol=\"indexedLabel\")  # Adjust to use the 'indexedLabel' column\n",
    "\n",
    "# Training the model\n",
    "model = mlp.fit(train_data)\n",
    "\n",
    "# Model evaluation\n",
    "from pyspark.ml.evaluation import MulticlassClassificationEvaluator\n",
    "\n",
    "predictions = model.transform(test_data)\n",
    "evaluator = MulticlassClassificationEvaluator(labelCol=\"indexedLabel\", predictionCol=\"prediction\", metricName=\"accuracy\")\n",
    "\n",
    "accuracy = evaluator.evaluate(predictions)\n",
    "print(f\"Accuracy: {accuracy:.4f}\")"
   ]
  }
 ],
 "metadata": {
  "kernelspec": {
   "display_name": "Python 3 (ipykernel)",
   "language": "python",
   "name": "python3"
  },
  "language_info": {
   "codemirror_mode": {
    "name": "ipython",
    "version": 3
   },
   "file_extension": ".py",
   "mimetype": "text/x-python",
   "name": "python",
   "nbconvert_exporter": "python",
   "pygments_lexer": "ipython3",
   "version": "3.10.12"
  }
 },
 "nbformat": 4,
 "nbformat_minor": 5
}
