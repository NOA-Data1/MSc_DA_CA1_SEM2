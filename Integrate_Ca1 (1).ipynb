{
 "cells": [
  {
   "cell_type": "code",
   "execution_count": 1,
   "id": "2f1d6e62",
   "metadata": {},
   "outputs": [],
   "source": [
    "# Importar SparkSession da biblioteca PySpark\n",
    "from pyspark.sql import SparkSession\n",
    "\n",
    "# Inicializar a sessão Spark\n",
    "spark = SparkSession.builder.appName(\"SparkSQL\").getOrCreate()"
   ]
  },
  {
   "cell_type": "code",
   "execution_count": 2,
   "id": "918eea21",
   "metadata": {},
   "outputs": [
    {
     "name": "stderr",
     "output_type": "stream",
     "text": [
      "                                                                                \r"
     ]
    }
   ],
   "source": [
    "# Caminho para o arquivo CSV\n",
    "csv_file = \"/user/user1/Maternal_Health_Risk.csv\"\n",
    "\n",
    "# Carregar o arquivo CSV em um DataFrame Spark\n",
    "df = spark.read.format(\"csv\") \\\n",
    "             .option(\"inferSchema\", \"true\") \\\n",
    "             .option(\"header\", \"true\") \\\n",
    "             .load(csv_file)\n",
    "\n",
    "# Criar uma visualização temporária para o DataFrame\n",
    "df.createOrReplaceTempView(\"rawdata\")"
   ]
  },
  {
   "cell_type": "code",
   "execution_count": 3,
   "id": "7ba37167",
   "metadata": {},
   "outputs": [
    {
     "name": "stdout",
     "output_type": "stream",
     "text": [
      "root\n",
      " |-- Age: integer (nullable = true)\n",
      " |-- SystolicBP: integer (nullable = true)\n",
      " |-- DiastolicBP: integer (nullable = true)\n",
      " |-- BS: double (nullable = true)\n",
      " |-- BodyTemp: double (nullable = true)\n",
      " |-- HeartRate: integer (nullable = true)\n",
      " |-- RiskLevel: string (nullable = true)\n",
      "\n",
      "+---+----------+-----------+----+--------+---------+---------+\n",
      "|Age|SystolicBP|DiastolicBP|  BS|BodyTemp|HeartRate|RiskLevel|\n",
      "+---+----------+-----------+----+--------+---------+---------+\n",
      "| 25|       130|         80|15.0|    98.0|       86|high risk|\n",
      "| 35|       140|         90|13.0|    98.0|       70|high risk|\n",
      "| 29|        90|         70| 8.0|   100.0|       80|high risk|\n",
      "| 30|       140|         85| 7.0|    98.0|       70|high risk|\n",
      "| 35|       120|         60| 6.1|    98.0|       76| low risk|\n",
      "+---+----------+-----------+----+--------+---------+---------+\n",
      "only showing top 5 rows\n",
      "\n"
     ]
    }
   ],
   "source": [
    "# Visualizar o esquema inferido\n",
    "df.printSchema()\n",
    "\n",
    "# Exibir as primeiras linhas dos dados\n",
    "df.show(5)"
   ]
  },
  {
   "cell_type": "code",
   "execution_count": 6,
   "id": "fbf60404",
   "metadata": {},
   "outputs": [
    {
     "data": {
      "image/png": "[encoded data removed]",
      "text/plain": [
       "<Figure size 432x288 with 1 Axes>"
      ]
     },
     "metadata": {
      "needs_background": "light"
     },
     "output_type": "display_data"
    }
   ],
   "source": [
    "# Register the DataFrame as a SQL temporary view\n",
    "df.createOrReplaceTempView(\"health_data\")\n",
    "\n",
    "# Extract age data using Spark SQL\n",
    "age_data = spark.sql(\"SELECT Age FROM health_data\").rdd.flatMap(lambda x: x).collect()\n",
    "\n",
    "# Plot age distribution\n",
    "plt.hist(age_data, bins=20, color='skyblue', edgecolor='black')\n",
    "plt.title('Age Distribution')\n",
    "plt.xlabel('Age')\n",
    "plt.ylabel('Frequency')\n",
    "plt.grid(True)\n",
    "plt.show()"
   ]
  },
  {
   "cell_type": "code",
   "execution_count": 11,
   "id": "74f42630",
   "metadata": {},
   "outputs": [
    {
     "name": "stderr",
     "output_type": "stream",
     "text": [
      "[Stage 19:============================================>         (166 + 2) / 200]\r"
     ]
    },
    {
     "name": "stdout",
     "output_type": "stream",
     "text": [
      "+---+---------+\n",
      "|Age|Frequency|\n",
      "+---+---------+\n",
      "| 10|        4|\n",
      "| 12|       35|\n",
      "| 13|       12|\n",
      "| 14|        3|\n",
      "| 15|       60|\n",
      "| 16|       16|\n",
      "| 17|       63|\n",
      "| 18|       19|\n",
      "| 19|       67|\n",
      "| 20|       22|\n",
      "| 21|       38|\n",
      "| 22|       45|\n",
      "| 23|       71|\n",
      "| 24|        3|\n",
      "| 25|       48|\n",
      "| 26|        3|\n",
      "| 27|        9|\n",
      "| 28|       28|\n",
      "| 29|       40|\n",
      "| 30|       30|\n",
      "+---+---------+\n",
      "only showing top 20 rows\n",
      "\n"
     ]
    },
    {
     "name": "stderr",
     "output_type": "stream",
     "text": [
      "                                                                                \r"
     ]
    }
   ],
   "source": [
    "# Register the DataFrame as a SQL temporary view\n",
    "df.createOrReplaceTempView(\"health_data\")\n",
    "\n",
    "# Age Distribution Analysis\n",
    "age_distribution_query = \"\"\"\n",
    "    SELECT Age, COUNT(*) AS Frequency\n",
    "    FROM health_data\n",
    "    GROUP BY Age\n",
    "    ORDER BY Age\n",
    "\"\"\"\n",
    "\n",
    "age_distribution = spark.sql(age_distribution_query)\n",
    "\n",
    "# Display age distribution\n",
    "age_distribution.show()"
   ]
  },
  {
   "cell_type": "code",
   "execution_count": 12,
   "id": "c90ac465",
   "metadata": {},
   "outputs": [
    {
     "name": "stderr",
     "output_type": "stream",
     "text": [
      "[Stage 21:==========================================>           (157 + 2) / 200]\r"
     ]
    },
    {
     "name": "stdout",
     "output_type": "stream",
     "text": [
      "+---------+-------------------+-------------------+-------------------+\n",
      "|Age_Group|       Low_Risk_Avg|       Mid_Risk_Avg|      High_Risk_Avg|\n",
      "+---------+-------------------+-------------------+-------------------+\n",
      "|     0-20| 0.4983388704318937|0.37209302325581395|0.12956810631229235|\n",
      "|    21-30|0.43174603174603177| 0.3904761904761905|0.17777777777777778|\n",
      "|    31-40| 0.2677595628415301|0.23497267759562843| 0.4972677595628415|\n",
      "|    41-50|0.31666666666666665|              0.275| 0.4083333333333333|\n",
      "| Above 50| 0.3473684210526316| 0.2631578947368421| 0.3894736842105263|\n",
      "+---------+-------------------+-------------------+-------------------+\n",
      "\n"
     ]
    },
    {
     "name": "stderr",
     "output_type": "stream",
     "text": [
      "                                                                                \r"
     ]
    }
   ],
   "source": [
    "# Age-Risk Relationship Analysis\n",
    "age_risk_query = \"\"\"\n",
    "    SELECT\n",
    "        CASE WHEN Age <= 20 THEN '0-20'\n",
    "             WHEN Age BETWEEN 21 AND 30 THEN '21-30'\n",
    "             WHEN Age BETWEEN 31 AND 40 THEN '31-40'\n",
    "             WHEN Age BETWEEN 41 AND 50 THEN '41-50'\n",
    "             ELSE 'Above 50' END AS Age_Group,\n",
    "        AVG(CASE WHEN RiskLevel = 'low risk' THEN 1 ELSE 0 END) AS Low_Risk_Avg,\n",
    "        AVG(CASE WHEN RiskLevel = 'mid risk' THEN 1 ELSE 0 END) AS Mid_Risk_Avg,\n",
    "        AVG(CASE WHEN RiskLevel = 'high risk' THEN 1 ELSE 0 END) AS High_Risk_Avg\n",
    "    FROM health_data\n",
    "    GROUP BY Age_Group\n",
    "    ORDER BY Age_Group\n",
    "\"\"\"\n",
    "\n",
    "age_risk_relationship = spark.sql(age_risk_query)\n",
    "\n",
    "# Display Age-Risk Relationship\n",
    "age_risk_relationship.show()"
   ]
  },
  {
   "cell_type": "code",
   "execution_count": 15,
   "id": "48696a89",
   "metadata": {},
   "outputs": [
    {
     "name": "stderr",
     "output_type": "stream",
     "text": [
      "                                                                                \r"
     ]
    },
    {
     "name": "stdout",
     "output_type": "stream",
     "text": [
      "+------------+-------------------+------------------+------------------+\n",
      "| BP_Category|       Low_Risk_Avg|      Mid_Risk_Avg|     High_Risk_Avg|\n",
      "+------------+-------------------+------------------+------------------+\n",
      "|Stage 2 High|0.25660377358490566|               0.2|0.5433962264150943|\n",
      "|Stage 1 High|0.20161290322580644|0.5483870967741935|              0.25|\n",
      "|      Normal|             0.5008|             0.344|            0.1552|\n",
      "+------------+-------------------+------------------+------------------+\n",
      "\n"
     ]
    },
    {
     "name": "stderr",
     "output_type": "stream",
     "text": [
      "                                                                                \r"
     ]
    }
   ],
   "source": [
    "# Blood Pressure-Risk Relationship Analysis\n",
    "bp_risk_query = \"\"\"\n",
    "    SELECT \n",
    "        CASE\n",
    "            WHEN SystolicBP <= 120 AND DiastolicBP <= 80 THEN 'Normal'\n",
    "            WHEN SystolicBP > 120 AND SystolicBP <= 129 AND DiastolicBP <= 80 THEN 'Elevated'\n",
    "            WHEN SystolicBP >= 130 AND SystolicBP <= 139 OR DiastolicBP >= 80 AND DiastolicBP <= 89 THEN 'Stage 1 High'\n",
    "            WHEN SystolicBP >= 140 OR DiastolicBP >= 90 THEN 'Stage 2 High'\n",
    "            ELSE 'Other' \n",
    "        END AS BP_Category,\n",
    "        AVG(CASE WHEN RiskLevel = 'low risk' THEN 1 ELSE 0 END) AS Low_Risk_Avg,\n",
    "        AVG(CASE WHEN RiskLevel = 'mid risk' THEN 1 ELSE 0 END) AS Mid_Risk_Avg,\n",
    "        AVG(CASE WHEN RiskLevel = 'high risk' THEN 1 ELSE 0 END) AS High_Risk_Avg\n",
    "    FROM health_data\n",
    "    GROUP BY BP_Category\n",
    "\"\"\"\n",
    "\n",
    "bp_risk_relationship = spark.sql(bp_risk_query)\n",
    "\n",
    "# Display Blood Pressure-Risk Relationship\n",
    "bp_risk_relationship.show()\n"
   ]
  },
  {
   "cell_type": "markdown",
   "id": "0b2d8ef5",
   "metadata": {},
   "source": [
    "Esses resultados representam a proporção média de cada nível de risco (baixo, médio e alto) dentro de diferentes categorias de pressão arterial.\n",
    "\n",
    "BP_Category: Indica as categorias de pressão arterial, como \"Normal\", \"Elevated\", \"Stage 1 High\" e \"Stage 2 High\".\n",
    "Low_Risk_Avg: Representa a média da proporção de casos de baixo risco dentro de cada categoria de pressão arterial. Por exemplo, na categoria \"Normal\", a média de casos de baixo risco é de aproximadamente 50.08%.\n",
    "Mid_Risk_Avg: Representa a média da proporção de casos de risco moderado dentro de cada categoria de pressão arterial. Por exemplo, na categoria \"Stage 1 High\", a média de casos de risco moderado é de aproximadamente 54.84%.\n",
    "High_Risk_Avg: Representa a média da proporção de casos de alto risco dentro de cada categoria de pressão arterial. Por exemplo, na categoria \"Stage 2 High\", a média de casos de alto risco é de aproximadamente 54.34%.\n",
    "Esses resultados ajudam a entender como os diferentes níveis de pressão arterial estão relacionados aos diferentes níveis de risco de saúde. Por exemplo, parece haver uma tendência de aumento do risco à medida que a pressão arterial aumenta, o que é evidenciado pelas proporções mais altas de casos de alto risco nas categorias de pressão arterial mais elevada.\n",
    "\n"
   ]
  },
  {
   "cell_type": "code",
   "execution_count": 16,
   "id": "2fe9ba28",
   "metadata": {},
   "outputs": [
    {
     "name": "stderr",
     "output_type": "stream",
     "text": [
      "                                                                                \r"
     ]
    },
    {
     "data": {
      "image/png": "[encoded data removed]",
      "text/plain": [
       "<Figure size 720x432 with 1 Axes>"
      ]
     },
     "metadata": {
      "needs_background": "light"
     },
     "output_type": "display_data"
    }
   ],
   "source": [
    "import matplotlib.pyplot as plt\n",
    "\n",
    "# Convert the Spark DataFrame to a Pandas DataFrame\n",
    "bp_risk_relationship_pd = bp_risk_relationship.toPandas()\n",
    "\n",
    "# Create the bar chart\n",
    "plt.figure(figsize=(10, 6))\n",
    "\n",
    "# Plot the low-risk averages\n",
    "plt.bar(bp_risk_relationship_pd['BP_Category'], bp_risk_relationship_pd['Low_Risk_Avg'], color='green', label='Low Risk')\n",
    "\n",
    "# Plot the mid-risk averages\n",
    "plt.bar(bp_risk_relationship_pd['BP_Category'], bp_risk_relationship_pd['Mid_Risk_Avg'], color='yellow', label='Mid Risk', bottom=bp_risk_relationship_pd['Low_Risk_Avg'])\n",
    "\n",
    "# Plot the high-risk averages\n",
    "plt.bar(bp_risk_relationship_pd['BP_Category'], bp_risk_relationship_pd['High_Risk_Avg'], color='red', label='High Risk', bottom=bp_risk_relationship_pd['Low_Risk_Avg'] + bp_risk_relationship_pd['Mid_Risk_Avg'])\n",
    "\n",
    "# Add labels and legends\n",
    "plt.xlabel('Blood Pressure Category')\n",
    "plt.ylabel('Average Risk Level')\n",
    "plt.title('Blood Pressure - Risk Relationship')\n",
    "plt.legend()\n",
    "\n",
    "# Show the chart\n",
    "plt.xticks(rotation=45)\n",
    "plt.tight_layout()\n",
    "plt.show()"
   ]
  },
  {
   "cell_type": "code",
   "execution_count": 22,
   "id": "a0230b22",
   "metadata": {},
   "outputs": [],
   "source": [
    "# Convert Spark DataFrame to Pandas DataFrame\n",
    "pandas_df = df.toPandas()"
   ]
  },
  {
   "cell_type": "code",
   "execution_count": 25,
   "id": "584b8d17",
   "metadata": {},
   "outputs": [
    {
     "name": "stdout",
     "output_type": "stream",
     "text": [
      "   Age  SystolicBP  DiastolicBP    BS  BodyTemp  HeartRate  RiskLevel\n",
      "0   25         130           80  15.0      98.0         86  high risk\n",
      "1   35         140           90  13.0      98.0         70  high risk\n",
      "2   29          90           70   8.0     100.0         80  high risk\n",
      "3   30         140           85   7.0      98.0         70  high risk\n",
      "4   35         120           60   6.1      98.0         76   low risk\n"
     ]
    }
   ],
   "source": [
    "# Display the first few rows of the DataFrame\n",
    "print(pandas_df.head())"
   ]
  },
  {
   "cell_type": "code",
   "execution_count": 23,
   "id": "44516abf",
   "metadata": {},
   "outputs": [
    {
     "name": "stdout",
     "output_type": "stream",
     "text": [
      "Missing Values:\n",
      " Age            0\n",
      "SystolicBP     0\n",
      "DiastolicBP    0\n",
      "BS             0\n",
      "BodyTemp       0\n",
      "HeartRate      0\n",
      "RiskLevel      0\n",
      "dtype: int64\n"
     ]
    }
   ],
   "source": [
    "# Check for missing values\n",
    "missing_values = pandas_df.isnull().sum()\n",
    "print(\"Missing Values:\\n\", missing_values)\n"
   ]
  },
  {
   "cell_type": "code",
   "execution_count": 24,
   "id": "27ba1f34",
   "metadata": {},
   "outputs": [
    {
     "name": "stdout",
     "output_type": "stream",
     "text": [
      "\n",
      "DataFrame after transformations:\n",
      "    Age  SystolicBP  DiastolicBP    BS  BodyTemp  HeartRate  RiskLevel\n",
      "0   25         130           80  15.0      98.0         86  high risk\n",
      "1   35         140           90  13.0      98.0         70  high risk\n",
      "2   29          90           70   8.0     100.0         80  high risk\n",
      "3   30         140           85   7.0      98.0         70  high risk\n",
      "4   35         120           60   6.1      98.0         76   low risk\n"
     ]
    }
   ],
   "source": [
    "# Remove duplicate rows\n",
    "pandas_df.drop_duplicates(inplace=True)\n",
    "\n",
    "# Evaluate outliers or handle anomalous values\n",
    "# This may involve statistical calculations or visualizations to identify anomalous values\n",
    "\n",
    "# Display the first few rows of the DataFrame after transformations\n",
    "print(\"\\nDataFrame after transformations:\\n\", pandas_df.head())"
   ]
  },
  {
   "cell_type": "markdown",
   "id": "90025828",
   "metadata": {},
   "source": [
    "- Certo, aqui está um exemplo de como integrar pipelines, validação cruzada, redes neurais e regressão no seu projecto:"
   ]
  },
  {
   "cell_type": "code",
   "execution_count": 46,
   "id": "89208614",
   "metadata": {},
   "outputs": [
    {
     "name": "stderr",
     "output_type": "stream",
     "text": [
      "2024-04-05 10:07:24.825285: I external/local_tsl/tsl/cuda/cudart_stub.cc:32] Could not find cuda drivers on your machine, GPU will not be used.\n",
      "2024-04-05 10:07:26.515070: I external/local_tsl/tsl/cuda/cudart_stub.cc:32] Could not find cuda drivers on your machine, GPU will not be used.\n",
      "2024-04-05 10:07:32.043395: I tensorflow/core/platform/cpu_feature_guard.cc:210] This TensorFlow binary is optimized to use available CPU instructions in performance-critical operations.\n",
      "To enable the following instructions: AVX2, in other operations, rebuild TensorFlow with the appropriate compiler flags.\n",
      "2024-04-05 10:07:44.889115: W tensorflow/compiler/tf2tensorrt/utils/py_utils.cc:38] TF-TRT Warning: Could not find TensorRT\n"
     ]
    }
   ],
   "source": [
    "import pandas as pd\n",
    "import numpy as np\n",
    "from sklearn.preprocessing import StandardScaler\n",
    "from sklearn.model_selection import train_test_split\n",
    "from sklearn.metrics import accuracy_score, precision_score, recall_score, f1_score, confusion_matrix\n",
    "from tensorflow.keras.models import Sequential\n",
    "from tensorflow.keras.layers import Dense"
   ]
  },
  {
   "cell_type": "code",
   "execution_count": 48,
   "id": "238b7c80",
   "metadata": {},
   "outputs": [],
   "source": [
    "pandas_df.replace({' low risk': 0, 'mid risk': 1, 'high risk': 2}, inplace=True)\n",
    "pandas_df.drop_duplicates(inplace=True)"
   ]
  },
  {
   "cell_type": "code",
   "execution_count": 49,
   "id": "74a57ea2",
   "metadata": {},
   "outputs": [],
   "source": [
    "X = pandas_df[['Age', 'BodyTemp', 'HeartRate']].values\n",
    "y = pandas_df['RiskLevel'].values"
   ]
  },
  {
   "cell_type": "code",
   "execution_count": 50,
   "id": "eaccfd56",
   "metadata": {},
   "outputs": [],
   "source": [
    "scaler = StandardScaler()\n",
    "X_train, X_test, y_train, y_test = train_test_split(X, y, test_size=0.2, random_state=42)\n",
    "X_train_std = scaler.fit_transform(X_train)\n",
    "X_test_std = scaler.transform(X_test)"
   ]
  },
  {
   "cell_type": "code",
   "execution_count": 52,
   "id": "911432e3",
   "metadata": {},
   "outputs": [
    {
     "ename": "NameError",
     "evalue": "name 'tf' is not defined",
     "output_type": "error",
     "traceback": [
      "\u001b[0;31m---------------------------------------------------------------------------\u001b[0m",
      "\u001b[0;31mNameError\u001b[0m                                 Traceback (most recent call last)",
      "\u001b[0;32m/tmp/ipykernel_4484/2670039370.py\u001b[0m in \u001b[0;36m<module>\u001b[0;34m\u001b[0m\n\u001b[0;32m----> 1\u001b[0;31m ffnn = tf.keras.Sequential([\n\u001b[0m\u001b[1;32m      2\u001b[0m     \u001b[0mtf\u001b[0m\u001b[0;34m.\u001b[0m\u001b[0mkeras\u001b[0m\u001b[0;34m.\u001b[0m\u001b[0mlayers\u001b[0m\u001b[0;34m.\u001b[0m\u001b[0mInputLayer\u001b[0m\u001b[0;34m(\u001b[0m\u001b[0minput_shape\u001b[0m\u001b[0;34m=\u001b[0m\u001b[0;34m(\u001b[0m\u001b[0;36m3\u001b[0m\u001b[0;34m,\u001b[0m\u001b[0;34m)\u001b[0m\u001b[0;34m)\u001b[0m\u001b[0;34m,\u001b[0m\u001b[0;34m\u001b[0m\u001b[0;34m\u001b[0m\u001b[0m\n\u001b[1;32m      3\u001b[0m     \u001b[0mtf\u001b[0m\u001b[0;34m.\u001b[0m\u001b[0mkeras\u001b[0m\u001b[0;34m.\u001b[0m\u001b[0mlayers\u001b[0m\u001b[0;34m.\u001b[0m\u001b[0mDense\u001b[0m\u001b[0;34m(\u001b[0m\u001b[0;36m16\u001b[0m\u001b[0;34m,\u001b[0m \u001b[0mactivation\u001b[0m\u001b[0;34m=\u001b[0m\u001b[0;34m'relu'\u001b[0m\u001b[0;34m)\u001b[0m\u001b[0;34m,\u001b[0m\u001b[0;34m\u001b[0m\u001b[0;34m\u001b[0m\u001b[0m\n\u001b[1;32m      4\u001b[0m     \u001b[0mtf\u001b[0m\u001b[0;34m.\u001b[0m\u001b[0mkeras\u001b[0m\u001b[0;34m.\u001b[0m\u001b[0mlayers\u001b[0m\u001b[0;34m.\u001b[0m\u001b[0mDense\u001b[0m\u001b[0;34m(\u001b[0m\u001b[0;36m3\u001b[0m\u001b[0;34m,\u001b[0m \u001b[0mactivation\u001b[0m\u001b[0;34m=\u001b[0m\u001b[0;34m'softmax'\u001b[0m\u001b[0;34m)\u001b[0m\u001b[0;34m\u001b[0m\u001b[0;34m\u001b[0m\u001b[0m\n\u001b[1;32m      5\u001b[0m ])\n",
      "\u001b[0;31mNameError\u001b[0m: name 'tf' is not defined"
     ]
    }
   ],
   "source": [
    "ffnn = tf.keras.Sequential([\n",
    "    tf.keras.layers.InputLayer(input_shape=(3,)),\n",
    "    tf.keras.layers.Dense(16, activation='relu'),\n",
    "    tf.keras.layers.Dense(3, activation='softmax')\n",
    "])"
   ]
  },
  {
   "cell_type": "code",
   "execution_count": null,
   "id": "4096735e",
   "metadata": {},
   "outputs": [],
   "source": []
  },
  {
   "cell_type": "code",
   "execution_count": null,
   "id": "91f5f87c",
   "metadata": {},
   "outputs": [],
   "source": []
  },
  {
   "cell_type": "markdown",
   "id": "73e6d488",
   "metadata": {},
   "source": [
    "Define helper functions to calculate performance metrics"
   ]
  },
  {
   "cell_type": "code",
   "execution_count": 41,
   "id": "a2205ba6",
   "metadata": {},
   "outputs": [],
   "source": [
    "def evaluate_model(model, X_train, y_train, X_test, y_test):\n",
    "    model.fit(X_train, y_train)\n",
    "    y_pred = model.predict(X_test)\n",
    "\n",
    "    acc = accuracy_score(y_test, y_pred)\n",
    "    prec = precision_score(y_test, y_pred, average='binary')\n",
    "    rec = recall_score(y_test, y_pred, average='binary')\n",
    "    f1 = f1_score(y_test, y_pred, average='binary')\n",
    "    bal_acc = balanced_accuracy_score(y_test, y_pred)\n",
    "    matthew = matthews_corrcoef(y_test, y_pred)[0][1]\n",
    "\n",
    "    print(\"Performance Metrics: \\n\")\n",
    "    print(\"Accuracy: \", acc)\n",
    "    print(\"Precision: \", prec)\n",
    "    print(\"Recall: \", rec)\n",
    "    print(\"F1 Score: \", f1)\n",
    "    print(\"Balanced Accuracy: \", bal_acc)\n",
    "    print(\"Matthews correlation coefficient: \", matthew)"
   ]
  },
  {
   "cell_type": "markdown",
   "id": "b8fc83f2",
   "metadata": {},
   "source": [
    "Perform train-test splitting:"
   ]
  },
  {
   "cell_type": "code",
   "execution_count": 42,
   "id": "512c804d",
   "metadata": {},
   "outputs": [],
   "source": [
    "X = pandas_df[['Age', 'BodyTemp', 'HeartRate']].values\n",
    "y = pandas_df['RiskLevel'].apply(lambda x: 'low' if x==' low risk' else 'moderate' if x=='mid risk' else 'high').values\n",
    "\n",
    "X_train, X_test, y_train, y_test = train_test_split(X, y, test_size=0.2, random_state=42)"
   ]
  },
  {
   "cell_type": "markdown",
   "id": "5dc201a0",
   "metadata": {},
   "source": [
    "Apply Standardization:"
   ]
  },
  {
   "cell_type": "code",
   "execution_count": 43,
   "id": "b3b1e6d0",
   "metadata": {},
   "outputs": [],
   "source": [
    "scaler = StandardScaler()\n",
    "X_train_std = scaler.fit_transform(X_train)\n",
    "X_test_std = scaler.transform(X_test)"
   ]
  },
  {
   "cell_type": "markdown",
   "id": "c52b47cb",
   "metadata": {},
   "source": [
    "Build and train a single FeedForward Neural Network"
   ]
  },
  {
   "cell_type": "code",
   "execution_count": 45,
   "id": "2eb56f9b",
   "metadata": {},
   "outputs": [
    {
     "ename": "NameError",
     "evalue": "name 'y_pred' is not defined",
     "output_type": "error",
     "traceback": [
      "\u001b[0;31m---------------------------------------------------------------------------\u001b[0m",
      "\u001b[0;31mNameError\u001b[0m                                 Traceback (most recent call last)",
      "\u001b[0;32m/tmp/ipykernel_4484/3094427312.py\u001b[0m in \u001b[0;36m<module>\u001b[0;34m\u001b[0m\n\u001b[1;32m      1\u001b[0m \u001b[0mffnn\u001b[0m \u001b[0;34m=\u001b[0m \u001b[0mMLPClassifier\u001b[0m\u001b[0;34m(\u001b[0m\u001b[0mhidden_layer_sizes\u001b[0m\u001b[0;34m=\u001b[0m\u001b[0;34m(\u001b[0m\u001b[0;36m10\u001b[0m\u001b[0;34m,\u001b[0m\u001b[0;34m)\u001b[0m\u001b[0;34m,\u001b[0m \u001b[0mmax_iter\u001b[0m\u001b[0;34m=\u001b[0m\u001b[0;36m1000\u001b[0m\u001b[0;34m,\u001b[0m \u001b[0malpha\u001b[0m\u001b[0;34m=\u001b[0m\u001b[0;36m1e-4\u001b[0m\u001b[0;34m,\u001b[0m \u001b[0msolver\u001b[0m\u001b[0;34m=\u001b[0m\u001b[0;34m'adam'\u001b[0m\u001b[0;34m,\u001b[0m \u001b[0mverbose\u001b[0m\u001b[0;34m=\u001b[0m\u001b[0;36m0\u001b[0m\u001b[0;34m)\u001b[0m\u001b[0;34m\u001b[0m\u001b[0;34m\u001b[0m\u001b[0m\n\u001b[0;32m----> 2\u001b[0;31m \u001b[0mprec\u001b[0m \u001b[0;34m=\u001b[0m \u001b[0mprecision_score\u001b[0m\u001b[0;34m(\u001b[0m\u001b[0my_test\u001b[0m\u001b[0;34m,\u001b[0m \u001b[0my_pred\u001b[0m\u001b[0;34m,\u001b[0m \u001b[0maverage\u001b[0m\u001b[0;34m=\u001b[0m\u001b[0;34m'binary'\u001b[0m\u001b[0;34m,\u001b[0m \u001b[0mpos_label\u001b[0m\u001b[0;34m=\u001b[0m\u001b[0;34m'high'\u001b[0m\u001b[0;34m)\u001b[0m\u001b[0;34m\u001b[0m\u001b[0;34m\u001b[0m\u001b[0m\n\u001b[0m",
      "\u001b[0;31mNameError\u001b[0m: name 'y_pred' is not defined"
     ]
    }
   ],
   "source": [
    "ffnn = MLPClassifier(hidden_layer_sizes=(10,), max_iter=1000, alpha=1e-4, solver='adam', verbose=0)\n",
    "prec = precision_score(y_test, y_pred, average='binary', pos_label='high')"
   ]
  },
  {
   "cell_type": "markdown",
   "id": "9736ff9a",
   "metadata": {},
   "source": [
    "Build and train a Stacked Generalization Model"
   ]
  },
  {
   "cell_type": "code",
   "execution_count": null,
   "id": "fbcaceec",
   "metadata": {},
   "outputs": [],
   "source": []
  }
 ],
 "metadata": {
  "kernelspec": {
   "display_name": "Python 3 (ipykernel)",
   "language": "python",
   "name": "python3"
  },
  "language_info": {
   "codemirror_mode": {
    "name": "ipython",
    "version": 3
   },
   "file_extension": ".py",
   "mimetype": "text/x-python",
   "name": "python",
   "nbconvert_exporter": "python",
   "pygments_lexer": "ipython3",
   "version": "3.10.12"
  }
 },
 "nbformat": 4,
 "nbformat_minor": 5
}
