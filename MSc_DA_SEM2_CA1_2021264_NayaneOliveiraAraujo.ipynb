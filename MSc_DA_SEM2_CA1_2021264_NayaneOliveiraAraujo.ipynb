{
 "cells": [
  {
   "cell_type": "markdown",
   "id": "68b5d214",
   "metadata": {},
   "source": [
    "# Predictive modeling of the risk of eclampsia in pregnancy using neural network approaches"
   ]
  },
  {
   "cell_type": "markdown",
   "id": "557439d9",
   "metadata": {},
   "source": [
    "# 1. Research understanding phase\n",
    "\n",
    "- In this study, a comprehensive analysis of the risk of eclampsia during pregnancy was provided, with data collected by age, blood pressure, heart rate, blood sugar level and body temperature. \n",
    "- Data preparation, information extraction, modeling, training and data normalization were carried out to perform data classification. \n",
    "- The dataset was correctly loaded into Hadoop, being able to use the PySparkSQL, scikit-learn and TensorFlow, using SQL and Python coding language. \n",
    "- Recurrent Neural Network and Artificial Neural Network model was applied in order to compare the best model, hyperparameters, Learning Rate Adjustment, Fine-Tuning Network Architecture, Adjusting Batch Size, and Training Neural Networks with Callbacks.\n",
    "- To achieve an organized and clear understanding of the study schedule, the Cross Industry Standard Process for Data Mining (CRISP-DM) methodology was used, and the code cells were grouped according to the phases of the methodology."
   ]
  },
  {
   "cell_type": "markdown",
   "id": "5f467566",
   "metadata": {},
   "source": [
    "## Dataset: Maternal Health Risk\n",
    "\n",
    "### Licence of use\n",
    "\n",
    "- That dataset was collected from UCI Machine Learning Repository -https://archive.ics.uci.edu/dataset/863/maternal+health+risk\n",
    "\n",
    "- licence by Creative Commons Attribution 4.0 (CC BY 4.0) https://creativecommons.org/licenses/by/4.0/\n"
   ]
  },
  {
   "cell_type": "markdown",
   "id": "47b66311",
   "metadata": {},
   "source": [
    "## About the dataset\n",
    "\n",
    "- The Data has been collected from different hospitals, community clinics, maternal health cares from the rural areas of Bangladesh through the IoT based risk monitoring system.\n",
    "\n",
    "###  Attributes Description:\n",
    "\n",
    "- Age - Age in years when a woman is pregnant\n",
    "- SystolicBP - Upper value of Blood Pressure in mmHg\n",
    "- DiastolicBP - Lower value of Blood Pressure in mmHg\n",
    "- BS - Blood glucose levels is in terms of a molar concentration, mmol/L\n",
    "- BodyTemp - Body temperature in Fahrenheit\n",
    "- HeartRate - Resting heart rate in beats per minute\n",
    "- RiskLevel - Predicted Risk Intensity Level during pregnancy ['high risk', 'mid risk', 'low risk']"
   ]
  },
  {
   "cell_type": "code",
   "execution_count": 68,
   "id": "67ca7143",
   "metadata": {},
   "outputs": [
    {
     "data": {
      "text/html": [
       "\n",
       "        <div>\n",
       "            <p><b>SparkContext</b></p>\n",
       "\n",
       "            <p><a href=\"http://10.0.2.15:4041\">Spark UI</a></p>\n",
       "\n",
       "            <dl>\n",
       "              <dt>Version</dt>\n",
       "                <dd><code>v3.1.3</code></dd>\n",
       "              <dt>Master</dt>\n",
       "                <dd><code>local[*]</code></dd>\n",
       "              <dt>AppName</dt>\n",
       "                <dd><code>PySparkShell</code></dd>\n",
       "            </dl>\n",
       "        </div>\n",
       "        "
      ],
      "text/plain": [
       "<SparkContext master=local[*] appName=PySparkShell>"
      ]
     },
     "execution_count": 68,
     "metadata": {},
     "output_type": "execute_result"
    }
   ],
   "source": [
    "sc"
   ]
  },
  {
   "cell_type": "markdown",
   "id": "437af6e6",
   "metadata": {},
   "source": [
    "\n",
    "\n",
    "# 2. Data Understanding Phase"
   ]
  },
  {
   "cell_type": "markdown",
   "id": "2487ee3f",
   "metadata": {},
   "source": [
    "### Practical Big Data (PySparkSQL) - Part 1"
   ]
  },
  {
   "cell_type": "code",
   "execution_count": 69,
   "id": "5c999a6b",
   "metadata": {},
   "outputs": [],
   "source": [
    "# Load the libraries\n",
    "import os\n",
    "import numpy as np\n",
    "import pandas as pd\n",
    "from pyspark.sql.types import *\n",
    "from pyspark.ml import Pipeline\n",
    "from pyspark.sql import functions as f\n",
    "from pyspark.sql.functions import udf, StringType\n",
    "from pyspark.sql import SparkSession, functions as F\n",
    "from pyspark.ml.evaluation import MulticlassClassificationEvaluator\n",
    "from pyspark.ml.classification import MultilayerPerceptronClassifier\n",
    "from pyspark.ml.feature import OneHotEncoder, VectorAssembler, StringIndexer"
   ]
  },
  {
   "cell_type": "code",
   "execution_count": 70,
   "id": "2aa3384e",
   "metadata": {},
   "outputs": [],
   "source": [
    "# Due the different version of python can be found and each machine or libriries \n",
    "# Avoid warnigs\n",
    "import warnings\n",
    "warnings.filterwarnings(\"ignore\")"
   ]
  },
  {
   "cell_type": "code",
   "execution_count": 71,
   "id": "b332beca",
   "metadata": {},
   "outputs": [],
   "source": [
    "#Import PySparkSQL\n",
    "import pyspark\n",
    "from pyspark.sql import SparkSession\n",
    "\n",
    "# Create SparkSession\n",
    "spark = SparkSession.builder \\\n",
    "    .appName(\"health_data\") \\\n",
    "    .getOrCreate()"
   ]
  },
  {
   "cell_type": "code",
   "execution_count": 72,
   "id": "427c2f68",
   "metadata": {},
   "outputs": [],
   "source": [
    "# Path to dataset\n",
    "csv_file = \"/user1/Maternal_Health_Risk.csv\"\n",
    "\n",
    "# Read and create a temporary view\n",
    "df = spark.read.format(\"csv\") \\\n",
    "    .option(\"inferSchema\", \"true\") \\\n",
    "    .option(\"header\", \"true\") \\\n",
    "    .load(csv_file)\n",
    "df.createOrReplaceTempView(\"rawdata\")"
   ]
  },
  {
   "cell_type": "code",
   "execution_count": 73,
   "id": "7863afab",
   "metadata": {},
   "outputs": [
    {
     "name": "stdout",
     "output_type": "stream",
     "text": [
      "root\n",
      " |-- Age: integer (nullable = true)\n",
      " |-- SystolicBP: integer (nullable = true)\n",
      " |-- DiastolicBP: integer (nullable = true)\n",
      " |-- BS: double (nullable = true)\n",
      " |-- BodyTemp: double (nullable = true)\n",
      " |-- HeartRate: integer (nullable = true)\n",
      " |-- RiskLevel: string (nullable = true)\n",
      "\n"
     ]
    }
   ],
   "source": [
    "# Visualise inferred schema\n",
    "df.printSchema()"
   ]
  },
  {
   "cell_type": "code",
   "execution_count": 74,
   "id": "68d93114",
   "metadata": {},
   "outputs": [
    {
     "name": "stdout",
     "output_type": "stream",
     "text": [
      "+---+----------+-----------+----+--------+---------+---------+\n",
      "|Age|SystolicBP|DiastolicBP|  BS|BodyTemp|HeartRate|RiskLevel|\n",
      "+---+----------+-----------+----+--------+---------+---------+\n",
      "| 25|       130|         80|15.0|    98.0|       86|high risk|\n",
      "| 35|       140|         90|13.0|    98.0|       70|high risk|\n",
      "| 29|        90|         70| 8.0|   100.0|       80|high risk|\n",
      "| 30|       140|         85| 7.0|    98.0|       70|high risk|\n",
      "| 35|       120|         60| 6.1|    98.0|       76| low risk|\n",
      "| 23|       140|         80|7.01|    98.0|       70|high risk|\n",
      "| 23|       130|         70|7.01|    98.0|       78| mid risk|\n",
      "| 35|        85|         60|11.0|   102.0|       86|high risk|\n",
      "| 32|       120|         90| 6.9|    98.0|       70| mid risk|\n",
      "| 42|       130|         80|18.0|    98.0|       70|high risk|\n",
      "+---+----------+-----------+----+--------+---------+---------+\n",
      "\n"
     ]
    }
   ],
   "source": [
    "# Execute an SQL query to select the first 10 rows from the temporary view\n",
    "data = spark.sql(\"SELECT * FROM rawdata LIMIT 10\")\n",
    "\n",
    "# Directly display the query results\n",
    "data.show()"
   ]
  },
  {
   "cell_type": "code",
   "execution_count": 75,
   "id": "3c94ac11",
   "metadata": {},
   "outputs": [
    {
     "name": "stdout",
     "output_type": "stream",
     "text": [
      "+---------+\n",
      "|TotalRows|\n",
      "+---------+\n",
      "|     1014|\n",
      "+---------+\n",
      "\n",
      "Number of Columns: 7\n"
     ]
    }
   ],
   "source": [
    "# Count rows\n",
    "num_rows = spark.sql(\"SELECT COUNT(*) as TotalRows FROM rawdata\").show()\n",
    "\n",
    "# Count columns using the PySpark DataFrame (not directly SQL)\n",
    "num_columns = len(df.columns)\n",
    "print(f\"Number of Columns: {num_columns}\")"
   ]
  },
  {
   "cell_type": "markdown",
   "id": "42b46b0b",
   "metadata": {},
   "source": [
    "# 3. EDA and Visualization"
   ]
  },
  {
   "cell_type": "markdown",
   "id": "6989f4ee",
   "metadata": {},
   "source": [
    "### Missing values"
   ]
  },
  {
   "cell_type": "code",
   "execution_count": 76,
   "id": "a6e29e6d",
   "metadata": {},
   "outputs": [
    {
     "name": "stdout",
     "output_type": "stream",
     "text": [
      "+---+----------+-----------+---+--------+---------+---------+\n",
      "|Age|SystolicBP|DiastolicBP| BS|BodyTemp|HeartRate|RiskLevel|\n",
      "+---+----------+-----------+---+--------+---------+---------+\n",
      "|  0|         0|          0|  0|       0|        0|        0|\n",
      "+---+----------+-----------+---+--------+---------+---------+\n",
      "\n"
     ]
    }
   ],
   "source": [
    "from pyspark.sql.functions import col, sum as _sum, when\n",
    "\n",
    "# Listing the number of missing values per column\n",
    "df.select([_sum(when(col(c).isNull(), 1).otherwise(0)).alias(c) for c in df.columns]).show()"
   ]
  },
  {
   "cell_type": "code",
   "execution_count": 77,
   "id": "56e05145",
   "metadata": {},
   "outputs": [
    {
     "name": "stderr",
     "output_type": "stream",
     "text": [
      "                                                                                \r"
     ]
    },
    {
     "name": "stdout",
     "output_type": "stream",
     "text": [
      "   RiskLevel  Count\n",
      "0   low risk    406\n",
      "1   mid risk    336\n",
      "2  high risk    272\n"
     ]
    }
   ],
   "source": [
    "# Collecting data for visualization\n",
    "risk_level_distribution = spark.sql(\"SELECT RiskLevel, COUNT(*) as Count FROM rawdata GROUP BY RiskLevel\").toPandas()\n",
    "\n",
    "# Check the collected data\n",
    "print(risk_level_distribution)"
   ]
  },
  {
   "cell_type": "code",
   "execution_count": 78,
   "id": "eaf9bcba",
   "metadata": {},
   "outputs": [
    {
     "data": {
      "image/png": "[encoded data removed]",
      "text/plain": [
       "<Figure size 432x288 with 1 Axes>"
      ]
     },
     "metadata": {},
     "output_type": "display_data"
    }
   ],
   "source": [
    "# Register the DataFrame as a SQL temporary view\n",
    "df.createOrReplaceTempView(\"health_data\")\n",
    "\n",
    "# Extract age data using Spark SQL\n",
    "age_data = spark.sql(\"SELECT Age FROM health_data\").rdd.flatMap(lambda x: x).collect()\n",
    "\n",
    "# Plot age distribution\n",
    "plt.hist(age_data, bins=20, color='skyblue', edgecolor='black')\n",
    "plt.title('Age Distribution')\n",
    "plt.xlabel('Age')\n",
    "plt.ylabel('Frequency')\n",
    "plt.grid(True)\n",
    "plt.show()"
   ]
  },
  {
   "cell_type": "code",
   "execution_count": 79,
   "id": "ab1dcf65",
   "metadata": {},
   "outputs": [
    {
     "name": "stderr",
     "output_type": "stream",
     "text": [
      "[Stage 1183:============================================>       (173 + 2) / 200]\r"
     ]
    },
    {
     "name": "stdout",
     "output_type": "stream",
     "text": [
      "+---+---------+\n",
      "|Age|Frequency|\n",
      "+---+---------+\n",
      "| 10|        4|\n",
      "| 12|       35|\n",
      "| 13|       12|\n",
      "| 14|        3|\n",
      "| 15|       60|\n",
      "| 16|       16|\n",
      "| 17|       63|\n",
      "| 18|       19|\n",
      "| 19|       67|\n",
      "| 20|       22|\n",
      "| 21|       38|\n",
      "| 22|       45|\n",
      "| 23|       71|\n",
      "| 24|        3|\n",
      "| 25|       48|\n",
      "| 26|        3|\n",
      "| 27|        9|\n",
      "| 28|       28|\n",
      "| 29|       40|\n",
      "| 30|       30|\n",
      "+---+---------+\n",
      "only showing top 20 rows\n",
      "\n"
     ]
    },
    {
     "name": "stderr",
     "output_type": "stream",
     "text": [
      "\r",
      "                                                                                \r"
     ]
    }
   ],
   "source": [
    "# Register the DataFrame as a SQL temporary view\n",
    "df.createOrReplaceTempView(\"health_data\")\n",
    "\n",
    "# Age Distribution Analysis\n",
    "age_distribution_query = \"\"\"\n",
    "    SELECT Age, COUNT(*) AS Frequency\n",
    "    FROM health_data\n",
    "    GROUP BY Age\n",
    "    ORDER BY Age\n",
    "\"\"\"\n",
    "\n",
    "age_distribution = spark.sql(age_distribution_query)\n",
    "\n",
    "# Display age distribution\n",
    "age_distribution.show()"
   ]
  },
  {
   "cell_type": "code",
   "execution_count": 80,
   "id": "6ed8d84b",
   "metadata": {},
   "outputs": [
    {
     "name": "stderr",
     "output_type": "stream",
     "text": [
      "[Stage 1185:========================================>           (156 + 2) / 200]\r"
     ]
    },
    {
     "name": "stdout",
     "output_type": "stream",
     "text": [
      "+---------+-------------------+-------------------+-------------------+\n",
      "|Age_Group|       Low_Risk_Avg|       Mid_Risk_Avg|      High_Risk_Avg|\n",
      "+---------+-------------------+-------------------+-------------------+\n",
      "|     0-20| 0.4983388704318937|0.37209302325581395|0.12956810631229235|\n",
      "|    21-30|0.43174603174603177| 0.3904761904761905|0.17777777777777778|\n",
      "|    31-40| 0.2677595628415301|0.23497267759562843| 0.4972677595628415|\n",
      "|    41-50|0.31666666666666665|              0.275| 0.4083333333333333|\n",
      "| Above 50| 0.3473684210526316| 0.2631578947368421| 0.3894736842105263|\n",
      "+---------+-------------------+-------------------+-------------------+\n",
      "\n"
     ]
    },
    {
     "name": "stderr",
     "output_type": "stream",
     "text": [
      "\r",
      "[Stage 1185:===============================================>    (181 + 2) / 200]\r",
      "\r",
      "                                                                                \r"
     ]
    }
   ],
   "source": [
    "# Age-Risk Relationship Analysis\n",
    "age_risk_query = \"\"\"\n",
    "    SELECT\n",
    "        CASE WHEN Age <= 20 THEN '0-20'\n",
    "             WHEN Age BETWEEN 21 AND 30 THEN '21-30'\n",
    "             WHEN Age BETWEEN 31 AND 40 THEN '31-40'\n",
    "             WHEN Age BETWEEN 41 AND 50 THEN '41-50'\n",
    "             ELSE 'Above 50' END AS Age_Group,\n",
    "        AVG(CASE WHEN RiskLevel = 'low risk' THEN 1 ELSE 0 END) AS Low_Risk_Avg,\n",
    "        AVG(CASE WHEN RiskLevel = 'mid risk' THEN 1 ELSE 0 END) AS Mid_Risk_Avg,\n",
    "        AVG(CASE WHEN RiskLevel = 'high risk' THEN 1 ELSE 0 END) AS High_Risk_Avg\n",
    "    FROM health_data\n",
    "    GROUP BY Age_Group\n",
    "    ORDER BY Age_Group\n",
    "\"\"\"\n",
    "\n",
    "age_risk_relationship = spark.sql(age_risk_query)\n",
    "\n",
    "# Display Age-Risk Relationship\n",
    "age_risk_relationship.show()"
   ]
  },
  {
   "cell_type": "code",
   "execution_count": 81,
   "id": "78fc56d3",
   "metadata": {},
   "outputs": [
    {
     "name": "stderr",
     "output_type": "stream",
     "text": [
      "\r",
      "[Stage 1193:=============================================>       (85 + 2) / 100]\r",
      "\r",
      "                                                                                \r"
     ]
    },
    {
     "name": "stdout",
     "output_type": "stream",
     "text": [
      "+------------+-------------------+------------------+------------------+\n",
      "| BP_Category|       Low_Risk_Avg|      Mid_Risk_Avg|     High_Risk_Avg|\n",
      "+------------+-------------------+------------------+------------------+\n",
      "|Stage 2 High|0.25660377358490566|               0.2|0.5433962264150943|\n",
      "|Stage 1 High|0.20161290322580644|0.5483870967741935|              0.25|\n",
      "|      Normal|             0.5008|             0.344|            0.1552|\n",
      "+------------+-------------------+------------------+------------------+\n",
      "\n"
     ]
    },
    {
     "name": "stderr",
     "output_type": "stream",
     "text": [
      "\r",
      "[Stage 1195:=====================================================>(74 + 1) / 75]\r",
      "\r",
      "                                                                                \r"
     ]
    }
   ],
   "source": [
    "# Blood Pressure-Risk Relationship Analysis\n",
    "bp_risk_query = \"\"\"\n",
    "    SELECT \n",
    "        CASE\n",
    "            WHEN SystolicBP <= 120 AND DiastolicBP <= 80 THEN 'Normal'\n",
    "            WHEN SystolicBP > 120 AND SystolicBP <= 129 AND DiastolicBP <= 80 THEN 'Elevated'\n",
    "            WHEN SystolicBP >= 130 AND SystolicBP <= 139 OR DiastolicBP >= 80 AND DiastolicBP <= 89 THEN 'Stage 1 High'\n",
    "            WHEN SystolicBP >= 140 OR DiastolicBP >= 90 THEN 'Stage 2 High'\n",
    "            ELSE 'Other' \n",
    "        END AS BP_Category,\n",
    "        AVG(CASE WHEN RiskLevel = 'low risk' THEN 1 ELSE 0 END) AS Low_Risk_Avg,\n",
    "        AVG(CASE WHEN RiskLevel = 'mid risk' THEN 1 ELSE 0 END) AS Mid_Risk_Avg,\n",
    "        AVG(CASE WHEN RiskLevel = 'high risk' THEN 1 ELSE 0 END) AS High_Risk_Avg\n",
    "    FROM health_data\n",
    "    GROUP BY BP_Category\n",
    "\"\"\"\n",
    "\n",
    "bp_risk_relationship = spark.sql(bp_risk_query)\n",
    "\n",
    "# Display Blood Pressure-Risk Relationship\n",
    "bp_risk_relationship.show()"
   ]
  },
  {
   "cell_type": "code",
   "execution_count": 82,
   "id": "4c35e6e3",
   "metadata": {},
   "outputs": [
    {
     "data": {
      "image/png": "[encoded data removed]",
      "text/plain": [
       "<Figure size 720x432 with 1 Axes>"
      ]
     },
     "metadata": {},
     "output_type": "display_data"
    }
   ],
   "source": [
    "import matplotlib.pyplot as plt\n",
    "\n",
    "# Plotting the distribution of Risk Levels with counts above bars\n",
    "plt.figure(figsize=(10, 6))\n",
    "bars = plt.bar(risk_level_distribution['RiskLevel'], risk_level_distribution['Count'], color=['skyblue', 'lightgreen', 'salmon'])\n",
    "\n",
    "# Adding counts above bars\n",
    "for bar in bars:\n",
    "    yval = bar.get_height()\n",
    "    plt.text(bar.get_x() + bar.get_width()/2, yval + 0.5, yval, ha='center', va='bottom')\n",
    "\n",
    "plt.title('Distribution of Risk Levels')\n",
    "plt.xlabel('Risk Level')\n",
    "plt.ylabel('Count')\n",
    "plt.xticks(rotation=45)\n",
    "plt.show()"
   ]
  },
  {
   "cell_type": "markdown",
   "id": "b9f0cb65",
   "metadata": {},
   "source": [
    "### Comparative bar chart for average Systolic and Diastolic blood pressure, by Risk Level level."
   ]
  },
  {
   "cell_type": "code",
   "execution_count": 83,
   "id": "96436cb1",
   "metadata": {},
   "outputs": [
    {
     "name": "stderr",
     "output_type": "stream",
     "text": [
      "                                                                                \r"
     ]
    }
   ],
   "source": [
    "# Determining the associations between the average systolic and diastolic blood pressures (SystolicBP and DiastolicBP, respectively) and the RiskLevel.\n",
    "pressure_risk = spark.sql(\"\"\"\n",
    "SELECT \n",
    "    RiskLevel, \n",
    "    AVG(SystolicBP) AS AvgSystolicBP, \n",
    "    AVG(DiastolicBP) AS AvgDiastolicBP \n",
    "FROM rawdata \n",
    "GROUP BY RiskLevel\n",
    "\"\"\").toPandas()"
   ]
  },
  {
   "cell_type": "markdown",
   "id": "477e4fd2",
   "metadata": {},
   "source": [
    "- The purpose of the query is to evaluate the data with an emphasis on determining the associations between the average systolic and diastolic blood pressures SystolicBP and DiastolicBP, respectively and the RiskLevel."
   ]
  },
  {
   "cell_type": "code",
   "execution_count": 84,
   "id": "abd1b141",
   "metadata": {},
   "outputs": [
    {
     "data": {
      "image/png": "[encoded data removed]",
      "text/plain": [
       "<Figure size 432x288 with 1 Axes>"
      ]
     },
     "metadata": {},
     "output_type": "display_data"
    }
   ],
   "source": [
    "import matplotlib.pyplot as plt\n",
    "import numpy as np\n",
    "\n",
    "# Bar width\n",
    "barWidth = 0.50\n",
    "\n",
    "# Setting the position of the bars\n",
    "r1 = np.arange(len(pressure_risk['RiskLevel']))\n",
    "r2 = [x + barWidth for x in r1]\n",
    "\n",
    "# Creating the bars\n",
    "plt.bar(r1, pressure_risk['AvgSystolicBP'], color='blue', width=barWidth, edgecolor='grey', label='Systolic')\n",
    "plt.bar(r2, pressure_risk['AvgDiastolicBP'], color='red', width=barWidth, edgecolor='grey', label='Diastolic')\n",
    "\n",
    "# Adding labels to the bars\n",
    "plt.xlabel('Risk Level', fontweight='bold')\n",
    "plt.xticks([r + barWidth for r in range(len(pressure_risk['RiskLevel']))], pressure_risk['RiskLevel'])\n",
    "\n",
    "# Creating the legend and showing the plot\n",
    "plt.legend()\n",
    "plt.show()"
   ]
  },
  {
   "cell_type": "markdown",
   "id": "cbdd18a8",
   "metadata": {},
   "source": [
    "### Average Age by Risk Level chart"
   ]
  },
  {
   "cell_type": "code",
   "execution_count": 85,
   "id": "ed0f1e82",
   "metadata": {},
   "outputs": [
    {
     "name": "stderr",
     "output_type": "stream",
     "text": [
      "                                                                                \r"
     ]
    }
   ],
   "source": [
    "age_risk = spark.sql(\"\"\"\n",
    "SELECT \n",
    "    RiskLevel, \n",
    "    AVG(Age) AS AvgAge \n",
    "FROM rawdata \n",
    "GROUP BY RiskLevel\n",
    "ORDER BY CASE \n",
    "    WHEN RiskLevel = 'low risk' THEN 1\n",
    "    WHEN RiskLevel = 'mid risk' THEN 2\n",
    "    WHEN RiskLevel = 'high risk' THEN 3\n",
    "    ELSE 4\n",
    "END\n",
    "\"\"\").toPandas()"
   ]
  },
  {
   "cell_type": "markdown",
   "id": "f7ebf5f0",
   "metadata": {},
   "source": [
    "- By analyzing how the average age varies between different risk levels, through this analysis it is possible to identify age-related patterns or trends that may be relevant to understanding risk."
   ]
  },
  {
   "cell_type": "code",
   "execution_count": 86,
   "id": "5a278412",
   "metadata": {},
   "outputs": [
    {
     "data": {
      "image/png": "[encoded data removed]",
      "text/plain": [
       "<Figure size 576x432 with 1 Axes>"
      ]
     },
     "metadata": {},
     "output_type": "display_data"
    }
   ],
   "source": [
    "import matplotlib.pyplot as plt\n",
    "\n",
    "# Adjusting color_mapping to match the exact strings from the SQL query\n",
    "color_mapping = {\n",
    "    'high risk': 'red',    # Matching 'high risk' to red\n",
    "    'mid risk': 'yellow',  # Matching 'mid risk' to yellow\n",
    "    'low risk': 'green'    # Matching 'low risk' to green\n",
    "}\n",
    "\n",
    "# Applying the color mapping to generate a list of colors for each bar\n",
    "# This assumes age_risk['RiskLevel'] contains 'low risk', 'mid risk', 'high risk'\n",
    "bar_colors = [color_mapping[risk_level] for risk_level in age_risk['RiskLevel']]\n",
    "\n",
    "plt.figure(figsize=(8, 6))\n",
    "plt.bar(age_risk['RiskLevel'], age_risk['AvgAge'], color=bar_colors)\n",
    "\n",
    "# Adding titles and labels\n",
    "plt.title('Average Age by Risk Level')\n",
    "plt.xlabel('Risk Level')\n",
    "plt.ylabel('Average Age')\n",
    "plt.xticks(rotation=45)  # Rotating X-axis labels for better readability\n",
    "\n",
    "# Displaying the chart\n",
    "plt.show()"
   ]
  },
  {
   "cell_type": "markdown",
   "id": "3101cbac",
   "metadata": {},
   "source": [
    "- This chart provides a clear visualization of how the average age varies between different risk levels. This can help identify whether there is an age trend associated with risk level."
   ]
  },
  {
   "cell_type": "markdown",
   "id": "6d20e354",
   "metadata": {},
   "source": [
    "# 4. Modeling Phase for Neural Network (RNN AND ANN)"
   ]
  },
  {
   "cell_type": "markdown",
   "id": "690d055e",
   "metadata": {},
   "source": [
    "##  RNN Neural Network "
   ]
  },
  {
   "cell_type": "code",
   "execution_count": 87,
   "id": "4bf10003",
   "metadata": {},
   "outputs": [
    {
     "name": "stdout",
     "output_type": "stream",
     "text": [
      "+---+----------+-----------+----+--------+---------+---------+\n",
      "|Age|SystolicBP|DiastolicBP|  BS|BodyTemp|HeartRate|RiskLevel|\n",
      "+---+----------+-----------+----+--------+---------+---------+\n",
      "| 25|       130|         80|15.0|    98.0|       86|high risk|\n",
      "| 35|       140|         90|13.0|    98.0|       70|high risk|\n",
      "| 29|        90|         70| 8.0|   100.0|       80|high risk|\n",
      "| 30|       140|         85| 7.0|    98.0|       70|high risk|\n",
      "| 35|       120|         60| 6.1|    98.0|       76| low risk|\n",
      "+---+----------+-----------+----+--------+---------+---------+\n",
      "only showing top 5 rows\n",
      "\n",
      "root\n",
      " |-- Age: integer (nullable = true)\n",
      " |-- SystolicBP: integer (nullable = true)\n",
      " |-- DiastolicBP: integer (nullable = true)\n",
      " |-- BS: double (nullable = true)\n",
      " |-- BodyTemp: double (nullable = true)\n",
      " |-- HeartRate: integer (nullable = true)\n",
      " |-- RiskLevel: string (nullable = true)\n",
      "\n"
     ]
    }
   ],
   "source": [
    "from pyspark.sql import SparkSession\n",
    "\n",
    "# Initializing Spark session\n",
    "spark = SparkSession.builder \\\n",
    "    .appName(\"Maternal Health Risk Analysis\") \\\n",
    "    .getOrCreate()\n",
    "\n",
    "# Loading data from the corrected CSV file\n",
    "csv_file_path = \"/user1/Maternal_Health_Risk.csv\"\n",
    "data = spark.read.csv(csv_file_path, header=True, inferSchema=True)\n",
    "\n",
    "# Displaying the first few rows and the structure of the data\n",
    "data.show(5)\n",
    "data.printSchema()"
   ]
  },
  {
   "cell_type": "code",
   "execution_count": 88,
   "id": "c3a6296d",
   "metadata": {},
   "outputs": [
    {
     "name": "stdout",
     "output_type": "stream",
     "text": [
      "+---+----------+-----------+----+--------+---------+---------+-----+--------------------+--------------------+\n",
      "|Age|SystolicBP|DiastolicBP|  BS|BodyTemp|HeartRate|RiskLevel|label|            features|       features_norm|\n",
      "+---+----------+-----------+----+--------+---------+---------+-----+--------------------+--------------------+\n",
      "| 25|       130|         80|15.0|    98.0|       86|high risk|  2.0|[25.0,130.0,80.0,...|[0.12324096461179...|\n",
      "| 35|       140|         90|13.0|    98.0|       70|high risk|  2.0|[35.0,140.0,90.0,...|[0.16762344453220...|\n",
      "| 29|        90|         70| 8.0|   100.0|       80|high risk|  2.0|[29.0,90.0,70.0,8...|[0.16658690276323...|\n",
      "| 30|       140|         85| 7.0|    98.0|       70|high risk|  2.0|[30.0,140.0,85.0,...|[0.14590293809487...|\n",
      "| 35|       120|         60| 6.1|    98.0|       76| low risk|  0.0|[35.0,120.0,60.0,...|[0.18804649773233...|\n",
      "+---+----------+-----------+----+--------+---------+---------+-----+--------------------+--------------------+\n",
      "only showing top 5 rows\n",
      "\n"
     ]
    }
   ],
   "source": [
    "from pyspark.ml.feature import StringIndexer, VectorAssembler, Normalizer\n",
    "from pyspark.ml import Pipeline\n",
    "\n",
    "# Encoding the 'RiskLevel' label into a numerical representation\n",
    "indexer = StringIndexer(inputCol=\"RiskLevel\", outputCol=\"label\")\n",
    "\n",
    "# Assembling all the features into a single vector column\n",
    "assembler = VectorAssembler(inputCols=[\"Age\", \"SystolicBP\", \"DiastolicBP\", \"BS\", \"BodyTemp\", \"HeartRate\"], outputCol=\"features\")\n",
    "\n",
    "# Normalizing the features\n",
    "normalizer = Normalizer(inputCol=\"features\", outputCol=\"features_norm\")\n",
    "\n",
    "# Building the pipeline\n",
    "pipeline = Pipeline(stages=[indexer, assembler, normalizer])\n",
    "\n",
    "# Applying the pipeline to the data\n",
    "data_transformed = pipeline.fit(data).transform(data)\n",
    "\n",
    "# Now the data is ready to be used with an RNN model.\n",
    "data_transformed.show(5)"
   ]
  },
  {
   "cell_type": "markdown",
   "id": "11bcaab6",
   "metadata": {},
   "source": [
    "## Defining the architecture to RNN"
   ]
  },
  {
   "cell_type": "code",
   "execution_count": 89,
   "id": "617253be",
   "metadata": {},
   "outputs": [
    {
     "name": "stderr",
     "output_type": "stream",
     "text": [
      "\r",
      "[Stage 1209:>                                                       (0 + 1) / 1]\r",
      "\r",
      "                                                                                \r"
     ]
    },
    {
     "name": "stdout",
     "output_type": "stream",
     "text": [
      "Accuracy: 0.5927021696252466\n"
     ]
    }
   ],
   "source": [
    "from pyspark.ml.classification import MultilayerPerceptronClassifier\n",
    "from pyspark.ml.evaluation import MulticlassClassificationEvaluator\n",
    "\n",
    "# The input layer has the size of the normalized features column,\n",
    "# Two hidden layers with 5 and 4 neurons, respectively,\n",
    "# And an output layer with 3 neurons (assuming there are 3 risk classes).\n",
    "layers = [6, 5, 4, 3]  # Modify as needed\n",
    "\n",
    "# Creating the classifier\n",
    "mlp = MultilayerPerceptronClassifier(layers=layers, blockSize=128, seed=1234, maxIter=100, featuresCol=\"features_norm\", labelCol=\"label\")\n",
    "\n",
    "# Training the model\n",
    "model = mlp.fit(data_transformed)\n",
    "\n",
    "# Making predictions\n",
    "predictions = model.transform(data_transformed)\n",
    "\n",
    "# Evaluating the model\n",
    "evaluator = MulticlassClassificationEvaluator(metricName=\"accuracy\")\n",
    "accuracy = evaluator.evaluate(predictions)\n",
    "print(f\"Accuracy: {accuracy}\")"
   ]
  },
  {
   "cell_type": "markdown",
   "id": "29e04617",
   "metadata": {},
   "source": [
    "## Hyperparameter Tuning"
   ]
  },
  {
   "cell_type": "code",
   "execution_count": 90,
   "id": "17223c45",
   "metadata": {},
   "outputs": [
    {
     "name": "stderr",
     "output_type": "stream",
     "text": [
      "\r",
      "[Stage 1359:>                                                       (0 + 0) / 1]\r",
      "\r",
      "                                                                                \r"
     ]
    },
    {
     "name": "stdout",
     "output_type": "stream",
     "text": [
      "Layers: [6, 5, 4, 3] -> Accuracy: 0.5927021696252466\n",
      "Layers: [6, 10, 5, 3] -> Accuracy: 0.6045364891518737\n",
      "Layers: [6, 20, 10, 5, 3] -> Accuracy: 0.5857988165680473\n",
      "Best Model Layers: [6, 10, 5, 3] with Accuracy: 0.6045364891518737\n"
     ]
    }
   ],
   "source": [
    "from pyspark.ml.classification import MultilayerPerceptronClassifier\n",
    "from pyspark.ml.evaluation import MulticlassClassificationEvaluator\n",
    "\n",
    "# Define a list of architectures to test\n",
    "# Each element of the list is a layer configuration for the model\n",
    "# Example: [4, 5, 4, 3] -> input layer with 4 neurons, two hidden layers with 5 and 4 neurons, and output layer with 3 neurons\n",
    "layer_configs = [\n",
    "    [6, 5, 4, 3],\n",
    "    [6, 10, 5, 3],\n",
    "    [6, 20, 10, 5, 3]\n",
    "]\n",
    "\n",
    "# Initialize the evaluator\n",
    "evaluator = MulticlassClassificationEvaluator(metricName=\"accuracy\")\n",
    "\n",
    "best_model = None\n",
    "best_accuracy = 0\n",
    "best_layers = None\n",
    "\n",
    "for layers in layer_configs:\n",
    "    mlp = MultilayerPerceptronClassifier(layers=layers, blockSize=128, seed=1234, maxIter=100, featuresCol=\"features_norm\", labelCol=\"label\")\n",
    "    model = mlp.fit(data_transformed)\n",
    "    predictions = model.transform(data_transformed)\n",
    "    accuracy = evaluator.evaluate(predictions)\n",
    "    print(f\"Layers: {layers} -> Accuracy: {accuracy}\")\n",
    "    \n",
    "    if accuracy > best_accuracy:\n",
    "        best_accuracy = accuracy\n",
    "        best_model = model\n",
    "        best_layers = layers\n",
    "\n",
    "print(f\"Best Model Layers: {best_layers} with Accuracy: {best_accuracy}\")"
   ]
  },
  {
   "cell_type": "code",
   "execution_count": 91,
   "id": "bdecee0c",
   "metadata": {},
   "outputs": [
    {
     "data": {
      "image/png": "[encoded data removed]",
      "text/plain": [
       "<Figure size 720x504 with 2 Axes>"
      ]
     },
     "metadata": {},
     "output_type": "display_data"
    }
   ],
   "source": [
    "import matplotlib.pyplot as plt\n",
    "from sklearn.metrics import confusion_matrix\n",
    "import seaborn as sns; sns.set()  # For better visualization of the confusion matrix\n",
    "\n",
    "# Assuming 'predictions' is your Spark DataFrame with the model predictions\n",
    "# and that this DataFrame has a 'prediction' column with the predictions and 'label' with the true labels.\n",
    "y_true = predictions.select(\"label\").collect()\n",
    "y_pred = predictions.select(\"prediction\").collect()\n",
    "\n",
    "# Generating the confusion matrix\n",
    "cm = confusion_matrix(y_true, y_pred)\n",
    "\n",
    "# Plotting the confusion matrix\n",
    "plt.figure(figsize=(10,7))\n",
    "sns.heatmap(cm, annot=True, fmt=\"d\")\n",
    "plt.xlabel('Predicted')\n",
    "plt.ylabel('True')\n",
    "plt.show()"
   ]
  },
  {
   "cell_type": "code",
   "execution_count": 92,
   "id": "37a0da84",
   "metadata": {},
   "outputs": [
    {
     "name": "stdout",
     "output_type": "stream",
     "text": [
      "              precision    recall  f1-score   support\n",
      "\n",
      "         0.0       0.53      0.87      0.65       406\n",
      "         1.0       0.48      0.17      0.25       336\n",
      "         2.0       0.83      0.68      0.74       272\n",
      "\n",
      "    accuracy                           0.59      1014\n",
      "   macro avg       0.61      0.57      0.55      1014\n",
      "weighted avg       0.59      0.59      0.55      1014\n",
      "\n"
     ]
    }
   ],
   "source": [
    "from sklearn.metrics import classification_report\n",
    "\n",
    "# Calculating precision, recall, and F1-score\n",
    "print(classification_report(y_true, y_pred))"
   ]
  },
  {
   "cell_type": "markdown",
   "id": "97a912c9",
   "metadata": {},
   "source": [
    "- The model performs best in classifying class 2.0 but struggles particularly with class 1.0, especially in terms of recall. The overall accuracy of 59% and the disparities in performance across classes suggest there may be room for improvement, possibly through techniques such as rebalancing the dataset"
   ]
  },
  {
   "cell_type": "markdown",
   "id": "e7b87a20",
   "metadata": {},
   "source": [
    "# ANN Model"
   ]
  },
  {
   "cell_type": "code",
   "execution_count": 93,
   "id": "c833a374",
   "metadata": {},
   "outputs": [
    {
     "name": "stdout",
     "output_type": "stream",
     "text": [
      "Epoch 1/50\n",
      "\u001b[1m21/21\u001b[0m \u001b[32m━━━━━━━━━━━━━━━━━━━━\u001b[0m\u001b[37m\u001b[0m \u001b[1m6s\u001b[0m 32ms/step - accuracy: 0.3197 - loss: 1.1462 - val_accuracy: 0.3006 - val_loss: 1.1379\n",
      "Epoch 2/50\n",
      "\u001b[1m21/21\u001b[0m \u001b[32m━━━━━━━━━━━━━━━━━━━━\u001b[0m\u001b[37m\u001b[0m \u001b[1m0s\u001b[0m 13ms/step - accuracy: 0.3439 - loss: 1.1048 - val_accuracy: 0.2883 - val_loss: 1.1141\n",
      "Epoch 3/50\n",
      "\u001b[1m21/21\u001b[0m \u001b[32m━━━━━━━━━━━━━━━━━━━━\u001b[0m\u001b[37m\u001b[0m \u001b[1m1s\u001b[0m 7ms/step - accuracy: 0.3977 - loss: 1.0865 - val_accuracy: 0.3497 - val_loss: 1.0967\n",
      "Epoch 4/50\n",
      "\u001b[1m21/21\u001b[0m \u001b[32m━━━━━━━━━━━━━━━━━━━━\u001b[0m\u001b[37m\u001b[0m \u001b[1m0s\u001b[0m 12ms/step - accuracy: 0.4530 - loss: 1.0722 - val_accuracy: 0.3926 - val_loss: 1.0788\n",
      "Epoch 5/50\n",
      "\u001b[1m21/21\u001b[0m \u001b[32m━━━━━━━━━━━━━━━━━━━━\u001b[0m\u001b[37m\u001b[0m \u001b[1m1s\u001b[0m 10ms/step - accuracy: 0.4781 - loss: 1.0555 - val_accuracy: 0.3988 - val_loss: 1.0647\n",
      "Epoch 6/50\n",
      "\u001b[1m21/21\u001b[0m \u001b[32m━━━━━━━━━━━━━━━━━━━━\u001b[0m\u001b[37m\u001b[0m \u001b[1m0s\u001b[0m 12ms/step - accuracy: 0.4983 - loss: 1.0380 - val_accuracy: 0.3988 - val_loss: 1.0503\n",
      "Epoch 7/50\n",
      "\u001b[1m21/21\u001b[0m \u001b[32m━━━━━━━━━━━━━━━━━━━━\u001b[0m\u001b[37m\u001b[0m \u001b[1m1s\u001b[0m 16ms/step - accuracy: 0.5427 - loss: 0.9855 - val_accuracy: 0.4356 - val_loss: 1.0359\n",
      "Epoch 8/50\n",
      "\u001b[1m21/21\u001b[0m \u001b[32m━━━━━━━━━━━━━━━━━━━━\u001b[0m\u001b[37m\u001b[0m \u001b[1m1s\u001b[0m 17ms/step - accuracy: 0.5943 - loss: 0.9760 - val_accuracy: 0.4479 - val_loss: 1.0218\n",
      "Epoch 9/50\n",
      "\u001b[1m21/21\u001b[0m \u001b[32m━━━━━━━━━━━━━━━━━━━━\u001b[0m\u001b[37m\u001b[0m \u001b[1m0s\u001b[0m 10ms/step - accuracy: 0.5441 - loss: 0.9943 - val_accuracy: 0.4540 - val_loss: 1.0056\n",
      "Epoch 10/50\n",
      "\u001b[1m21/21\u001b[0m \u001b[32m━━━━━━━━━━━━━━━━━━━━\u001b[0m\u001b[37m\u001b[0m \u001b[1m0s\u001b[0m 13ms/step - accuracy: 0.5795 - loss: 0.9506 - val_accuracy: 0.4540 - val_loss: 0.9943\n",
      "Epoch 11/50\n",
      "\u001b[1m21/21\u001b[0m \u001b[32m━━━━━━━━━━━━━━━━━━━━\u001b[0m\u001b[37m\u001b[0m \u001b[1m1s\u001b[0m 10ms/step - accuracy: 0.5811 - loss: 0.9534 - val_accuracy: 0.4540 - val_loss: 0.9828\n",
      "Epoch 12/50\n",
      "\u001b[1m21/21\u001b[0m \u001b[32m━━━━━━━━━━━━━━━━━━━━\u001b[0m\u001b[37m\u001b[0m \u001b[1m0s\u001b[0m 11ms/step - accuracy: 0.5993 - loss: 0.9259 - val_accuracy: 0.4663 - val_loss: 0.9726\n",
      "Epoch 13/50\n",
      "\u001b[1m21/21\u001b[0m \u001b[32m━━━━━━━━━━━━━━━━━━━━\u001b[0m\u001b[37m\u001b[0m \u001b[1m0s\u001b[0m 10ms/step - accuracy: 0.5808 - loss: 0.9145 - val_accuracy: 0.4785 - val_loss: 0.9599\n",
      "Epoch 14/50\n",
      "\u001b[1m21/21\u001b[0m \u001b[32m━━━━━━━━━━━━━━━━━━━━\u001b[0m\u001b[37m\u001b[0m \u001b[1m0s\u001b[0m 11ms/step - accuracy: 0.5853 - loss: 0.9114 - val_accuracy: 0.4785 - val_loss: 0.9518\n",
      "Epoch 15/50\n",
      "\u001b[1m21/21\u001b[0m \u001b[32m━━━━━━━━━━━━━━━━━━━━\u001b[0m\u001b[37m\u001b[0m \u001b[1m0s\u001b[0m 13ms/step - accuracy: 0.5822 - loss: 0.9086 - val_accuracy: 0.4847 - val_loss: 0.9410\n",
      "Epoch 16/50\n",
      "\u001b[1m21/21\u001b[0m \u001b[32m━━━━━━━━━━━━━━━━━━━━\u001b[0m\u001b[37m\u001b[0m \u001b[1m1s\u001b[0m 12ms/step - accuracy: 0.6078 - loss: 0.8738 - val_accuracy: 0.5276 - val_loss: 0.9292\n",
      "Epoch 17/50\n",
      "\u001b[1m21/21\u001b[0m \u001b[32m━━━━━━━━━━━━━━━━━━━━\u001b[0m\u001b[37m\u001b[0m \u001b[1m1s\u001b[0m 12ms/step - accuracy: 0.6141 - loss: 0.8773 - val_accuracy: 0.5031 - val_loss: 0.9223\n",
      "Epoch 18/50\n",
      "\u001b[1m21/21\u001b[0m \u001b[32m━━━━━━━━━━━━━━━━━━━━\u001b[0m\u001b[37m\u001b[0m \u001b[1m0s\u001b[0m 13ms/step - accuracy: 0.6055 - loss: 0.8674 - val_accuracy: 0.5337 - val_loss: 0.9121\n",
      "Epoch 19/50\n",
      "\u001b[1m21/21\u001b[0m \u001b[32m━━━━━━━━━━━━━━━━━━━━\u001b[0m\u001b[37m\u001b[0m \u001b[1m1s\u001b[0m 16ms/step - accuracy: 0.6212 - loss: 0.8436 - val_accuracy: 0.5767 - val_loss: 0.9014\n",
      "Epoch 20/50\n",
      "\u001b[1m21/21\u001b[0m \u001b[32m━━━━━━━━━━━━━━━━━━━━\u001b[0m\u001b[37m\u001b[0m \u001b[1m0s\u001b[0m 11ms/step - accuracy: 0.6237 - loss: 0.8484 - val_accuracy: 0.5828 - val_loss: 0.8919\n",
      "Epoch 21/50\n",
      "\u001b[1m21/21\u001b[0m \u001b[32m━━━━━━━━━━━━━━━━━━━━\u001b[0m\u001b[37m\u001b[0m \u001b[1m0s\u001b[0m 13ms/step - accuracy: 0.6430 - loss: 0.8307 - val_accuracy: 0.5890 - val_loss: 0.8828\n",
      "Epoch 22/50\n",
      "\u001b[1m21/21\u001b[0m \u001b[32m━━━━━━━━━━━━━━━━━━━━\u001b[0m\u001b[37m\u001b[0m \u001b[1m1s\u001b[0m 9ms/step - accuracy: 0.6550 - loss: 0.8339 - val_accuracy: 0.5890 - val_loss: 0.8732\n",
      "Epoch 23/50\n",
      "\u001b[1m21/21\u001b[0m \u001b[32m━━━━━━━━━━━━━━━━━━━━\u001b[0m\u001b[37m\u001b[0m \u001b[1m0s\u001b[0m 11ms/step - accuracy: 0.6569 - loss: 0.8130 - val_accuracy: 0.5890 - val_loss: 0.8683\n",
      "Epoch 24/50\n",
      "\u001b[1m21/21\u001b[0m \u001b[32m━━━━━━━━━━━━━━━━━━━━\u001b[0m\u001b[37m\u001b[0m \u001b[1m1s\u001b[0m 14ms/step - accuracy: 0.6624 - loss: 0.8125 - val_accuracy: 0.5890 - val_loss: 0.8596\n",
      "Epoch 25/50\n",
      "\u001b[1m21/21\u001b[0m \u001b[32m━━━━━━━━━━━━━━━━━━━━\u001b[0m\u001b[37m\u001b[0m \u001b[1m1s\u001b[0m 11ms/step - accuracy: 0.6497 - loss: 0.8056 - val_accuracy: 0.5951 - val_loss: 0.8520\n",
      "Epoch 26/50\n",
      "\u001b[1m21/21\u001b[0m \u001b[32m━━━━━━━━━━━━━━━━━━━━\u001b[0m\u001b[37m\u001b[0m \u001b[1m0s\u001b[0m 9ms/step - accuracy: 0.6729 - loss: 0.7738 - val_accuracy: 0.5951 - val_loss: 0.8472\n",
      "Epoch 27/50\n",
      "\u001b[1m21/21\u001b[0m \u001b[32m━━━━━━━━━━━━━━━━━━━━\u001b[0m\u001b[37m\u001b[0m \u001b[1m0s\u001b[0m 10ms/step - accuracy: 0.6531 - loss: 0.7972 - val_accuracy: 0.5951 - val_loss: 0.8422\n",
      "Epoch 28/50\n",
      "\u001b[1m21/21\u001b[0m \u001b[32m━━━━━━━━━━━━━━━━━━━━\u001b[0m\u001b[37m\u001b[0m \u001b[1m0s\u001b[0m 12ms/step - accuracy: 0.6752 - loss: 0.7767 - val_accuracy: 0.5951 - val_loss: 0.8363\n",
      "Epoch 29/50\n",
      "\u001b[1m21/21\u001b[0m \u001b[32m━━━━━━━━━━━━━━━━━━━━\u001b[0m\u001b[37m\u001b[0m \u001b[1m0s\u001b[0m 11ms/step - accuracy: 0.6227 - loss: 0.8081 - val_accuracy: 0.5828 - val_loss: 0.8307\n",
      "Epoch 30/50\n",
      "\u001b[1m21/21\u001b[0m \u001b[32m━━━━━━━━━━━━━━━━━━━━\u001b[0m\u001b[37m\u001b[0m \u001b[1m0s\u001b[0m 13ms/step - accuracy: 0.6518 - loss: 0.7609 - val_accuracy: 0.6012 - val_loss: 0.8219\n",
      "Epoch 31/50\n",
      "\u001b[1m21/21\u001b[0m \u001b[32m━━━━━━━━━━━━━━━━━━━━\u001b[0m\u001b[37m\u001b[0m \u001b[1m1s\u001b[0m 16ms/step - accuracy: 0.6727 - loss: 0.7478 - val_accuracy: 0.6135 - val_loss: 0.8171\n",
      "Epoch 32/50\n",
      "\u001b[1m21/21\u001b[0m \u001b[32m━━━━━━━━━━━━━━━━━━━━\u001b[0m\u001b[37m\u001b[0m \u001b[1m0s\u001b[0m 13ms/step - accuracy: 0.6668 - loss: 0.7566 - val_accuracy: 0.6135 - val_loss: 0.8157\n",
      "Epoch 33/50\n",
      "\u001b[1m21/21\u001b[0m \u001b[32m━━━━━━━━━━━━━━━━━━━━\u001b[0m\u001b[37m\u001b[0m \u001b[1m1s\u001b[0m 15ms/step - accuracy: 0.6589 - loss: 0.7832 - val_accuracy: 0.6258 - val_loss: 0.8085\n",
      "Epoch 34/50\n",
      "\u001b[1m21/21\u001b[0m \u001b[32m━━━━━━━━━━━━━━━━━━━━\u001b[0m\u001b[37m\u001b[0m \u001b[1m0s\u001b[0m 11ms/step - accuracy: 0.7079 - loss: 0.7331 - val_accuracy: 0.6258 - val_loss: 0.8009\n",
      "Epoch 35/50\n",
      "\u001b[1m21/21\u001b[0m \u001b[32m━━━━━━━━━━━━━━━━━━━━\u001b[0m\u001b[37m\u001b[0m \u001b[1m0s\u001b[0m 9ms/step - accuracy: 0.7366 - loss: 0.7270 - val_accuracy: 0.6258 - val_loss: 0.7968\n",
      "Epoch 36/50\n",
      "\u001b[1m21/21\u001b[0m \u001b[32m━━━━━━━━━━━━━━━━━━━━\u001b[0m\u001b[37m\u001b[0m \u001b[1m0s\u001b[0m 16ms/step - accuracy: 0.6933 - loss: 0.7320 - val_accuracy: 0.6012 - val_loss: 0.7894\n",
      "Epoch 37/50\n",
      "\u001b[1m21/21\u001b[0m \u001b[32m━━━━━━━━━━━━━━━━━━━━\u001b[0m\u001b[37m\u001b[0m \u001b[1m0s\u001b[0m 10ms/step - accuracy: 0.6598 - loss: 0.7679 - val_accuracy: 0.6135 - val_loss: 0.7866\n",
      "Epoch 38/50\n",
      "\u001b[1m21/21\u001b[0m \u001b[32m━━━━━━━━━━━━━━━━━━━━\u001b[0m\u001b[37m\u001b[0m \u001b[1m0s\u001b[0m 8ms/step - accuracy: 0.6884 - loss: 0.7108 - val_accuracy: 0.6135 - val_loss: 0.7825\n",
      "Epoch 39/50\n",
      "\u001b[1m21/21\u001b[0m \u001b[32m━━━━━━━━━━━━━━━━━━━━\u001b[0m\u001b[37m\u001b[0m \u001b[1m0s\u001b[0m 13ms/step - accuracy: 0.6630 - loss: 0.7530 - val_accuracy: 0.6135 - val_loss: 0.7797\n",
      "Epoch 40/50\n",
      "\u001b[1m21/21\u001b[0m \u001b[32m━━━━━━━━━━━━━━━━━━━━\u001b[0m\u001b[37m\u001b[0m \u001b[1m1s\u001b[0m 16ms/step - accuracy: 0.6659 - loss: 0.7212 - val_accuracy: 0.6196 - val_loss: 0.7757\n",
      "Epoch 41/50\n",
      "\u001b[1m21/21\u001b[0m \u001b[32m━━━━━━━━━━━━━━━━━━━━\u001b[0m\u001b[37m\u001b[0m \u001b[1m1s\u001b[0m 12ms/step - accuracy: 0.6940 - loss: 0.6869 - val_accuracy: 0.6196 - val_loss: 0.7767\n",
      "Epoch 42/50\n",
      "\u001b[1m21/21\u001b[0m \u001b[32m━━━━━━━━━━━━━━━━━━━━\u001b[0m\u001b[37m\u001b[0m \u001b[1m1s\u001b[0m 12ms/step - accuracy: 0.7146 - loss: 0.6748 - val_accuracy: 0.6258 - val_loss: 0.7697\n",
      "Epoch 43/50\n",
      "\u001b[1m21/21\u001b[0m \u001b[32m━━━━━━━━━━━━━━━━━━━━\u001b[0m\u001b[37m\u001b[0m \u001b[1m0s\u001b[0m 12ms/step - accuracy: 0.6701 - loss: 0.7021 - val_accuracy: 0.6135 - val_loss: 0.7681\n",
      "Epoch 44/50\n",
      "\u001b[1m21/21\u001b[0m \u001b[32m━━━━━━━━━━━━━━━━━━━━\u001b[0m\u001b[37m\u001b[0m \u001b[1m1s\u001b[0m 12ms/step - accuracy: 0.6756 - loss: 0.7097 - val_accuracy: 0.6196 - val_loss: 0.7650\n",
      "Epoch 45/50\n",
      "\u001b[1m21/21\u001b[0m \u001b[32m━━━━━━━━━━━━━━━━━━━━\u001b[0m\u001b[37m\u001b[0m \u001b[1m1s\u001b[0m 13ms/step - accuracy: 0.6919 - loss: 0.6886 - val_accuracy: 0.6196 - val_loss: 0.7632\n",
      "Epoch 46/50\n",
      "\u001b[1m21/21\u001b[0m \u001b[32m━━━━━━━━━━━━━━━━━━━━\u001b[0m\u001b[37m\u001b[0m \u001b[1m1s\u001b[0m 14ms/step - accuracy: 0.6901 - loss: 0.6908 - val_accuracy: 0.6196 - val_loss: 0.7579\n",
      "Epoch 47/50\n",
      "\u001b[1m21/21\u001b[0m \u001b[32m━━━━━━━━━━━━━━━━━━━━\u001b[0m\u001b[37m\u001b[0m \u001b[1m1s\u001b[0m 14ms/step - accuracy: 0.6459 - loss: 0.7198 - val_accuracy: 0.6196 - val_loss: 0.7551\n",
      "Epoch 48/50\n",
      "\u001b[1m21/21\u001b[0m \u001b[32m━━━━━━━━━━━━━━━━━━━━\u001b[0m\u001b[37m\u001b[0m \u001b[1m0s\u001b[0m 13ms/step - accuracy: 0.6663 - loss: 0.6843 - val_accuracy: 0.6196 - val_loss: 0.7530\n",
      "Epoch 49/50\n",
      "\u001b[1m21/21\u001b[0m \u001b[32m━━━━━━━━━━━━━━━━━━━━\u001b[0m\u001b[37m\u001b[0m \u001b[1m1s\u001b[0m 9ms/step - accuracy: 0.6746 - loss: 0.6955 - val_accuracy: 0.6196 - val_loss: 0.7515\n",
      "Epoch 50/50\n",
      "\u001b[1m21/21\u001b[0m \u001b[32m━━━━━━━━━━━━━━━━━━━━\u001b[0m\u001b[37m\u001b[0m \u001b[1m0s\u001b[0m 13ms/step - accuracy: 0.6984 - loss: 0.6584 - val_accuracy: 0.6135 - val_loss: 0.7481\n",
      "7/7 - 0s - 25ms/step - accuracy: 0.6502 - loss: 0.7346\n",
      "\n",
      "Test accuracy: 0.6502463221549988\n"
     ]
    }
   ],
   "source": [
    "import tensorflow as tf\n",
    "from sklearn.model_selection import train_test_split\n",
    "from sklearn.preprocessing import StandardScaler\n",
    "import numpy as np\n",
    "\n",
    "# Preparing the data\n",
    "# Let's convert Spark DataFrame to pandas DataFrame for this example.\n",
    "# Note that this may not be efficient for large datasets.\n",
    "pandas_df = data_transformed.toPandas()\n",
    "\n",
    "# Separating features and labels\n",
    "X = pandas_df[['Age', 'SystolicBP', 'DiastolicBP', 'BS', 'BodyTemp', 'HeartRate']]  # Adjust according to your features\n",
    "y = pandas_df['label']  # Adjust according to your label column\n",
    "\n",
    "# Splitting the data into training and testing sets\n",
    "X_train, X_test, y_train, y_test = train_test_split(X, y, test_size=0.2, random_state=42)\n",
    "\n",
    "# Normalizing the features\n",
    "scaler = StandardScaler()\n",
    "X_train = scaler.fit_transform(X_train)\n",
    "X_test = scaler.transform(X_test)\n",
    "\n",
    "# Converting labels to categorical representation\n",
    "y_train = tf.keras.utils.to_categorical(y_train, num_classes=3)\n",
    "y_test = tf.keras.utils.to_categorical(y_test, num_classes=3)\n",
    "\n",
    "# Building the model\n",
    "model = tf.keras.models.Sequential([\n",
    "  tf.keras.layers.Dense(10, activation='relu', input_shape=(X_train.shape[1],)),\n",
    "  tf.keras.layers.Dense(5, activation='relu'),\n",
    "  tf.keras.layers.Dense(3, activation='softmax')\n",
    "])\n",
    "\n",
    "model.compile(optimizer='adam',\n",
    "              loss='categorical_crossentropy',\n",
    "              metrics=['accuracy'])\n",
    "\n",
    "# Training the model\n",
    "epochs = 50  # Setting the number of epochs\n",
    "history = model.fit(X_train, y_train, epochs=epochs, validation_split=0.2)\n",
    "\n",
    "# Evaluating the model\n",
    "test_loss, test_acc = model.evaluate(X_test, y_test, verbose=2)\n",
    "print(f'\\nTest accuracy: {test_acc}')"
   ]
  },
  {
   "cell_type": "markdown",
   "id": "50771043",
   "metadata": {},
   "source": [
    "## Prediction Model working with Scikit-learn "
   ]
  },
  {
   "cell_type": "code",
   "execution_count": 96,
   "id": "78a3d831",
   "metadata": {},
   "outputs": [
    {
     "name": "stdout",
     "output_type": "stream",
     "text": [
      "\u001b[1m7/7\u001b[0m \u001b[32m━━━━━━━━━━━━━━━━━━━━\u001b[0m\u001b[37m\u001b[0m \u001b[1m0s\u001b[0m 4ms/step \n",
      "              precision    recall  f1-score     support\n",
      "0              0.605042  0.900000  0.723618   80.000000\n",
      "1              0.656250  0.276316  0.388889   76.000000\n",
      "2              0.750000  0.829787  0.787879   47.000000\n",
      "accuracy       0.650246  0.650246  0.650246    0.650246\n",
      "macro avg      0.670431  0.668701  0.633462  203.000000\n",
      "weighted avg   0.657775  0.650246  0.613179  203.000000\n"
     ]
    }
   ],
   "source": [
    "import numpy as np\n",
    "import pandas as pd\n",
    "from sklearn import metrics\n",
    "from tensorflow.keras.models import Sequential\n",
    "from tensorflow.keras.layers import Dense\n",
    "from sklearn.preprocessing import StandardScaler\n",
    "from sklearn.model_selection import train_test_split\n",
    "from sklearn.metrics import classification_report\n",
    "import tensorflow as tf\n",
    "\n",
    "# Uing the model described to make predictions:\n",
    "\n",
    "# Making predictions\n",
    "yhat_probs = model.predict(X_test)\n",
    "\n",
    "# Converting probabilities to class labels\n",
    "yhat_classes = np.argmax(yhat_probs, axis=1)\n",
    "\n",
    "# Converting y_test from one-hot encoding to class labels if necessary\n",
    "y_test_classes = np.argmax(y_test, axis=1)\n",
    "\n",
    "# Generating the classification report\n",
    "report = metrics.classification_report(y_test_classes, yhat_classes, output_dict=True)\n",
    "\n",
    "# Converting the report to a pandas DataFrame\n",
    "report_df = pd.DataFrame(report).transpose()\n",
    "\n",
    "print(report_df)"
   ]
  },
  {
   "cell_type": "code",
   "execution_count": 97,
   "id": "666829e9",
   "metadata": {},
   "outputs": [
    {
     "data": {
      "image/png": "[encoded data removed]",
      "text/plain": [
       "<Figure size 720x432 with 1 Axes>"
      ]
     },
     "metadata": {},
     "output_type": "display_data"
    }
   ],
   "source": [
    "import matplotlib.pyplot as plt\n",
    "\n",
    "# Extracting precision, recall, and F1-score from the classification report\n",
    "precision = report_df['precision'][:-3]\n",
    "recall = report_df['recall'][:-3]\n",
    "f1_score = report_df['f1-score'][:-3]\n",
    "classes = precision.index.tolist()\n",
    "\n",
    "# Plotting precision, recall, and F1-score for each class\n",
    "plt.figure(figsize=(10, 6))\n",
    "plt.plot(classes, precision, marker='o', label='Precision')\n",
    "plt.plot(classes, recall, marker='s', label='Recall')\n",
    "plt.plot(classes, f1_score, marker='^', label='F1-score')\n",
    "plt.title('Classification Metrics by Class')\n",
    "plt.xlabel('Class')\n",
    "plt.ylabel('Score')\n",
    "plt.legend()\n",
    "plt.grid(True)\n",
    "plt.xticks(classes)\n",
    "plt.tight_layout()\n",
    "plt.show()"
   ]
  },
  {
   "cell_type": "markdown",
   "id": "197a547e",
   "metadata": {},
   "source": [
    "## Learning Rate Adjustment"
   ]
  },
  {
   "cell_type": "code",
   "execution_count": 98,
   "id": "68641ac1",
   "metadata": {},
   "outputs": [
    {
     "name": "stdout",
     "output_type": "stream",
     "text": [
      "Training model with learning rate: 0.001\n",
      "Validation Accuracy: 0.558282196521759\n",
      "Training model with learning rate: 0.01\n",
      "Validation Accuracy: 0.6564416885375977\n",
      "Training model with learning rate: 0.1\n",
      "Validation Accuracy: 0.6687116622924805\n"
     ]
    }
   ],
   "source": [
    "learning_rates = [0.001, 0.01, 0.1]\n",
    "\n",
    "for lr in learning_rates:\n",
    "    model = tf.keras.models.Sequential([\n",
    "      tf.keras.layers.Dense(10, activation='relu', input_shape=(X_train.shape[1],)),\n",
    "      tf.keras.layers.Dense(5, activation='relu'),\n",
    "      tf.keras.layers.Dense(3, activation='softmax')\n",
    "    ])\n",
    "    \n",
    "    optimizer = tf.keras.optimizers.Adam(learning_rate=lr)\n",
    "    model.compile(optimizer=optimizer,\n",
    "                  loss='categorical_crossentropy',\n",
    "                  metrics=['accuracy'])\n",
    "    \n",
    "    print(f'Training model with learning rate: {lr}')\n",
    "    history = model.fit(X_train, y_train, epochs=10, validation_split=0.2, verbose=0)\n",
    "    val_acc = history.history['val_accuracy'][-1]\n",
    "    print(f'Validation Accuracy: {val_acc}')"
   ]
  },
  {
   "cell_type": "markdown",
   "id": "f246703e",
   "metadata": {},
   "source": [
    "## Exploring Optimizers"
   ]
  },
  {
   "cell_type": "code",
   "execution_count": 99,
   "id": "69d13cb9",
   "metadata": {},
   "outputs": [
    {
     "name": "stdout",
     "output_type": "stream",
     "text": [
      "Training model with optimizer: adam\n",
      "Validation Accuracy: 0.3987730145454407\n",
      "Training model with optimizer: sgd\n",
      "Validation Accuracy: 0.4969325065612793\n",
      "Training model with optimizer: rmsprop\n",
      "Validation Accuracy: 0.47852760553359985\n"
     ]
    }
   ],
   "source": [
    "optimizers = ['adam', 'sgd', 'rmsprop']\n",
    "\n",
    "for opt_name in optimizers:\n",
    "    model = tf.keras.models.Sequential([\n",
    "      tf.keras.layers.Dense(10, activation='relu', input_shape=(X_train.shape[1],)),\n",
    "      tf.keras.layers.Dense(5, activation='relu'),\n",
    "      tf.keras.layers.Dense(3, activation='softmax')\n",
    "    ])\n",
    "    \n",
    "    optimizer = tf.keras.optimizers.get(opt_name)\n",
    "    model.compile(optimizer=optimizer,\n",
    "                  loss='categorical_crossentropy',\n",
    "                  metrics=['accuracy'])\n",
    "    \n",
    "    print(f'Training model with optimizer: {opt_name}')\n",
    "    history = model.fit(X_train, y_train, epochs=10, validation_split=0.2, verbose=0)\n",
    "    val_acc = history.history['val_accuracy'][-1]\n",
    "    print(f'Validation Accuracy: {val_acc}')"
   ]
  },
  {
   "cell_type": "markdown",
   "id": "80d06474",
   "metadata": {},
   "source": [
    "## Adjusting Batch Size"
   ]
  },
  {
   "cell_type": "code",
   "execution_count": 100,
   "id": "b995a0e7",
   "metadata": {},
   "outputs": [
    {
     "name": "stdout",
     "output_type": "stream",
     "text": [
      "Training model with batch size: 16\n",
      "Validation Accuracy: 0.5398772954940796\n",
      "Training model with batch size: 32\n",
      "Validation Accuracy: 0.558282196521759\n",
      "Training model with batch size: 64\n",
      "Validation Accuracy: 0.4907975494861603\n"
     ]
    }
   ],
   "source": [
    "batch_sizes = [16, 32, 64]\n",
    "\n",
    "for batch_size in batch_sizes:\n",
    "    model = tf.keras.models.Sequential([\n",
    "      tf.keras.layers.Dense(10, activation='relu', input_shape=(X_train.shape[1],)),\n",
    "      tf.keras.layers.Dense(5, activation='relu'),\n",
    "      tf.keras.layers.Dense(3, activation='softmax')\n",
    "    ])\n",
    "    \n",
    "    model.compile(optimizer='adam',\n",
    "                  loss='categorical_crossentropy',\n",
    "                  metrics=['accuracy'])\n",
    "    \n",
    "    print(f'Training model with batch size: {batch_size}')\n",
    "    history = model.fit(X_train, y_train, epochs=10, validation_split=0.2, batch_size=batch_size, verbose=0)\n",
    "    val_acc = history.history['val_accuracy'][-1]\n",
    "    print(f'Validation Accuracy: {val_acc}')"
   ]
  },
  {
   "cell_type": "markdown",
   "id": "82d294f0",
   "metadata": {},
   "source": [
    "## Fine-Tuning the Network Architecture\n",
    "Now with a better understanding of the hyperparameters, adjusting these aspects in practice using TensorFlow Keras"
   ]
  },
  {
   "cell_type": "code",
   "execution_count": 101,
   "id": "de081f7a",
   "metadata": {},
   "outputs": [
    {
     "name": "stdout",
     "output_type": "stream",
     "text": [
      "Epoch 1/50\n",
      "\u001b[1m41/41\u001b[0m \u001b[32m━━━━━━━━━━━━━━━━━━━━\u001b[0m\u001b[37m\u001b[0m \u001b[1m3s\u001b[0m 18ms/step - accuracy: 0.4151 - loss: 3.2577 - val_accuracy: 0.4233 - val_loss: 1.0136\n",
      "Epoch 2/50\n",
      "\u001b[1m41/41\u001b[0m \u001b[32m━━━━━━━━━━━━━━━━━━━━\u001b[0m\u001b[37m\u001b[0m \u001b[1m1s\u001b[0m 10ms/step - accuracy: 0.5247 - loss: 1.0212 - val_accuracy: 0.5399 - val_loss: 1.0553\n",
      "Epoch 3/50\n",
      "\u001b[1m41/41\u001b[0m \u001b[32m━━━━━━━━━━━━━━━━━━━━\u001b[0m\u001b[37m\u001b[0m \u001b[1m1s\u001b[0m 8ms/step - accuracy: 0.5627 - loss: 0.9973 - val_accuracy: 0.5890 - val_loss: 0.8108\n",
      "Epoch 4/50\n",
      "\u001b[1m41/41\u001b[0m \u001b[32m━━━━━━━━━━━━━━━━━━━━\u001b[0m\u001b[37m\u001b[0m \u001b[1m1s\u001b[0m 10ms/step - accuracy: 0.5368 - loss: 1.0883 - val_accuracy: 0.3497 - val_loss: 1.0520\n",
      "Epoch 5/50\n",
      "\u001b[1m41/41\u001b[0m \u001b[32m━━━━━━━━━━━━━━━━━━━━\u001b[0m\u001b[37m\u001b[0m \u001b[1m0s\u001b[0m 8ms/step - accuracy: 0.4445 - loss: 0.9814 - val_accuracy: 0.5644 - val_loss: 0.8690\n",
      "Epoch 6/50\n",
      "\u001b[1m41/41\u001b[0m \u001b[32m━━━━━━━━━━━━━━━━━━━━\u001b[0m\u001b[37m\u001b[0m \u001b[1m1s\u001b[0m 11ms/step - accuracy: 0.6171 - loss: 0.8177 - val_accuracy: 0.5276 - val_loss: 0.9672\n",
      "Epoch 7/50\n",
      "\u001b[1m41/41\u001b[0m \u001b[32m━━━━━━━━━━━━━━━━━━━━\u001b[0m\u001b[37m\u001b[0m \u001b[1m1s\u001b[0m 10ms/step - accuracy: 0.5754 - loss: 0.8539 - val_accuracy: 0.4908 - val_loss: 0.9062\n",
      "Epoch 8/50\n",
      "\u001b[1m41/41\u001b[0m \u001b[32m━━━━━━━━━━━━━━━━━━━━\u001b[0m\u001b[37m\u001b[0m \u001b[1m0s\u001b[0m 9ms/step - accuracy: 0.5485 - loss: 0.9298 - val_accuracy: 0.5521 - val_loss: 0.8461\n",
      "Epoch 9/50\n",
      "\u001b[1m41/41\u001b[0m \u001b[32m━━━━━━━━━━━━━━━━━━━━\u001b[0m\u001b[37m\u001b[0m \u001b[1m1s\u001b[0m 13ms/step - accuracy: 0.5242 - loss: 0.9115 - val_accuracy: 0.5644 - val_loss: 0.9116\n",
      "Epoch 10/50\n",
      "\u001b[1m41/41\u001b[0m \u001b[32m━━━━━━━━━━━━━━━━━━━━\u001b[0m\u001b[37m\u001b[0m \u001b[1m1s\u001b[0m 10ms/step - accuracy: 0.5235 - loss: 0.9065 - val_accuracy: 0.5460 - val_loss: 1.0477\n",
      "Epoch 11/50\n",
      "\u001b[1m41/41\u001b[0m \u001b[32m━━━━━━━━━━━━━━━━━━━━\u001b[0m\u001b[37m\u001b[0m \u001b[1m1s\u001b[0m 15ms/step - accuracy: 0.5586 - loss: 0.8716 - val_accuracy: 0.5337 - val_loss: 0.8046\n",
      "Epoch 12/50\n",
      "\u001b[1m41/41\u001b[0m \u001b[32m━━━━━━━━━━━━━━━━━━━━\u001b[0m\u001b[37m\u001b[0m \u001b[1m1s\u001b[0m 9ms/step - accuracy: 0.5917 - loss: 0.8709 - val_accuracy: 0.5153 - val_loss: 0.7912\n",
      "Epoch 13/50\n",
      "\u001b[1m41/41\u001b[0m \u001b[32m━━━━━━━━━━━━━━━━━━━━\u001b[0m\u001b[37m\u001b[0m \u001b[1m1s\u001b[0m 11ms/step - accuracy: 0.5936 - loss: 0.8916 - val_accuracy: 0.2515 - val_loss: 1.8155\n",
      "Epoch 14/50\n",
      "\u001b[1m41/41\u001b[0m \u001b[32m━━━━━━━━━━━━━━━━━━━━\u001b[0m\u001b[37m\u001b[0m \u001b[1m1s\u001b[0m 11ms/step - accuracy: 0.5172 - loss: 1.0059 - val_accuracy: 0.5031 - val_loss: 0.8708\n",
      "Epoch 15/50\n",
      "\u001b[1m41/41\u001b[0m \u001b[32m━━━━━━━━━━━━━━━━━━━━\u001b[0m\u001b[37m\u001b[0m \u001b[1m0s\u001b[0m 9ms/step - accuracy: 0.5233 - loss: 1.3538 - val_accuracy: 0.5644 - val_loss: 0.8835\n",
      "Epoch 16/50\n",
      "\u001b[1m41/41\u001b[0m \u001b[32m━━━━━━━━━━━━━━━━━━━━\u001b[0m\u001b[37m\u001b[0m \u001b[1m1s\u001b[0m 10ms/step - accuracy: 0.5934 - loss: 0.8060 - val_accuracy: 0.3067 - val_loss: 1.5341\n",
      "Epoch 17/50\n",
      "\u001b[1m41/41\u001b[0m \u001b[32m━━━━━━━━━━━━━━━━━━━━\u001b[0m\u001b[37m\u001b[0m \u001b[1m1s\u001b[0m 12ms/step - accuracy: 0.4849 - loss: 1.3294 - val_accuracy: 0.5031 - val_loss: 0.8286\n",
      "Epoch 18/50\n",
      "\u001b[1m41/41\u001b[0m \u001b[32m━━━━━━━━━━━━━━━━━━━━\u001b[0m\u001b[37m\u001b[0m \u001b[1m1s\u001b[0m 11ms/step - accuracy: 0.5528 - loss: 0.8552 - val_accuracy: 0.4785 - val_loss: 1.9365\n",
      "Epoch 19/50\n",
      "\u001b[1m41/41\u001b[0m \u001b[32m━━━━━━━━━━━━━━━━━━━━\u001b[0m\u001b[37m\u001b[0m \u001b[1m1s\u001b[0m 10ms/step - accuracy: 0.5589 - loss: 0.9569 - val_accuracy: 0.6196 - val_loss: 0.9235\n",
      "Epoch 20/50\n",
      "\u001b[1m41/41\u001b[0m \u001b[32m━━━━━━━━━━━━━━━━━━━━\u001b[0m\u001b[37m\u001b[0m \u001b[1m0s\u001b[0m 10ms/step - accuracy: 0.5912 - loss: 0.9279 - val_accuracy: 0.5583 - val_loss: 0.8921\n",
      "Epoch 21/50\n",
      "\u001b[1m41/41\u001b[0m \u001b[32m━━━━━━━━━━━━━━━━━━━━\u001b[0m\u001b[37m\u001b[0m \u001b[1m0s\u001b[0m 10ms/step - accuracy: 0.5827 - loss: 0.8754 - val_accuracy: 0.5828 - val_loss: 0.8616\n",
      "Epoch 22/50\n",
      "\u001b[1m41/41\u001b[0m \u001b[32m━━━━━━━━━━━━━━━━━━━━\u001b[0m\u001b[37m\u001b[0m \u001b[1m0s\u001b[0m 9ms/step - accuracy: 0.5776 - loss: 0.8871 - val_accuracy: 0.5399 - val_loss: 0.8355\n",
      "Epoch 23/50\n",
      "\u001b[1m41/41\u001b[0m \u001b[32m━━━━━━━━━━━━━━━━━━━━\u001b[0m\u001b[37m\u001b[0m \u001b[1m0s\u001b[0m 9ms/step - accuracy: 0.5647 - loss: 0.9184 - val_accuracy: 0.4601 - val_loss: 0.9255\n",
      "Epoch 24/50\n",
      "\u001b[1m41/41\u001b[0m \u001b[32m━━━━━━━━━━━━━━━━━━━━\u001b[0m\u001b[37m\u001b[0m \u001b[1m0s\u001b[0m 9ms/step - accuracy: 0.5746 - loss: 0.9232 - val_accuracy: 0.5215 - val_loss: 0.8968\n",
      "Epoch 25/50\n",
      "\u001b[1m41/41\u001b[0m \u001b[32m━━━━━━━━━━━━━━━━━━━━\u001b[0m\u001b[37m\u001b[0m \u001b[1m0s\u001b[0m 9ms/step - accuracy: 0.5789 - loss: 0.8798 - val_accuracy: 0.4969 - val_loss: 1.3764\n",
      "Epoch 26/50\n",
      "\u001b[1m41/41\u001b[0m \u001b[32m━━━━━━━━━━━━━━━━━━━━\u001b[0m\u001b[37m\u001b[0m \u001b[1m0s\u001b[0m 8ms/step - accuracy: 0.5740 - loss: 0.8148 - val_accuracy: 0.5276 - val_loss: 1.1571\n",
      "Epoch 27/50\n",
      "\u001b[1m41/41\u001b[0m \u001b[32m━━━━━━━━━━━━━━━━━━━━\u001b[0m\u001b[37m\u001b[0m \u001b[1m0s\u001b[0m 11ms/step - accuracy: 0.4884 - loss: 1.0386 - val_accuracy: 0.6196 - val_loss: 0.9120\n",
      "Epoch 28/50\n",
      "\u001b[1m41/41\u001b[0m \u001b[32m━━━━━━━━━━━━━━━━━━━━\u001b[0m\u001b[37m\u001b[0m \u001b[1m1s\u001b[0m 12ms/step - accuracy: 0.5963 - loss: 0.8398 - val_accuracy: 0.5031 - val_loss: 0.8423\n",
      "Epoch 29/50\n",
      "\u001b[1m41/41\u001b[0m \u001b[32m━━━━━━━━━━━━━━━━━━━━\u001b[0m\u001b[37m\u001b[0m \u001b[1m1s\u001b[0m 11ms/step - accuracy: 0.5992 - loss: 0.8256 - val_accuracy: 0.6196 - val_loss: 0.8125\n",
      "Epoch 30/50\n",
      "\u001b[1m41/41\u001b[0m \u001b[32m━━━━━━━━━━━━━━━━━━━━\u001b[0m\u001b[37m\u001b[0m \u001b[1m1s\u001b[0m 11ms/step - accuracy: 0.5786 - loss: 0.8041 - val_accuracy: 0.5092 - val_loss: 0.7799\n",
      "Epoch 31/50\n",
      "\u001b[1m41/41\u001b[0m \u001b[32m━━━━━━━━━━━━━━━━━━━━\u001b[0m\u001b[37m\u001b[0m \u001b[1m1s\u001b[0m 12ms/step - accuracy: 0.5972 - loss: 0.8618 - val_accuracy: 0.5460 - val_loss: 0.9433\n",
      "Epoch 32/50\n",
      "\u001b[1m41/41\u001b[0m \u001b[32m━━━━━━━━━━━━━━━━━━━━\u001b[0m\u001b[37m\u001b[0m \u001b[1m1s\u001b[0m 10ms/step - accuracy: 0.5374 - loss: 0.8777 - val_accuracy: 0.5337 - val_loss: 0.8237\n",
      "Epoch 33/50\n",
      "\u001b[1m41/41\u001b[0m \u001b[32m━━━━━━━━━━━━━━━━━━━━\u001b[0m\u001b[37m\u001b[0m \u001b[1m0s\u001b[0m 10ms/step - accuracy: 0.5680 - loss: 0.8693 - val_accuracy: 0.6012 - val_loss: 0.7487\n",
      "Epoch 34/50\n",
      "\u001b[1m41/41\u001b[0m \u001b[32m━━━━━━━━━━━━━━━━━━━━\u001b[0m\u001b[37m\u001b[0m \u001b[1m1s\u001b[0m 8ms/step - accuracy: 0.5592 - loss: 0.9271 - val_accuracy: 0.5092 - val_loss: 0.8590\n",
      "Epoch 35/50\n",
      "\u001b[1m41/41\u001b[0m \u001b[32m━━━━━━━━━━━━━━━━━━━━\u001b[0m\u001b[37m\u001b[0m \u001b[1m0s\u001b[0m 10ms/step - accuracy: 0.5688 - loss: 0.8078 - val_accuracy: 0.5460 - val_loss: 0.7915\n",
      "Epoch 36/50\n",
      "\u001b[1m41/41\u001b[0m \u001b[32m━━━━━━━━━━━━━━━━━━━━\u001b[0m\u001b[37m\u001b[0m \u001b[1m0s\u001b[0m 10ms/step - accuracy: 0.6335 - loss: 0.8199 - val_accuracy: 0.4969 - val_loss: 0.9739\n",
      "Epoch 37/50\n",
      "\u001b[1m41/41\u001b[0m \u001b[32m━━━━━━━━━━━━━━━━━━━━\u001b[0m\u001b[37m\u001b[0m \u001b[1m1s\u001b[0m 11ms/step - accuracy: 0.5994 - loss: 0.9155 - val_accuracy: 0.5951 - val_loss: 0.8098\n",
      "Epoch 38/50\n",
      "\u001b[1m41/41\u001b[0m \u001b[32m━━━━━━━━━━━━━━━━━━━━\u001b[0m\u001b[37m\u001b[0m \u001b[1m0s\u001b[0m 9ms/step - accuracy: 0.5491 - loss: 0.8904 - val_accuracy: 0.4847 - val_loss: 0.9209\n",
      "Epoch 39/50\n",
      "\u001b[1m41/41\u001b[0m \u001b[32m━━━━━━━━━━━━━━━━━━━━\u001b[0m\u001b[37m\u001b[0m \u001b[1m0s\u001b[0m 8ms/step - accuracy: 0.5296 - loss: 0.8644 - val_accuracy: 0.5153 - val_loss: 0.8973\n",
      "Epoch 40/50\n",
      "\u001b[1m41/41\u001b[0m \u001b[32m━━━━━━━━━━━━━━━━━━━━\u001b[0m\u001b[37m\u001b[0m \u001b[1m0s\u001b[0m 9ms/step - accuracy: 0.6033 - loss: 0.8763 - val_accuracy: 0.5767 - val_loss: 0.9297\n",
      "Epoch 41/50\n",
      "\u001b[1m41/41\u001b[0m \u001b[32m━━━━━━━━━━━━━━━━━━━━\u001b[0m\u001b[37m\u001b[0m \u001b[1m0s\u001b[0m 8ms/step - accuracy: 0.6145 - loss: 0.9151 - val_accuracy: 0.5644 - val_loss: 0.7959\n",
      "Epoch 42/50\n",
      "\u001b[1m41/41\u001b[0m \u001b[32m━━━━━━━━━━━━━━━━━━━━\u001b[0m\u001b[37m\u001b[0m \u001b[1m1s\u001b[0m 11ms/step - accuracy: 0.5698 - loss: 0.8358 - val_accuracy: 0.6380 - val_loss: 0.8063\n",
      "Epoch 43/50\n",
      "\u001b[1m41/41\u001b[0m \u001b[32m━━━━━━━━━━━━━━━━━━━━\u001b[0m\u001b[37m\u001b[0m \u001b[1m0s\u001b[0m 8ms/step - accuracy: 0.6028 - loss: 0.8442 - val_accuracy: 0.5337 - val_loss: 0.8244\n",
      "Epoch 44/50\n",
      "\u001b[1m41/41\u001b[0m \u001b[32m━━━━━━━━━━━━━━━━━━━━\u001b[0m\u001b[37m\u001b[0m \u001b[1m0s\u001b[0m 8ms/step - accuracy: 0.5931 - loss: 0.8947 - val_accuracy: 0.6258 - val_loss: 0.7739\n",
      "Epoch 45/50\n",
      "\u001b[1m41/41\u001b[0m \u001b[32m━━━━━━━━━━━━━━━━━━━━\u001b[0m\u001b[37m\u001b[0m \u001b[1m1s\u001b[0m 11ms/step - accuracy: 0.5763 - loss: 0.9801 - val_accuracy: 0.5583 - val_loss: 0.8417\n",
      "Epoch 46/50\n",
      "\u001b[1m41/41\u001b[0m \u001b[32m━━━━━━━━━━━━━━━━━━━━\u001b[0m\u001b[37m\u001b[0m \u001b[1m1s\u001b[0m 9ms/step - accuracy: 0.5452 - loss: 0.8572 - val_accuracy: 0.5337 - val_loss: 0.9068\n",
      "Epoch 47/50\n",
      "\u001b[1m41/41\u001b[0m \u001b[32m━━━━━━━━━━━━━━━━━━━━\u001b[0m\u001b[37m\u001b[0m \u001b[1m1s\u001b[0m 11ms/step - accuracy: 0.5053 - loss: 1.2695 - val_accuracy: 0.5337 - val_loss: 1.0141\n",
      "Epoch 48/50\n",
      "\u001b[1m41/41\u001b[0m \u001b[32m━━━━━━━━━━━━━━━━━━━━\u001b[0m\u001b[37m\u001b[0m \u001b[1m0s\u001b[0m 8ms/step - accuracy: 0.5589 - loss: 1.0317 - val_accuracy: 0.5583 - val_loss: 0.7884\n",
      "Epoch 49/50\n",
      "\u001b[1m41/41\u001b[0m \u001b[32m━━━━━━━━━━━━━━━━━━━━\u001b[0m\u001b[37m\u001b[0m \u001b[1m1s\u001b[0m 10ms/step - accuracy: 0.5279 - loss: 0.8825 - val_accuracy: 0.6074 - val_loss: 0.7721\n",
      "Epoch 50/50\n",
      "\u001b[1m41/41\u001b[0m \u001b[32m━━━━━━━━━━━━━━━━━━━━\u001b[0m\u001b[37m\u001b[0m \u001b[1m0s\u001b[0m 8ms/step - accuracy: 0.5852 - loss: 0.8969 - val_accuracy: 0.5092 - val_loss: 0.7469\n"
     ]
    }
   ],
   "source": [
    "from tensorflow.keras.models import Sequential\n",
    "from tensorflow.keras.layers import Dense, Dropout\n",
    "from tensorflow.keras.optimizers import RMSprop\n",
    "\n",
    "# Defining the network architecture\n",
    "model = Sequential([\n",
    "    Dense(64, activation='relu', input_shape=(X_train.shape[1],)),\n",
    "    Dropout(0.2),\n",
    "    Dense(32, activation='relu'),\n",
    "    Dropout(0.2),\n",
    "    Dense(16, activation='relu'),\n",
    "    Dense(3, activation='softmax')\n",
    "])\n",
    "\n",
    "# Compiling the model with the RMSprop optimizer (with the correct parameter)\n",
    "model.compile(optimizer=RMSprop(learning_rate=0.1),\n",
    "              loss='categorical_crossentropy',\n",
    "              metrics=['accuracy'])\n",
    "\n",
    "# Training the model\n",
    "history = model.fit(X_train, y_train,\n",
    "                    batch_size=16,\n",
    "                    epochs=50,\n",
    "                    verbose=1,\n",
    "                    validation_split=0.2)"
   ]
  },
  {
   "cell_type": "markdown",
   "id": "a6edf01d",
   "metadata": {},
   "source": [
    "- Comments\n",
    "Variation in Accuracy and Loss: There is considerable variation in accuracy and loss in both the training and validation sets across epochs. This could indicate that the model is learning, but it could also be suffering from volatility during training.\n",
    "Initial Improvement Followed by Stagnation: The model shows signs of initial improvement in terms of accuracy and loss, which is a good sign. However, there seem to be moments of stagnation or even regression in terms of performance.\n",
    "Overfitting: There is evidence of overfitting, given that in some epochs the validation loss increases while the training loss continues to decrease. This suggests that the model may be overfitting the training data."
   ]
  },
  {
   "cell_type": "markdown",
   "id": "401ce387",
   "metadata": {},
   "source": [
    "## Training Neural Networks with Callbacks"
   ]
  },
  {
   "cell_type": "code",
   "execution_count": 102,
   "id": "e6e1a179",
   "metadata": {},
   "outputs": [
    {
     "name": "stdout",
     "output_type": "stream",
     "text": [
      "Epoch 1/50\n",
      "\u001b[1m39/41\u001b[0m \u001b[32m━━━━━━━━━━━━━━━━━━━\u001b[0m\u001b[37m━\u001b[0m \u001b[1m0s\u001b[0m 7ms/step - accuracy: 0.3793 - loss: 2.4766\n",
      "Epoch 1: val_loss improved from inf to 1.30879, saving model to best_model.keras\n",
      "\u001b[1m41/41\u001b[0m \u001b[32m━━━━━━━━━━━━━━━━━━━━\u001b[0m\u001b[37m\u001b[0m \u001b[1m3s\u001b[0m 26ms/step - accuracy: 0.3812 - loss: 2.4156 - val_accuracy: 0.4663 - val_loss: 1.3088\n",
      "Epoch 2/50\n",
      "\u001b[1m35/41\u001b[0m \u001b[32m━━━━━━━━━━━━━━━━━\u001b[0m\u001b[37m━━━\u001b[0m \u001b[1m0s\u001b[0m 8ms/step - accuracy: 0.5510 - loss: 0.9800\n",
      "Epoch 2: val_loss improved from 1.30879 to 0.89589, saving model to best_model.keras\n",
      "\u001b[1m41/41\u001b[0m \u001b[32m━━━━━━━━━━━━━━━━━━━━\u001b[0m\u001b[37m\u001b[0m \u001b[1m1s\u001b[0m 14ms/step - accuracy: 0.5391 - loss: 0.9926 - val_accuracy: 0.5092 - val_loss: 0.8959\n",
      "Epoch 3/50\n",
      "\u001b[1m41/41\u001b[0m \u001b[32m━━━━━━━━━━━━━━━━━━━━\u001b[0m\u001b[37m\u001b[0m \u001b[1m0s\u001b[0m 9ms/step - accuracy: 0.5073 - loss: 1.0575\n",
      "Epoch 3: val_loss did not improve from 0.89589\n",
      "\u001b[1m41/41\u001b[0m \u001b[32m━━━━━━━━━━━━━━━━━━━━\u001b[0m\u001b[37m\u001b[0m \u001b[1m1s\u001b[0m 13ms/step - accuracy: 0.5065 - loss: 1.0580 - val_accuracy: 0.5276 - val_loss: 1.1041\n",
      "Epoch 4/50\n",
      "\u001b[1m33/41\u001b[0m \u001b[32m━━━━━━━━━━━━━━━━\u001b[0m\u001b[37m━━━━\u001b[0m \u001b[1m0s\u001b[0m 8ms/step - accuracy: 0.4933 - loss: 1.1120\n",
      "Epoch 4: val_loss did not improve from 0.89589\n",
      "\u001b[1m41/41\u001b[0m \u001b[32m━━━━━━━━━━━━━━━━━━━━\u001b[0m\u001b[37m\u001b[0m \u001b[1m1s\u001b[0m 11ms/step - accuracy: 0.4915 - loss: 1.1099 - val_accuracy: 0.5276 - val_loss: 0.9802\n",
      "Epoch 5/50\n",
      "\u001b[1m37/41\u001b[0m \u001b[32m━━━━━━━━━━━━━━━━━━\u001b[0m\u001b[37m━━\u001b[0m \u001b[1m0s\u001b[0m 8ms/step - accuracy: 0.5338 - loss: 0.9718\n",
      "Epoch 5: val_loss did not improve from 0.89589\n",
      "\u001b[1m41/41\u001b[0m \u001b[32m━━━━━━━━━━━━━━━━━━━━\u001b[0m\u001b[37m\u001b[0m \u001b[1m1s\u001b[0m 12ms/step - accuracy: 0.5314 - loss: 0.9799 - val_accuracy: 0.3742 - val_loss: 1.0127\n",
      "Epoch 6/50\n",
      "\u001b[1m41/41\u001b[0m \u001b[32m━━━━━━━━━━━━━━━━━━━━\u001b[0m\u001b[37m\u001b[0m \u001b[1m0s\u001b[0m 11ms/step - accuracy: 0.4857 - loss: 1.0269\n",
      "Epoch 6: val_loss did not improve from 0.89589\n",
      "\u001b[1m41/41\u001b[0m \u001b[32m━━━━━━━━━━━━━━━━━━━━\u001b[0m\u001b[37m\u001b[0m \u001b[1m1s\u001b[0m 18ms/step - accuracy: 0.4859 - loss: 1.0267 - val_accuracy: 0.5276 - val_loss: 1.0503\n",
      "Epoch 7/50\n",
      "\u001b[1m34/41\u001b[0m \u001b[32m━━━━━━━━━━━━━━━━\u001b[0m\u001b[37m━━━━\u001b[0m \u001b[1m0s\u001b[0m 6ms/step - accuracy: 0.5001 - loss: 1.1640\n",
      "Epoch 7: val_loss did not improve from 0.89589\n",
      "\u001b[1m41/41\u001b[0m \u001b[32m━━━━━━━━━━━━━━━━━━━━\u001b[0m\u001b[37m\u001b[0m \u001b[1m1s\u001b[0m 11ms/step - accuracy: 0.5012 - loss: 1.1521 - val_accuracy: 0.4847 - val_loss: 0.9701\n",
      "Epoch 8/50\n",
      "\u001b[1m38/41\u001b[0m \u001b[32m━━━━━━━━━━━━━━━━━━\u001b[0m\u001b[37m━━\u001b[0m \u001b[1m0s\u001b[0m 9ms/step - accuracy: 0.5041 - loss: 1.0428\n",
      "Epoch 8: val_loss improved from 0.89589 to 0.86930, saving model to best_model.keras\n",
      "\u001b[1m41/41\u001b[0m \u001b[32m━━━━━━━━━━━━━━━━━━━━\u001b[0m\u001b[37m\u001b[0m \u001b[1m1s\u001b[0m 13ms/step - accuracy: 0.5064 - loss: 1.0383 - val_accuracy: 0.5521 - val_loss: 0.8693\n",
      "Epoch 9/50\n",
      "\u001b[1m38/41\u001b[0m \u001b[32m━━━━━━━━━━━━━━━━━━\u001b[0m\u001b[37m━━\u001b[0m \u001b[1m0s\u001b[0m 9ms/step - accuracy: 0.5446 - loss: 1.0007\n",
      "Epoch 9: val_loss did not improve from 0.86930\n",
      "\u001b[1m41/41\u001b[0m \u001b[32m━━━━━━━━━━━━━━━━━━━━\u001b[0m\u001b[37m\u001b[0m \u001b[1m1s\u001b[0m 12ms/step - accuracy: 0.5436 - loss: 1.0043 - val_accuracy: 0.4908 - val_loss: 0.9392\n",
      "Epoch 10/50\n",
      "\u001b[1m39/41\u001b[0m \u001b[32m━━━━━━━━━━━━━━━━━━━\u001b[0m\u001b[37m━\u001b[0m \u001b[1m0s\u001b[0m 9ms/step - accuracy: 0.4876 - loss: 0.9849\n",
      "Epoch 10: val_loss did not improve from 0.86930\n",
      "\u001b[1m41/41\u001b[0m \u001b[32m━━━━━━━━━━━━━━━━━━━━\u001b[0m\u001b[37m\u001b[0m \u001b[1m1s\u001b[0m 13ms/step - accuracy: 0.4899 - loss: 0.9845 - val_accuracy: 0.5031 - val_loss: 0.8814\n",
      "Epoch 11/50\n",
      "\u001b[1m40/41\u001b[0m \u001b[32m━━━━━━━━━━━━━━━━━━━\u001b[0m\u001b[37m━\u001b[0m \u001b[1m0s\u001b[0m 8ms/step - accuracy: 0.5939 - loss: 0.9433\n",
      "Epoch 11: val_loss did not improve from 0.86930\n",
      "\u001b[1m41/41\u001b[0m \u001b[32m━━━━━━━━━━━━━━━━━━━━\u001b[0m\u001b[37m\u001b[0m \u001b[1m1s\u001b[0m 12ms/step - accuracy: 0.5929 - loss: 0.9413 - val_accuracy: 0.5521 - val_loss: 0.8767\n",
      "Epoch 12/50\n",
      "\u001b[1m37/41\u001b[0m \u001b[32m━━━━━━━━━━━━━━━━━━\u001b[0m\u001b[37m━━\u001b[0m \u001b[1m0s\u001b[0m 13ms/step - accuracy: 0.5518 - loss: 1.0457\n",
      "Epoch 12: val_loss improved from 0.86930 to 0.85331, saving model to best_model.keras\n",
      "\u001b[1m41/41\u001b[0m \u001b[32m━━━━━━━━━━━━━━━━━━━━\u001b[0m\u001b[37m\u001b[0m \u001b[1m1s\u001b[0m 18ms/step - accuracy: 0.5512 - loss: 1.0481 - val_accuracy: 0.5399 - val_loss: 0.8533\n",
      "Epoch 13/50\n",
      "\u001b[1m32/41\u001b[0m \u001b[32m━━━━━━━━━━━━━━━\u001b[0m\u001b[37m━━━━━\u001b[0m \u001b[1m0s\u001b[0m 7ms/step - accuracy: 0.5811 - loss: 0.9215\n",
      "Epoch 13: val_loss did not improve from 0.85331\n",
      "\u001b[1m41/41\u001b[0m \u001b[32m━━━━━━━━━━━━━━━━━━━━\u001b[0m\u001b[37m\u001b[0m \u001b[1m1s\u001b[0m 12ms/step - accuracy: 0.5753 - loss: 0.9360 - val_accuracy: 0.5767 - val_loss: 1.0358\n",
      "Epoch 14/50\n",
      "\u001b[1m32/41\u001b[0m \u001b[32m━━━━━━━━━━━━━━━\u001b[0m\u001b[37m━━━━━\u001b[0m \u001b[1m0s\u001b[0m 9ms/step - accuracy: 0.5918 - loss: 0.9792\n",
      "Epoch 14: val_loss did not improve from 0.85331\n",
      "\u001b[1m41/41\u001b[0m \u001b[32m━━━━━━━━━━━━━━━━━━━━\u001b[0m\u001b[37m\u001b[0m \u001b[1m1s\u001b[0m 11ms/step - accuracy: 0.5914 - loss: 0.9553 - val_accuracy: 0.4724 - val_loss: 1.2012\n",
      "Epoch 15/50\n",
      "\u001b[1m41/41\u001b[0m \u001b[32m━━━━━━━━━━━━━━━━━━━━\u001b[0m\u001b[37m\u001b[0m \u001b[1m0s\u001b[0m 8ms/step - accuracy: 0.5401 - loss: 1.1146\n",
      "Epoch 15: val_loss did not improve from 0.85331\n",
      "\u001b[1m41/41\u001b[0m \u001b[32m━━━━━━━━━━━━━━━━━━━━\u001b[0m\u001b[37m\u001b[0m \u001b[1m1s\u001b[0m 12ms/step - accuracy: 0.5403 - loss: 1.1136 - val_accuracy: 0.5767 - val_loss: 1.0849\n",
      "Epoch 16/50\n",
      "\u001b[1m40/41\u001b[0m \u001b[32m━━━━━━━━━━━━━━━━━━━\u001b[0m\u001b[37m━\u001b[0m \u001b[1m0s\u001b[0m 7ms/step - accuracy: 0.5843 - loss: 0.9514\n",
      "Epoch 16: val_loss did not improve from 0.85331\n",
      "\u001b[1m41/41\u001b[0m \u001b[32m━━━━━━━━━━━━━━━━━━━━\u001b[0m\u001b[37m\u001b[0m \u001b[1m1s\u001b[0m 10ms/step - accuracy: 0.5857 - loss: 0.9479 - val_accuracy: 0.5031 - val_loss: 0.9685\n",
      "Epoch 17/50\n",
      "\u001b[1m37/41\u001b[0m \u001b[32m━━━━━━━━━━━━━━━━━━\u001b[0m\u001b[37m━━\u001b[0m \u001b[1m0s\u001b[0m 6ms/step - accuracy: 0.5635 - loss: 0.9488\n",
      "Epoch 17: val_loss improved from 0.85331 to 0.81231, saving model to best_model.keras\n",
      "\u001b[1m41/41\u001b[0m \u001b[32m━━━━━━━━━━━━━━━━━━━━\u001b[0m\u001b[37m\u001b[0m \u001b[1m1s\u001b[0m 10ms/step - accuracy: 0.5652 - loss: 0.9495 - val_accuracy: 0.5583 - val_loss: 0.8123\n",
      "Epoch 18/50\n",
      "\u001b[1m40/41\u001b[0m \u001b[32m━━━━━━━━━━━━━━━━━━━\u001b[0m\u001b[37m━\u001b[0m \u001b[1m0s\u001b[0m 8ms/step - accuracy: 0.6417 - loss: 0.7972\n",
      "Epoch 18: val_loss improved from 0.81231 to 0.79785, saving model to best_model.keras\n",
      "\u001b[1m41/41\u001b[0m \u001b[32m━━━━━━━━━━━━━━━━━━━━\u001b[0m\u001b[37m\u001b[0m \u001b[1m1s\u001b[0m 13ms/step - accuracy: 0.6405 - loss: 0.7989 - val_accuracy: 0.5890 - val_loss: 0.7979\n",
      "Epoch 19/50\n",
      "\u001b[1m38/41\u001b[0m \u001b[32m━━━━━━━━━━━━━━━━━━\u001b[0m\u001b[37m━━\u001b[0m \u001b[1m0s\u001b[0m 8ms/step - accuracy: 0.6258 - loss: 0.8597\n",
      "Epoch 19: val_loss improved from 0.79785 to 0.79497, saving model to best_model.keras\n",
      "\u001b[1m41/41\u001b[0m \u001b[32m━━━━━━━━━━━━━━━━━━━━\u001b[0m\u001b[37m\u001b[0m \u001b[1m1s\u001b[0m 13ms/step - accuracy: 0.6238 - loss: 0.8608 - val_accuracy: 0.5583 - val_loss: 0.7950\n",
      "Epoch 20/50\n",
      "\u001b[1m38/41\u001b[0m \u001b[32m━━━━━━━━━━━━━━━━━━\u001b[0m\u001b[37m━━\u001b[0m \u001b[1m0s\u001b[0m 9ms/step - accuracy: 0.6365 - loss: 0.8995\n",
      "Epoch 20: val_loss improved from 0.79497 to 0.77509, saving model to best_model.keras\n",
      "\u001b[1m41/41\u001b[0m \u001b[32m━━━━━━━━━━━━━━━━━━━━\u001b[0m\u001b[37m\u001b[0m \u001b[1m1s\u001b[0m 14ms/step - accuracy: 0.6340 - loss: 0.9028 - val_accuracy: 0.5828 - val_loss: 0.7751\n",
      "Epoch 21/50\n",
      "\u001b[1m38/41\u001b[0m \u001b[32m━━━━━━━━━━━━━━━━━━\u001b[0m\u001b[37m━━\u001b[0m \u001b[1m0s\u001b[0m 7ms/step - accuracy: 0.6166 - loss: 0.8235\n",
      "Epoch 21: val_loss did not improve from 0.77509\n",
      "\u001b[1m41/41\u001b[0m \u001b[32m━━━━━━━━━━━━━━━━━━━━\u001b[0m\u001b[37m\u001b[0m \u001b[1m1s\u001b[0m 12ms/step - accuracy: 0.6160 - loss: 0.8246 - val_accuracy: 0.5031 - val_loss: 0.9928\n",
      "Epoch 22/50\n",
      "\u001b[1m38/41\u001b[0m \u001b[32m━━━━━━━━━━━━━━━━━━\u001b[0m\u001b[37m━━\u001b[0m \u001b[1m0s\u001b[0m 7ms/step - accuracy: 0.5784 - loss: 0.9489\n",
      "Epoch 22: val_loss did not improve from 0.77509\n",
      "\u001b[1m41/41\u001b[0m \u001b[32m━━━━━━━━━━━━━━━━━━━━\u001b[0m\u001b[37m\u001b[0m \u001b[1m0s\u001b[0m 9ms/step - accuracy: 0.5798 - loss: 0.9482 - val_accuracy: 0.5153 - val_loss: 0.9100\n",
      "Epoch 23/50\n",
      "\u001b[1m37/41\u001b[0m \u001b[32m━━━━━━━━━━━━━━━━━━\u001b[0m\u001b[37m━━\u001b[0m \u001b[1m0s\u001b[0m 6ms/step - accuracy: 0.6158 - loss: 0.8465\n",
      "Epoch 23: val_loss did not improve from 0.77509\n",
      "\u001b[1m41/41\u001b[0m \u001b[32m━━━━━━━━━━━━━━━━━━━━\u001b[0m\u001b[37m\u001b[0m \u001b[1m1s\u001b[0m 10ms/step - accuracy: 0.6138 - loss: 0.8492 - val_accuracy: 0.5521 - val_loss: 0.8536\n",
      "Epoch 24/50\n",
      "\u001b[1m40/41\u001b[0m \u001b[32m━━━━━━━━━━━━━━━━━━━\u001b[0m\u001b[37m━\u001b[0m \u001b[1m0s\u001b[0m 10ms/step - accuracy: 0.6290 - loss: 0.8559\n",
      "Epoch 24: val_loss did not improve from 0.77509\n",
      "\u001b[1m41/41\u001b[0m \u001b[32m━━━━━━━━━━━━━━━━━━━━\u001b[0m\u001b[37m\u001b[0m \u001b[1m1s\u001b[0m 15ms/step - accuracy: 0.6280 - loss: 0.8581 - val_accuracy: 0.5460 - val_loss: 0.8446\n",
      "Epoch 25/50\n",
      "\u001b[1m37/41\u001b[0m \u001b[32m━━━━━━━━━━━━━━━━━━\u001b[0m\u001b[37m━━\u001b[0m \u001b[1m0s\u001b[0m 7ms/step - accuracy: 0.5980 - loss: 0.8857\n",
      "Epoch 25: val_loss improved from 0.77509 to 0.74693, saving model to best_model.keras\n",
      "\u001b[1m41/41\u001b[0m \u001b[32m━━━━━━━━━━━━━━━━━━━━\u001b[0m\u001b[37m\u001b[0m \u001b[1m1s\u001b[0m 12ms/step - accuracy: 0.5990 - loss: 0.8873 - val_accuracy: 0.6380 - val_loss: 0.7469\n"
     ]
    },
    {
     "name": "stdout",
     "output_type": "stream",
     "text": [
      "Epoch 26/50\n",
      "\u001b[1m41/41\u001b[0m \u001b[32m━━━━━━━━━━━━━━━━━━━━\u001b[0m\u001b[37m\u001b[0m \u001b[1m0s\u001b[0m 8ms/step - accuracy: 0.6279 - loss: 0.8217\n",
      "Epoch 26: val_loss did not improve from 0.74693\n",
      "\u001b[1m41/41\u001b[0m \u001b[32m━━━━━━━━━━━━━━━━━━━━\u001b[0m\u001b[37m\u001b[0m \u001b[1m1s\u001b[0m 11ms/step - accuracy: 0.6279 - loss: 0.8226 - val_accuracy: 0.5092 - val_loss: 0.9913\n",
      "Epoch 27/50\n",
      "\u001b[1m34/41\u001b[0m \u001b[32m━━━━━━━━━━━━━━━━\u001b[0m\u001b[37m━━━━\u001b[0m \u001b[1m0s\u001b[0m 6ms/step - accuracy: 0.5695 - loss: 0.9526\n",
      "Epoch 27: val_loss did not improve from 0.74693\n",
      "\u001b[1m41/41\u001b[0m \u001b[32m━━━━━━━━━━━━━━━━━━━━\u001b[0m\u001b[37m\u001b[0m \u001b[1m1s\u001b[0m 9ms/step - accuracy: 0.5742 - loss: 0.9389 - val_accuracy: 0.5521 - val_loss: 0.7972\n",
      "Epoch 28/50\n",
      "\u001b[1m39/41\u001b[0m \u001b[32m━━━━━━━━━━━━━━━━━━━\u001b[0m\u001b[37m━\u001b[0m \u001b[1m0s\u001b[0m 7ms/step - accuracy: 0.6379 - loss: 0.7870\n",
      "Epoch 28: val_loss did not improve from 0.74693\n",
      "\u001b[1m41/41\u001b[0m \u001b[32m━━━━━━━━━━━━━━━━━━━━\u001b[0m\u001b[37m\u001b[0m \u001b[1m0s\u001b[0m 11ms/step - accuracy: 0.6356 - loss: 0.7906 - val_accuracy: 0.5828 - val_loss: 0.7910\n",
      "Epoch 29/50\n",
      "\u001b[1m40/41\u001b[0m \u001b[32m━━━━━━━━━━━━━━━━━━━\u001b[0m\u001b[37m━\u001b[0m \u001b[1m0s\u001b[0m 8ms/step - accuracy: 0.6089 - loss: 0.8660\n",
      "Epoch 29: val_loss did not improve from 0.74693\n",
      "\u001b[1m41/41\u001b[0m \u001b[32m━━━━━━━━━━━━━━━━━━━━\u001b[0m\u001b[37m\u001b[0m \u001b[1m1s\u001b[0m 11ms/step - accuracy: 0.6090 - loss: 0.8671 - val_accuracy: 0.6258 - val_loss: 0.7819\n",
      "Epoch 30/50\n",
      "\u001b[1m34/41\u001b[0m \u001b[32m━━━━━━━━━━━━━━━━\u001b[0m\u001b[37m━━━━\u001b[0m \u001b[1m0s\u001b[0m 8ms/step - accuracy: 0.6621 - loss: 0.7770\n",
      "Epoch 30: val_loss did not improve from 0.74693\n",
      "\u001b[1m41/41\u001b[0m \u001b[32m━━━━━━━━━━━━━━━━━━━━\u001b[0m\u001b[37m\u001b[0m \u001b[1m1s\u001b[0m 11ms/step - accuracy: 0.6522 - loss: 0.7999 - val_accuracy: 0.5399 - val_loss: 0.8326\n",
      "Epoch 31/50\n",
      "\u001b[1m38/41\u001b[0m \u001b[32m━━━━━━━━━━━━━━━━━━\u001b[0m\u001b[37m━━\u001b[0m \u001b[1m0s\u001b[0m 6ms/step - accuracy: 0.6144 - loss: 0.8642\n",
      "Epoch 31: val_loss did not improve from 0.74693\n",
      "\u001b[1m41/41\u001b[0m \u001b[32m━━━━━━━━━━━━━━━━━━━━\u001b[0m\u001b[37m\u001b[0m \u001b[1m0s\u001b[0m 8ms/step - accuracy: 0.6151 - loss: 0.8640 - val_accuracy: 0.5031 - val_loss: 1.2904\n",
      "Epoch 32/50\n",
      "\u001b[1m37/41\u001b[0m \u001b[32m━━━━━━━━━━━━━━━━━━\u001b[0m\u001b[37m━━\u001b[0m \u001b[1m0s\u001b[0m 6ms/step - accuracy: 0.6048 - loss: 1.0391\n",
      "Epoch 32: val_loss did not improve from 0.74693\n",
      "\u001b[1m41/41\u001b[0m \u001b[32m━━━━━━━━━━━━━━━━━━━━\u001b[0m\u001b[37m\u001b[0m \u001b[1m1s\u001b[0m 9ms/step - accuracy: 0.6045 - loss: 1.0297 - val_accuracy: 0.4724 - val_loss: 0.9014\n",
      "Epoch 33/50\n",
      "\u001b[1m35/41\u001b[0m \u001b[32m━━━━━━━━━━━━━━━━━\u001b[0m\u001b[37m━━━\u001b[0m \u001b[1m0s\u001b[0m 6ms/step - accuracy: 0.5840 - loss: 0.8529\n",
      "Epoch 33: val_loss did not improve from 0.74693\n",
      "\u001b[1m41/41\u001b[0m \u001b[32m━━━━━━━━━━━━━━━━━━━━\u001b[0m\u001b[37m\u001b[0m \u001b[1m1s\u001b[0m 8ms/step - accuracy: 0.5875 - loss: 0.8634 - val_accuracy: 0.5706 - val_loss: 0.7926\n",
      "Epoch 34/50\n",
      "\u001b[1m41/41\u001b[0m \u001b[32m━━━━━━━━━━━━━━━━━━━━\u001b[0m\u001b[37m\u001b[0m \u001b[1m0s\u001b[0m 6ms/step - accuracy: 0.6389 - loss: 0.8987\n",
      "Epoch 34: val_loss did not improve from 0.74693\n",
      "\u001b[1m41/41\u001b[0m \u001b[32m━━━━━━━━━━━━━━━━━━━━\u001b[0m\u001b[37m\u001b[0m \u001b[1m1s\u001b[0m 9ms/step - accuracy: 0.6380 - loss: 0.8984 - val_accuracy: 0.5890 - val_loss: 0.8071\n",
      "Epoch 35/50\n",
      "\u001b[1m41/41\u001b[0m \u001b[32m━━━━━━━━━━━━━━━━━━━━\u001b[0m\u001b[37m\u001b[0m \u001b[1m0s\u001b[0m 5ms/step - accuracy: 0.6043 - loss: 1.0339\n",
      "Epoch 35: val_loss did not improve from 0.74693\n",
      "\u001b[1m41/41\u001b[0m \u001b[32m━━━━━━━━━━━━━━━━━━━━\u001b[0m\u001b[37m\u001b[0m \u001b[1m1s\u001b[0m 8ms/step - accuracy: 0.6047 - loss: 1.0316 - val_accuracy: 0.5767 - val_loss: 0.8739\n",
      "Epoch 35: early stopping\n",
      "Restoring model weights from the end of the best epoch: 25.\n"
     ]
    }
   ],
   "source": [
    "from tensorflow.keras.models import Sequential\n",
    "from tensorflow.keras.layers import Dense, Dropout\n",
    "from tensorflow.keras.callbacks import EarlyStopping, ModelCheckpoint\n",
    "from tensorflow.keras.optimizers import RMSprop\n",
    "\n",
    "# Defining the callbacks\n",
    "early_stopping = EarlyStopping(monitor='val_loss', patience=10, verbose=1, mode='min', restore_best_weights=True)\n",
    "model_checkpoint = ModelCheckpoint('best_model.keras', monitor='val_loss', save_best_only=True, mode='min', verbose=1)\n",
    "\n",
    "callbacks_list = [early_stopping, model_checkpoint]\n",
    "\n",
    "# Building the model\n",
    "model = Sequential([\n",
    "    Dense(64, activation='relu', input_shape=(X_train.shape[1],)),\n",
    "    Dropout(0.2),\n",
    "    Dense(32, activation='relu'),\n",
    "    Dropout(0.2),\n",
    "    Dense(16, activation='relu'),\n",
    "    Dense(3, activation='softmax')\n",
    "])\n",
    "\n",
    "# Compiling the model with the RMSprop optimizer\n",
    "model.compile(optimizer=RMSprop(learning_rate=0.1),\n",
    "              loss='categorical_crossentropy',\n",
    "              metrics=['accuracy'])\n",
    "\n",
    "# Training the model with the callbacks\n",
    "history = model.fit(X_train, y_train,\n",
    "                    epochs=50,\n",
    "                    batch_size=16,\n",
    "                    validation_split=0.2,\n",
    "                    callbacks=callbacks_list,\n",
    "                    verbose=1)\n"
   ]
  },
  {
   "cell_type": "code",
   "execution_count": 56,
   "id": "b464290f",
   "metadata": {},
   "outputs": [
    {
     "name": "stdout",
     "output_type": "stream",
     "text": [
      "\u001b[1m7/7\u001b[0m \u001b[32m━━━━━━━━━━━━━━━━━━━━\u001b[0m\u001b[37m\u001b[0m \u001b[1m1s\u001b[0m 7ms/step - accuracy: 0.5331 - loss: 0.9753  \n",
      "Test loss: 0.9553058743476868, Test accuracy: 0.5320196747779846\n"
     ]
    }
   ],
   "source": [
    "from tensorflow.keras.models import load_model\n",
    "\n",
    "# Load the saved model\n",
    "model = load_model('best_model.keras')\n",
    "\n",
    "# Evaluate the loaded model on the test or validation set\n",
    "test_loss, test_accuracy = model.evaluate(X_test, y_test, verbose=1)\n",
    "print(f'Test loss: {test_loss}, Test accuracy: {test_accuracy}')"
   ]
  },
  {
   "cell_type": "markdown",
   "id": "fdb80d14",
   "metadata": {},
   "source": [
    "### Accuracy and Loss Plot"
   ]
  },
  {
   "cell_type": "code",
   "execution_count": 103,
   "id": "c54f955d",
   "metadata": {},
   "outputs": [
    {
     "data": {
      "image/png": "[encoded data removed]",
      "text/plain": [
       "<Figure size 1008x504 with 2 Axes>"
      ]
     },
     "metadata": {},
     "output_type": "display_data"
    }
   ],
   "source": [
    "import matplotlib.pyplot as plt\n",
    "\n",
    "# Accuracy\n",
    "plt.figure(figsize=(14, 7))\n",
    "plt.subplot(1, 2, 1)  # 1 row, 2 columns, position 1\n",
    "plt.plot(history.history['accuracy'], label='Training Accuracy')\n",
    "plt.plot(history.history['val_accuracy'], label='Validation Accuracy')\n",
    "plt.title('Model Accuracy')\n",
    "plt.xlabel('Epoch')\n",
    "plt.ylabel('Accuracy')\n",
    "plt.legend()\n",
    "\n",
    "# Loss\n",
    "plt.subplot(1, 2, 2)  # 1 row, 2 columns, position 2\n",
    "plt.plot(history.history['loss'], label='Training Loss')\n",
    "plt.plot(history.history['val_loss'], label='Validation Loss')\n",
    "plt.title('Model Loss')\n",
    "plt.xlabel('Epoch')\n",
    "plt.ylabel('Loss')\n",
    "plt.legend()\n",
    "\n",
    "plt.tight_layout()\n",
    "plt.show()"
   ]
  },
  {
   "cell_type": "markdown",
   "id": "8ea5c572",
   "metadata": {},
   "source": [
    "## Conclusion on RNN and ANN Model\n",
    "- Observing the accuracy results of the models, the RNN model presented 0.592, and after using hyperparameters the accuracy was 0.604. So that for ANN the accuracy obtained was 0.657 and After careful evaluation with hyperparameter adjustment, learning rate adjustment, network architecture fine-tuning, batch size adjustment and neural network training with callbacks the accuracy result was 0.532. It can be concluded that the first ANN model offers the best balance between accuracy and simplicity, so it makes sense to consider this."
   ]
  },
  {
   "cell_type": "code",
   "execution_count": null,
   "id": "ece89e36",
   "metadata": {},
   "outputs": [],
   "source": []
  }
 ],
 "metadata": {
  "kernelspec": {
   "display_name": "Python 3 (ipykernel)",
   "language": "python",
   "name": "python3"
  },
  "language_info": {
   "codemirror_mode": {
    "name": "ipython",
    "version": 3
   },
   "file_extension": ".py",
   "mimetype": "text/x-python",
   "name": "python",
   "nbconvert_exporter": "python",
   "pygments_lexer": "ipython3",
   "version": "3.10.12"
  }
 },
 "nbformat": 4,
 "nbformat_minor": 5
}
